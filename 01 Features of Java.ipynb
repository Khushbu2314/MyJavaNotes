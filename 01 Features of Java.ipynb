{
 "cells": [
  {
   "cell_type": "markdown",
   "id": "aba35453-f0fb-4b5c-9c06-d7387aec7c3b",
   "metadata": {},
   "source": [
    "## Featues of Java\n",
    "1. <strong>Simple</strong>\n",
    "   - Java is very easy to learn, and its syntax is simple, clean and easy to understand\n",
    "   - Java syntax is based on C++ (so easier for programmers to learn it after C++).\n",
    "   - Java has removed many complicated and rarely-used features, for example, explicit pointers, operator overloading, etc.\n",
    "   - There is no need to remove unreferenced objects because there is an Automatic Garbage Collection in Java.\n",
    "2. <strong>Object Oriented</strong>\n",
    "   - Java is a partially object oriented language.\n",
    "   - Java is not purely object oriented because we can not create objects when we initilize primitive datatypes.\n",
    "3. <strong>Platform Independent</strong>\n",
    "   - Java bytecode will run on any os.\n",
    "   - The bitecode is nothing but a class file which is created after compilation of source code.\n",
    "4. <strong>Secure</strong>\n",
    "   - Java is best known for its security. With Java, we can develop virus-free systems.\n",
    "   - Java is secured because:\n",
    "     - No explicit pointer\n",
    "     - Java Programs run inside a virtual machine sandbox\n",
    "5. <strong>Architecture-neutral</strong>\n",
    "   - Java is architecture neutral because there are no implementation dependent features, for example, the size of primitive types is fixed.\n",
    "   - In C programming, int data type occupies 2 bytes of memory for 32-bit architecture and 4 bytes of memory for 64-bit architecture.\n",
    "   - However, it occupies 4 bytes of memory for both 32 and 64-bit architectures in Java.\n",
    "6. <strong>Portable</strong>\n",
    "   - Java is portable because it facilitates you to carry the Java bytecode to any platform. It doesn't require any implementation.\n",
    "7. <strong>Multi-threaded</strong>\n",
    "   - A thread is like a separate program, executing concurrently.\n",
    "   - We can write Java programs that deal with many tasks at once by defining multiple threads.\n",
    "   - The main advantage of multi-threading is that it doesn't occupy memory for each thread.\n",
    "   - It shares a common memory area. Threads are important for multi-media, Web applications, etc.\n",
    "8. <strong>Dynamic</strong>\n",
    "   - Java is a dynamic language. It supports the dynamic loading of classes.\n",
    "   - It means classes are loaded on demand.\n",
    "   - It also supports functions from its native languages, i.e., C and C++."
   ]
  },
  {
   "cell_type": "code",
   "execution_count": null,
   "id": "3a0123dc-c1dd-4f2b-9e9c-82db1cc3dd2c",
   "metadata": {},
   "outputs": [],
   "source": []
  }
 ],
 "metadata": {
  "kernelspec": {
   "display_name": "Java",
   "language": "java",
   "name": "java"
  },
  "language_info": {
   "codemirror_mode": "java",
   "file_extension": ".jshell",
   "mimetype": "text/x-java-source",
   "name": "Java",
   "pygments_lexer": "java",
   "version": "17.0.10+11-LTS-240"
  }
 },
 "nbformat": 4,
 "nbformat_minor": 5
}
