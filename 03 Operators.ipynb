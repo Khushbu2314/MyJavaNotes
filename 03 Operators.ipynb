{
 "cells": [
  {
   "cell_type": "markdown",
   "id": "ee5c5fb9-0fd9-4b73-8736-1c569ff8bc2c",
   "metadata": {},
   "source": [
    "## Operators\n",
    "1. <strong>Unirary Operator</strong>\n",
    "   - Required single operands\n",
    "   - Return same datatype\n",
    "   - <strong>Types:</strong>\n",
    "     1. <strong>Prefix</strong>\n",
    "        1. Pre-increment - first increment and then use/assign\n",
    "        2. Pre-decrement - first decrement and then use/assign\n",
    "     2. <strong>Postfix</strong>\n",
    "        1. Post-increment - first use/assign and then increment\n",
    "        2. Post-decrement - first use/assign and then decrement "
   ]
  },
  {
   "cell_type": "markdown",
   "id": "27fa80a9-7a2e-409c-b624-ff931de67dad",
   "metadata": {},
   "source": [
    "#### Prefix"
   ]
  },
  {
   "cell_type": "markdown",
   "id": "930d6afa-38c5-4921-8736-deb662a4d8c3",
   "metadata": {},
   "source": [
    "##### Pre-increment"
   ]
  },
  {
   "cell_type": "code",
   "execution_count": 1,
   "id": "7dea4972-93fb-4089-8f3f-b5b777c2aee3",
   "metadata": {},
   "outputs": [
    {
     "name": "stdout",
     "output_type": "stream",
     "text": [
      "11\n"
     ]
    }
   ],
   "source": [
    "class Main{\n",
    "    public static void main(String[] args){\n",
    "        int a = 10;\n",
    "        System.out.println(++a);\n",
    "    }\n",
    "}\n",
    "Main.main(null);"
   ]
  },
  {
   "cell_type": "markdown",
   "id": "389c1b9b-7b8a-4b90-87aa-bef003fc6431",
   "metadata": {},
   "source": [
    "##### Pre-decrement"
   ]
  },
  {
   "cell_type": "code",
   "execution_count": 2,
   "id": "306beee9-a028-47e5-8c48-ac60a948d072",
   "metadata": {},
   "outputs": [
    {
     "name": "stdout",
     "output_type": "stream",
     "text": [
      "9\n"
     ]
    }
   ],
   "source": [
    "class Main{\n",
    "    public static void main(String[] args){\n",
    "        int a = 10;\n",
    "        System.out.println(--a);\n",
    "    }\n",
    "}\n",
    "Main.main(null);"
   ]
  },
  {
   "cell_type": "markdown",
   "id": "d946ca4c-3d9d-4e36-a6bc-1764372a5c36",
   "metadata": {},
   "source": [
    "#### Postfix"
   ]
  },
  {
   "cell_type": "markdown",
   "id": "52cb36d4-82b7-4f50-97d4-78d2c774ce34",
   "metadata": {},
   "source": [
    "##### Post-increment"
   ]
  },
  {
   "cell_type": "code",
   "execution_count": 9,
   "id": "0b8c2dd6-7001-48eb-86be-f9daf1ff9cbb",
   "metadata": {},
   "outputs": [
    {
     "name": "stdout",
     "output_type": "stream",
     "text": [
      "10\n"
     ]
    }
   ],
   "source": [
    "class Main{\n",
    "    public static void main(String[] args){\n",
    "        int a = 10;\n",
    "        System.out.println(a++);\n",
    "    }\n",
    "}\n",
    "Main.main(null);"
   ]
  },
  {
   "cell_type": "code",
   "execution_count": 10,
   "id": "ea561e04-0e94-4914-97e9-216e809bf959",
   "metadata": {},
   "outputs": [
    {
     "name": "stdout",
     "output_type": "stream",
     "text": [
      "10\n",
      "11\n"
     ]
    }
   ],
   "source": [
    "class Main{\n",
    "    public static void main(String[] args){\n",
    "        int a = 10;\n",
    "        System.out.println(a++);\n",
    "        System.out.println(a);\n",
    "    }\n",
    "}\n",
    "Main.main(null);"
   ]
  },
  {
   "cell_type": "markdown",
   "id": "60777fed-a7ae-4b12-8fe5-859dc246d8ef",
   "metadata": {},
   "source": [
    "##### Post-decrement"
   ]
  },
  {
   "cell_type": "code",
   "execution_count": 11,
   "id": "119074b8-902e-40ae-afd8-7b52a6ea3ee4",
   "metadata": {},
   "outputs": [
    {
     "name": "stdout",
     "output_type": "stream",
     "text": [
      "10\n"
     ]
    }
   ],
   "source": [
    "class Main{\n",
    "    public static void main(String[] args){\n",
    "        int a = 10;\n",
    "        System.out.println(a--);\n",
    "    }\n",
    "}\n",
    "Main.main(null);"
   ]
  },
  {
   "cell_type": "code",
   "execution_count": 3,
   "id": "cddbc350-a039-4caf-9a29-9567cca05a85",
   "metadata": {},
   "outputs": [
    {
     "name": "stdout",
     "output_type": "stream",
     "text": [
      "10\n",
      "9\n"
     ]
    }
   ],
   "source": [
    "class Main{\n",
    "    public static void main(String[] args){\n",
    "        int a = 10;\n",
    "        System.out.println(a--);\n",
    "        System.out.println(a);\n",
    "    }\n",
    "}\n",
    "Main.main(null);"
   ]
  },
  {
   "cell_type": "markdown",
   "id": "7fc7c30b-70ef-4ce5-b2e3-9c39e0a989e9",
   "metadata": {},
   "source": [
    "2. <strong>Arithmatic Operators</strong>\n",
    "   - it needs two operands\n",
    "   - return at least int or bigger datatype\n",
    "\n",
    "<table style=\"width:100%; line-spacing:10px; letter-spacing: 3px; font-size: 14px; text-align: center;\">\n",
    "    <tr>\n",
    "        <th>Operator Name</th>\n",
    "        <th>Symbol</th>\n",
    "    </tr>\n",
    "    <tr>\n",
    "        <td>Addition</td>\n",
    "        <td>+</td>\n",
    "    </tr>\n",
    "    <tr>\n",
    "        <td>Substration</td>\n",
    "        <td>-</td>\n",
    "    </tr>\n",
    "    <tr>\n",
    "        <td>Multiplication</td>\n",
    "        <td>*</td>\n",
    "    </tr>\n",
    "    <tr>\n",
    "        <td>Division</td>\n",
    "        <td>/</td>\n",
    "    </tr>\n",
    "    <tr>\n",
    "        <td>Modulus</td>\n",
    "        <td>%</td>\n",
    "    </tr>\n",
    "</table>"
   ]
  },
  {
   "cell_type": "markdown",
   "id": "8a7153c7-b770-48bf-bd78-49d06b412fbc",
   "metadata": {},
   "source": [
    "###### Some Examples"
   ]
  },
  {
   "cell_type": "code",
   "execution_count": 13,
   "id": "c525a437-44d2-4dad-869a-ac54c69741d3",
   "metadata": {},
   "outputs": [
    {
     "data": {
      "text/plain": [
       "15"
      ]
     },
     "execution_count": 13,
     "metadata": {},
     "output_type": "execute_result"
    }
   ],
   "source": [
    "10+5"
   ]
  },
  {
   "cell_type": "code",
   "execution_count": 14,
   "id": "281bb475-4a87-41b4-b8d6-ab54598c798f",
   "metadata": {},
   "outputs": [
    {
     "data": {
      "text/plain": [
       "5"
      ]
     },
     "execution_count": 14,
     "metadata": {},
     "output_type": "execute_result"
    }
   ],
   "source": [
    "10-5"
   ]
  },
  {
   "cell_type": "code",
   "execution_count": 15,
   "id": "6ea49386-9419-47be-8fac-e3ea18f674ae",
   "metadata": {},
   "outputs": [
    {
     "data": {
      "text/plain": [
       "50"
      ]
     },
     "execution_count": 15,
     "metadata": {},
     "output_type": "execute_result"
    }
   ],
   "source": [
    "10*5"
   ]
  },
  {
   "cell_type": "code",
   "execution_count": 16,
   "id": "8953c762-ba6e-48f5-a113-d1fbdc73f5d4",
   "metadata": {},
   "outputs": [
    {
     "data": {
      "text/plain": [
       "2"
      ]
     },
     "execution_count": 16,
     "metadata": {},
     "output_type": "execute_result"
    }
   ],
   "source": [
    "10/5"
   ]
  },
  {
   "cell_type": "code",
   "execution_count": 19,
   "id": "ec05aae9-8398-4d1c-a0a9-9c5bd1f58b21",
   "metadata": {},
   "outputs": [
    {
     "data": {
      "text/plain": [
       "1"
      ]
     },
     "execution_count": 19,
     "metadata": {},
     "output_type": "execute_result"
    }
   ],
   "source": [
    "10%3 // used to find remainder"
   ]
  },
  {
   "cell_type": "code",
   "execution_count": 18,
   "id": "8b62f7ed-4e3c-41e3-9ee5-e4a9a55299bf",
   "metadata": {},
   "outputs": [
    {
     "data": {
      "text/plain": [
       "3.3333333"
      ]
     },
     "execution_count": 18,
     "metadata": {},
     "output_type": "execute_result"
    }
   ],
   "source": [
    "10/3f"
   ]
  },
  {
   "cell_type": "markdown",
   "id": "9a87c4fe-e898-4b6b-8cf1-022dfb0203ee",
   "metadata": {},
   "source": [
    "3. <strong>Assignment Operator</strong>\n",
    "   - Used to assign values to operands/variables\n",
    "   - It return same datatype\n",
    "<table style=\"width:100%; line-spacing:10px; letter-spacing: 3px; font-size: 14px; text-align: center;\">\n",
    "    <tr>\n",
    "        <th>Operator Name</th>\n",
    "        <th>Symbol</th>\n",
    "    </tr>\n",
    "    <tr>\n",
    "        <td>Equal</td>\n",
    "        <td>=</td>\n",
    "    </tr>\n",
    "    <tr>\n",
    "        <td>Plus Equal</td>\n",
    "        <td>+=</td>\n",
    "    </tr>\n",
    "    <tr>\n",
    "        <td>Minus Equal</td>\n",
    "        <td>-=</td>\n",
    "    </tr>\n",
    "    <tr>\n",
    "        <td>Multiply Equal</td>\n",
    "        <td>*=</td>\n",
    "    </tr>\n",
    "    <tr>\n",
    "        <td>Division Equal</td>\n",
    "        <td>/=</td>\n",
    "    </tr>\n",
    "    <tr>\n",
    "        <td>Modulus Equal</td>\n",
    "        <td>%=</td>\n",
    "    </tr>\n",
    "</table>"
   ]
  },
  {
   "cell_type": "markdown",
   "id": "bf070a13-8853-47f9-8345-b697a3461c2e",
   "metadata": {},
   "source": [
    "###### Some Examples"
   ]
  },
  {
   "cell_type": "code",
   "execution_count": 129,
   "id": "6435cc5d-0ff5-46c2-bf9d-5bb0a3779219",
   "metadata": {},
   "outputs": [
    {
     "ename": "CompilationException",
     "evalue": "",
     "output_type": "error",
     "traceback": [
      "\u001b[1m\u001b[30m|   \u001b[1m\u001b[30ma = \u001b[0m\u001b[1m\u001b[30m\u001b[41ma + b\u001b[0m\u001b[1m\u001b[30m; // normal way and it's not allowed to assign double into a\u001b[0m",
      "\u001b[1m\u001b[31mincompatible types: possible lossy conversion from double to int\u001b[0m",
      ""
     ]
    }
   ],
   "source": [
    "int a = 5;\n",
    "double b = 10;\n",
    "a = a + b; // normal way and it's not allowed to assign double into a"
   ]
  },
  {
   "cell_type": "code",
   "execution_count": 105,
   "id": "5d6cbb14-ff33-4d8e-ac09-b66c1bc1a2d1",
   "metadata": {},
   "outputs": [
    {
     "data": {
      "text/plain": [
       "15"
      ]
     },
     "execution_count": 105,
     "metadata": {},
     "output_type": "execute_result"
    }
   ],
   "source": [
    "int a = 5;\n",
    "double b = 10;\n",
    "a += b;"
   ]
  },
  {
   "cell_type": "code",
   "execution_count": 106,
   "id": "538ec925-2831-4a2c-9fb1-ea2d9fd1e58f",
   "metadata": {},
   "outputs": [
    {
     "data": {
      "text/plain": [
       "-5"
      ]
     },
     "execution_count": 106,
     "metadata": {},
     "output_type": "execute_result"
    }
   ],
   "source": [
    "int a = 5;\n",
    "double b = 10;\n",
    "a -= b;"
   ]
  },
  {
   "cell_type": "code",
   "execution_count": 107,
   "id": "f75b2676-887a-4cd7-8d55-291dd4f54033",
   "metadata": {},
   "outputs": [
    {
     "data": {
      "text/plain": [
       "50"
      ]
     },
     "execution_count": 107,
     "metadata": {},
     "output_type": "execute_result"
    }
   ],
   "source": [
    "int a = 5;\n",
    "double b = 10;\n",
    "a *= b;"
   ]
  },
  {
   "cell_type": "code",
   "execution_count": 108,
   "id": "50e1c1b5-d3f4-4acf-a748-f5620d4a3240",
   "metadata": {},
   "outputs": [
    {
     "data": {
      "text/plain": [
       "0"
      ]
     },
     "execution_count": 108,
     "metadata": {},
     "output_type": "execute_result"
    }
   ],
   "source": [
    "int a = 5;\n",
    "double b = 10;\n",
    "a /= b;"
   ]
  },
  {
   "cell_type": "code",
   "execution_count": 109,
   "id": "f321ee68-a8f7-4fcc-a3a2-7ad22684cab3",
   "metadata": {},
   "outputs": [
    {
     "data": {
      "text/plain": [
       "5"
      ]
     },
     "execution_count": 109,
     "metadata": {},
     "output_type": "execute_result"
    }
   ],
   "source": [
    "int a = 5;\n",
    "double b = 10;\n",
    "a %= b;"
   ]
  },
  {
   "cell_type": "markdown",
   "id": "0229cde8-2e33-4d64-a8d4-c7dd603cb23d",
   "metadata": {},
   "source": [
    "4. <strong>Relational Operators</strong>\n",
    "   - Used to compare two objects/operands.\n",
    "   - It returns boolean value on the basis of comparison.\n",
    "   - It compares on the basis of memory(stored in heap meomory and the data is stored by hashcode of that given data. The hashcodes are arranged by ascending order and on the basis of arrangements objects are compared. The hashcodes stored in heap memory is known as Hash Table)\n",
    "<table style=\"width:100%; line-spacing:10px; letter-spacing: 3px; font-size: 14px; text-align: center;\">\n",
    "    <tr>\n",
    "        <th>Operator Name</th>\n",
    "        <th>Symbol</th>\n",
    "    </tr>\n",
    "    <tr>\n",
    "        <td>Less than</td>\n",
    "        <td>< </td>\n",
    "    </tr>\n",
    "    <tr>\n",
    "        <td>Greater  than</td>\n",
    "        <td> > </td>\n",
    "    </tr>\n",
    "    <tr>\n",
    "        <td>Less than Equal to</td>\n",
    "        <td> <= </td>\n",
    "    </tr>\n",
    "    <tr>\n",
    "        <td>Greater than Equal to</td>\n",
    "        <td> >= </td>\n",
    "    </tr>\n",
    "    <tr>\n",
    "        <td>Not Equal</td>\n",
    "        <td> != </td>\n",
    "    </tr>\n",
    "    <tr>\n",
    "        <td>Double Equal</td>\n",
    "        <td> == </td>\n",
    "    </tr>\n",
    "</table>"
   ]
  },
  {
   "cell_type": "markdown",
   "id": "5e0adff3-7a2e-46b3-95fb-a93b4c51a060",
   "metadata": {},
   "source": [
    "###### Some Examples"
   ]
  },
  {
   "cell_type": "code",
   "execution_count": 110,
   "id": "c3d67cb2-907a-426a-a2ca-d57c594ec88f",
   "metadata": {},
   "outputs": [
    {
     "data": {
      "text/plain": [
       "false"
      ]
     },
     "execution_count": 110,
     "metadata": {},
     "output_type": "execute_result"
    }
   ],
   "source": [
    "10<5"
   ]
  },
  {
   "cell_type": "code",
   "execution_count": 111,
   "id": "86563944-aff5-40d9-b08a-871de40ab53d",
   "metadata": {},
   "outputs": [
    {
     "data": {
      "text/plain": [
       "true"
      ]
     },
     "execution_count": 111,
     "metadata": {},
     "output_type": "execute_result"
    }
   ],
   "source": [
    "10>5"
   ]
  },
  {
   "cell_type": "code",
   "execution_count": 112,
   "id": "4505f396-74cd-429d-af48-65eecbdaa89a",
   "metadata": {},
   "outputs": [
    {
     "data": {
      "text/plain": [
       "true"
      ]
     },
     "execution_count": 112,
     "metadata": {},
     "output_type": "execute_result"
    }
   ],
   "source": [
    "5<=5"
   ]
  },
  {
   "cell_type": "code",
   "execution_count": 113,
   "id": "3cd16f07-62aa-4216-a66c-fe59bb182980",
   "metadata": {},
   "outputs": [
    {
     "data": {
      "text/plain": [
       "true"
      ]
     },
     "execution_count": 113,
     "metadata": {},
     "output_type": "execute_result"
    }
   ],
   "source": [
    "15>=14"
   ]
  },
  {
   "cell_type": "code",
   "execution_count": 114,
   "id": "bbfa7572-893b-4419-b7fe-37e42a1f1360",
   "metadata": {},
   "outputs": [
    {
     "data": {
      "text/plain": [
       "true"
      ]
     },
     "execution_count": 114,
     "metadata": {},
     "output_type": "execute_result"
    }
   ],
   "source": [
    "5!=6"
   ]
  },
  {
   "cell_type": "code",
   "execution_count": 115,
   "id": "553843d1-5b39-40e5-ae53-77a11d34f0b2",
   "metadata": {},
   "outputs": [
    {
     "data": {
      "text/plain": [
       "true"
      ]
     },
     "execution_count": 115,
     "metadata": {},
     "output_type": "execute_result"
    }
   ],
   "source": [
    "45 == 45"
   ]
  },
  {
   "cell_type": "markdown",
   "id": "b43a6cd4-c2b0-4e42-9961-6843dd7c27c4",
   "metadata": {},
   "source": [
    "5. <strong>Logical Operators</strong>\n",
    "   - It is used to perform multiple comparisons.\n",
    "   - it returns boolean value on the basis of comparisons.\n",
    "<table style=\"width:100%; line-spacing:10px; letter-spacing: 3px; font-size: 14px; text-align: center;\">\n",
    "    <tr>\n",
    "        <th>Operator Name</th>\n",
    "        <th>Symbol</th>\n",
    "    </tr>\n",
    "    <tr>\n",
    "        <td>Logical AND</td>\n",
    "        <td> && </td>\n",
    "    </tr>\n",
    "    <tr>\n",
    "        <td>Logical OR</td>\n",
    "        <td> || </td>\n",
    "    </tr>\n",
    "    <tr>\n",
    "        <td>Logical NOT</td>\n",
    "        <td> ! </td>\n",
    "    </tr>\n",
    "</table>"
   ]
  },
  {
   "cell_type": "markdown",
   "id": "4c195f0b-a36e-4e2a-9e1c-75ef8350ce39",
   "metadata": {},
   "source": [
    "###### Some Examples"
   ]
  },
  {
   "cell_type": "code",
   "execution_count": 116,
   "id": "7a03eeeb-9faa-406a-8462-9933b8717502",
   "metadata": {},
   "outputs": [
    {
     "data": {
      "text/plain": [
       "true"
      ]
     },
     "execution_count": 116,
     "metadata": {},
     "output_type": "execute_result"
    }
   ],
   "source": [
    "true && true"
   ]
  },
  {
   "cell_type": "code",
   "execution_count": 117,
   "id": "c892b407-977d-4a32-955a-3c57a61441a0",
   "metadata": {},
   "outputs": [
    {
     "data": {
      "text/plain": [
       "true"
      ]
     },
     "execution_count": 117,
     "metadata": {},
     "output_type": "execute_result"
    }
   ],
   "source": [
    "true || false"
   ]
  },
  {
   "cell_type": "code",
   "execution_count": 118,
   "id": "08cfa9f8-51af-4013-b0ec-b277635a10db",
   "metadata": {},
   "outputs": [
    {
     "data": {
      "text/plain": [
       "false"
      ]
     },
     "execution_count": 118,
     "metadata": {},
     "output_type": "execute_result"
    }
   ],
   "source": [
    "!true"
   ]
  },
  {
   "cell_type": "markdown",
   "id": "c2e58b20-18e4-439c-a385-daf37b840b88",
   "metadata": {},
   "source": [
    "5. <strong>Shift Operator</strong>\n",
    "<table style=\"width:100%; line-spacing:10px; letter-spacing: 3px; font-size: 14px; text-align: center;\">\n",
    "    <tr>\n",
    "        <th>Operator Name</th>\n",
    "        <th>Symbol</th>\n",
    "    </tr>\n",
    "    <tr>\n",
    "        <td>Left Shift</td>\n",
    "        <td> << </td>\n",
    "    </tr>\n",
    "    <tr>\n",
    "        <td>Right Shift</td>\n",
    "        <td> >> </td>\n",
    "    </tr>\n",
    "</table>"
   ]
  },
  {
   "cell_type": "code",
   "execution_count": 119,
   "id": "3a0b8f1b-868d-4c76-889d-f9b034b08ef6",
   "metadata": {},
   "outputs": [
    {
     "data": {
      "text/plain": [
       "100"
      ]
     },
     "execution_count": 119,
     "metadata": {},
     "output_type": "execute_result"
    }
   ],
   "source": [
    "25<<2"
   ]
  },
  {
   "cell_type": "code",
   "execution_count": 120,
   "id": "ab5bc435-8e4f-4e92-b26f-6436a4a421c5",
   "metadata": {},
   "outputs": [
    {
     "data": {
      "text/plain": [
       "6"
      ]
     },
     "execution_count": 120,
     "metadata": {},
     "output_type": "execute_result"
    }
   ],
   "source": [
    "25>>2"
   ]
  },
  {
   "cell_type": "markdown",
   "id": "8d4884c7-6103-4dfb-b7cd-f08674d2c98b",
   "metadata": {},
   "source": [
    "6. <strong>Bitwise Operator</strong>\n",
    "    <table style=\"width:100%; line-spacing:10px; letter-spacing: 3px; font-size: 14px; text-align: center;\">\n",
    "    <tr>\n",
    "        <th>Operator Name</th>\n",
    "        <th>Symbol</th>\n",
    "        <th>Example</th>\n",
    "    </tr>\n",
    "    <tr>\n",
    "        <td>Bitwise AND</td>\n",
    "        <td> & </td>\n",
    "        <td> 5 & 1 = 101 & 001 = 001 = 1</td>\n",
    "    </tr>\n",
    "    <tr>\n",
    "        <td>Bitwise OR</td>\n",
    "        <td> | </td>\n",
    "        <td>5 | 1 = 101 | 001 = 101 = 5</td>\n",
    "    </tr>\n",
    "    <tr>\n",
    "        <td>Bitwise XOR</td>\n",
    "        <td> ^ </td>\n",
    "        <td>5 ^ 1 = 101 ^ 001 = 100 = 4</td>\n",
    "    </tr>\n",
    "</table>\n",
    "\n",
    "<br>\n",
    "\n",
    "<h4>Inputs and correspondence outputs of bitwise operators</h4>\n",
    "\n",
    "<table style=\"width:100%; line-spacing:10px; letter-spacing: 3px; font-size: 14px; text-align: center;\">\n",
    "    <tr>\n",
    "        <th colspan=\"3\">Bitwise AND (&)</th>\n",
    "    </tr>\n",
    "    <tr>\n",
    "        <th colspan=\"2\">Input</th>\n",
    "        <th>Output</th>\n",
    "    </tr>\n",
    "    <tr>\n",
    "        <td>1</td>\n",
    "        <td>1</td>\n",
    "        <td>1</td>\n",
    "    </tr>\n",
    "    <tr>\n",
    "        <td>1</td>\n",
    "        <td>0</td>\n",
    "        <td>0</td>\n",
    "    </tr>\n",
    "    <tr>\n",
    "        <td>0</td>\n",
    "        <td>1</td>\n",
    "        <td>0</td>\n",
    "    </tr>\n",
    "    <tr>\n",
    "        <td>0</td>\n",
    "        <td>0</td>\n",
    "        <td>0</td>\n",
    "    </tr>\n",
    "</table>\n",
    "\n",
    "<table style=\"width:100%; line-spacing:10px; letter-spacing: 3px; font-size: 14px; text-align: center;\">\n",
    "    <tr>\n",
    "        <th colspan=\"3\">Bitwise OR (|)</th>\n",
    "    </tr>\n",
    "    <tr>\n",
    "        <th colspan=\"2\">Input</th>\n",
    "        <th>Output</th>\n",
    "    </tr>\n",
    "    <tr>\n",
    "        <td>1</td>\n",
    "        <td>1</td>\n",
    "        <td>1</td>\n",
    "    </tr>\n",
    "    <tr>\n",
    "        <td>1</td>\n",
    "        <td>0</td>\n",
    "        <td>1</td>\n",
    "    </tr>\n",
    "    <tr>\n",
    "        <td>0</td>\n",
    "        <td>1</td>\n",
    "        <td>1</td>\n",
    "    </tr>\n",
    "    <tr>\n",
    "        <td>0</td>\n",
    "        <td>0</td>\n",
    "        <td>0</td>\n",
    "    </tr>\n",
    "</table>\n",
    "\n",
    "<table style=\"width:100%; line-spacing:10px; letter-spacing: 3px; font-size: 14px; text-align: center;\">\n",
    "    <tr>\n",
    "        <th colspan=\"3\">Bitwise XOR (^)</th>\n",
    "    </tr>\n",
    "    <tr>\n",
    "        <th colspan=\"2\">Input</th>\n",
    "        <th>Output</th>\n",
    "    </tr>\n",
    "    <tr>\n",
    "        <td>1</td>\n",
    "        <td>1</td>\n",
    "        <td>0</td>\n",
    "    </tr>\n",
    "    <tr>\n",
    "        <td>1</td>\n",
    "        <td>0</td>\n",
    "        <td>1</td>\n",
    "    </tr>\n",
    "    <tr>\n",
    "        <td>0</td>\n",
    "        <td>1</td>\n",
    "        <td>1</td>\n",
    "    </tr>\n",
    "    <tr>\n",
    "        <td>0</td>\n",
    "        <td>0</td>\n",
    "        <td>0</td>\n",
    "    </tr>\n",
    "</table>\n",
    "<hr>"
   ]
  },
  {
   "cell_type": "markdown",
   "id": "28fcf225-10e7-4f5c-ad71-76fb9eb1abe6",
   "metadata": {},
   "source": [
    "## Programs on Operators"
   ]
  },
  {
   "cell_type": "markdown",
   "id": "be6d39e4-f591-4f1a-ab4e-5132b727bbae",
   "metadata": {},
   "source": [
    "##### WAP to find last digit of a number"
   ]
  },
  {
   "cell_type": "code",
   "execution_count": 121,
   "id": "fec8598b-1f13-47f5-970c-4bdff1e77da6",
   "metadata": {},
   "outputs": [
    {
     "name": "stdout",
     "output_type": "stream",
     "text": [
      "5\n"
     ]
    }
   ],
   "source": [
    "class LastDigit{\n",
    "    public static void main(String[] args){\n",
    "        int a = 25;\n",
    "        System.out.println(a%10); // %10 is used to find last digit of number\n",
    "    }\n",
    "}\n",
    "LastDigit.main(null);"
   ]
  },
  {
   "cell_type": "markdown",
   "id": "bf1c53fa-51f0-4fc9-b29b-ff657087d545",
   "metadata": {},
   "source": [
    "##### WAP to find second last digit of given number"
   ]
  },
  {
   "cell_type": "code",
   "execution_count": 130,
   "id": "9c91cf1d-a8e7-4225-bcbd-2efc269220a4",
   "metadata": {},
   "outputs": [
    {
     "name": "stdout",
     "output_type": "stream",
     "text": [
      "2\n"
     ]
    }
   ],
   "source": [
    "class SecondLastDigit{\n",
    "    public static void main(String[] args){\n",
    "        int a = 50125;\n",
    "        System.out.println(a%100/10); // %100 is used to find last two digits of number and \n",
    "                                     // then /10 is used to find second last digit of a number\n",
    "    }\n",
    "}\n",
    "SecondLastDigit.main(null);"
   ]
  },
  {
   "cell_type": "markdown",
   "id": "5b6d5199-71d1-46ce-ac95-2fe28f3850ac",
   "metadata": {},
   "source": [
    "##### WAP to perform addition of a number without using '+' operator"
   ]
  },
  {
   "cell_type": "code",
   "execution_count": 123,
   "id": "16427f2f-a556-42fc-a6f2-c9d05ded8e20",
   "metadata": {},
   "outputs": [
    {
     "name": "stdout",
     "output_type": "stream",
     "text": [
      "10\n"
     ]
    }
   ],
   "source": [
    "class Addition{\n",
    "    public static void main(String[] args){\n",
    "        int number1 = 5;\n",
    "        int number2 = 5;\n",
    "        System.out.println( number1 - ( -number2 ) ); \n",
    "    }\n",
    "}\n",
    "Addition.main(null);"
   ]
  },
  {
   "cell_type": "markdown",
   "id": "ed735ba8-1b86-4a9b-ae91-4e2eb21e5b69",
   "metadata": {},
   "source": [
    "##### WAP to find simple interest"
   ]
  },
  {
   "cell_type": "code",
   "execution_count": 124,
   "id": "69b0215f-1535-4f88-9ea8-59b1af7e27df",
   "metadata": {},
   "outputs": [
    {
     "name": "stdout",
     "output_type": "stream",
     "text": [
      "1580.575625\n"
     ]
    }
   ],
   "source": [
    "class SimpleInterest{\n",
    "    public static void main(String[] args){\n",
    "        double principleAmount = 1542.025;\n",
    "        double interestRate = 10.25;\n",
    "        double year = 10;\n",
    "        System.out.println(\n",
    "            principleAmount * interestRate * year / 100\n",
    "        );\n",
    "    }\n",
    "}\n",
    "SimpleInterest.main(null);"
   ]
  },
  {
   "cell_type": "markdown",
   "id": "de93a304-abef-4a7e-b023-87e23be46bc3",
   "metadata": {},
   "source": [
    "##### WAP to find compound interest"
   ]
  },
  {
   "cell_type": "code",
   "execution_count": 125,
   "id": "6ad29184-4680-4a26-9f91-eca8938a9779",
   "metadata": {},
   "outputs": [
    {
     "name": "stdout",
     "output_type": "stream",
     "text": [
      "33280.00547013001\n"
     ]
    }
   ],
   "source": [
    "class CompoundInterest{\n",
    "    public static void main(String[] args){\n",
    "        double principleAmount = 154269.25;\n",
    "        double interestRate = 10.26;\n",
    "        double year = 2;\n",
    "        double compoundInterest = principleAmount * Math.pow(1+interestRate/100, year) - principleAmount;\n",
    "        System.out.println(compoundInterest);\n",
    "    }\n",
    "}\n",
    "CompoundInterest.main(null);"
   ]
  },
  {
   "cell_type": "markdown",
   "id": "16fdc4f0-91d9-4600-819b-b384bdf1ed13",
   "metadata": {},
   "source": [
    "##### WAP to find diagonal"
   ]
  },
  {
   "cell_type": "code",
   "execution_count": 126,
   "id": "46ee2241-9581-4e40-b711-81869b0f68fe",
   "metadata": {},
   "outputs": [
    {
     "name": "stdout",
     "output_type": "stream",
     "text": [
      "10.0\n"
     ]
    }
   ],
   "source": [
    "class Diagonal{\n",
    "    public static void main(String[] args){\n",
    "        int firstSide = 8;\n",
    "        int secondSide = 6;\n",
    "        System.out.println(\n",
    "            Math.sqrt(\n",
    "                Math.pow(firstSide,2) + Math.pow(secondSide,2)\n",
    "            )\n",
    "        );\n",
    "    }\n",
    "}\n",
    "Diagonal.main(null);"
   ]
  },
  {
   "cell_type": "markdown",
   "id": "55787c8a-cff1-4ed3-b21d-43966132c631",
   "metadata": {},
   "source": [
    "##### WAP to find area of irregular rectangle"
   ]
  },
  {
   "cell_type": "code",
   "execution_count": 131,
   "id": "07f054df-0433-4324-a523-db0aca40a1ab",
   "metadata": {},
   "outputs": [
    {
     "name": "stdout",
     "output_type": "stream",
     "text": [
      "518.0281734178798\n"
     ]
    }
   ],
   "source": [
    "class AreaOfQuadrilateral{\n",
    "    public static void main(String[] args){\n",
    "        double firstSide = 14;\n",
    "        double secondSide = 23;\n",
    "        double thirdSide = 17; // opposite side of first side\n",
    "        double fourthSide = 22; // opposite side of second side\n",
    "\n",
    "        double semiParameter = (firstSide + secondSide + thirdSide + fourthSide)/2;\n",
    "\n",
    "        double firstTriangleArea = Math.sqrt(\n",
    "            (semiParameter - firstSide) * (semiParameter - secondSide) * \n",
    "            (semiParameter - thirdSide) * (semiParameter - fourthSide)\n",
    "        );\n",
    "        double secondTriangleArea = Math.sqrt(\n",
    "            (semiParameter - secondSide) * (semiParameter - thirdSide) * \n",
    "            (semiParameter - firstSide - fourthSide) * (semiParameter - firstSide + fourthSide)\n",
    "        );\n",
    "        System.out.println(firstTriangleArea + secondTriangleArea);\n",
    "    }\n",
    "}\n",
    "AreaOfQuadrilateral.main(null);"
   ]
  },
  {
   "cell_type": "code",
   "execution_count": 134,
   "id": "430ff28d-1a4f-4ee7-9d2a-a09064271bb3",
   "metadata": {},
   "outputs": [
    {
     "data": {
      "text/plain": [
       "4"
      ]
     },
     "execution_count": 134,
     "metadata": {},
     "output_type": "execute_result"
    }
   ],
   "source": [
    "5^1"
   ]
  },
  {
   "cell_type": "code",
   "execution_count": null,
   "id": "765d59b6-94ca-40f2-87bf-2f9407f07813",
   "metadata": {},
   "outputs": [],
   "source": []
  }
 ],
 "metadata": {
  "kernelspec": {
   "display_name": "Java",
   "language": "java",
   "name": "java"
  },
  "language_info": {
   "codemirror_mode": "java",
   "file_extension": ".jshell",
   "mimetype": "text/x-java-source",
   "name": "Java",
   "pygments_lexer": "java",
   "version": "17.0.10+11-LTS-240"
  }
 },
 "nbformat": 4,
 "nbformat_minor": 5
}
