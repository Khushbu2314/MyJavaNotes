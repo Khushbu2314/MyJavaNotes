{
 "cells": [
  {
   "cell_type": "markdown",
   "id": "e278c388-2920-45a5-b3bf-652d65cf8ad0",
   "metadata": {},
   "source": [
    "# Control Structure\n",
    "- Used to control application, or to control flow of thr execution.\n",
    "- Using control statement we can execute code as per our requirements.\n",
    "  1. if condition\n",
    "     - if keyword is used to define if statement\n",
    "     - syntax:\n",
    "       ```java\n",
    "       if(condition){\n",
    "           //statement\n",
    "       }\n",
    "       ```\n",
    "     - It needed boolean values to execute if statement. And to created boolean value we need the relational and logical operators.\n",
    "  2. if-else condition\n",
    "     - if and else keyword is used to define if else statement\n",
    "     - syntax:\n",
    "       ```java\n",
    "       if(condition){\n",
    "           //statement\n",
    "       } else {\n",
    "           //statement\n",
    "       }\n",
    "       ```\n",
    "     - It needed boolean values to execute if statement. And to created boolean value we need the relational and logical operators.\n",
    "     - Here else part is optional and we can say it is alternative to if. If the condition is false then else block will be executed.\n",
    "  3. if-else-if condition\n",
    "     - It is also known as ladder if statement.\n",
    "     - It is used to perform multiple operations.\n",
    "     - Syntax:\n",
    "       ```java\n",
    "       if(condition){\n",
    "           //statements\n",
    "       }else if(condition){\n",
    "           //statements\n",
    "       }else{\n",
    "           //statements\n",
    "       }\n",
    "       ```\n",
    "  4. Nested if condition\n",
    "     - Layers of if statements is known as nested if statement.\n",
    "     - it is mainly used to perform minimum operations.\n",
    "     - syantax:\n",
    "       ```java\n",
    "       if(condition){\n",
    "           if(condition){\n",
    "               if(condition){\n",
    "                   //statements\n",
    "               }\n",
    "               //statements\n",
    "           }\n",
    "           //statements\n",
    "       }\n",
    "       ```\n",
    "  5. Swithch statements\n",
    "     - syntax:\n",
    "       ```java\n",
    "       switch(variable){\n",
    "               case 1: //statements\n",
    "                     break;\n",
    "               case 2: //statements\n",
    "                     break;\n",
    "               case 3: //statements\n",
    "                     break;\n",
    "               case 4: //statements\n",
    "                     break;\n",
    "               case 5: //statements\n",
    "                     break;\n",
    "               case 6: //statements\n",
    "                     break;\n",
    "               .\n",
    "               .\n",
    "               .\n",
    "               .\n",
    "               .\n",
    "               case n: //statements\n",
    "                     break;\n",
    "               default: //statements\n",
    "                     break;\n",
    "       }\n",
    "    - ```switch, case, break, default``` keyword is used to define switch statement.\n",
    "    - if break is not used & if any case is statisfied then next case will directly executed implicitly hence break keyword is required.\n",
    "    - Switch statement is known as fasted control structure because of\n",
    "      1. In this onlu=y single variable is passed.\n",
    "      2. In this no operator is used.\n",
    "      3. It always conpare based on values.\n",
    "  6. Ternary operator(Special condition)\n",
    "     - It is shorthand of if-else statement.\n",
    "     - syntax:\n",
    "       ```java\n",
    "       datatype variable = (condition)? statement1: statement2;\n",
    "       ```"
   ]
  },
  {
   "cell_type": "markdown",
   "id": "33e29f85-74c2-4bd9-82e4-ece5752a15ef",
   "metadata": {},
   "source": [
    "###### WAP to find greatest number using three variable"
   ]
  },
  {
   "cell_type": "code",
   "execution_count": 1,
   "id": "a394635c-473b-4c99-b220-7f8ab25af8ad",
   "metadata": {},
   "outputs": [
    {
     "name": "stdout",
     "output_type": "stream",
     "text": [
      "30 is greatest\n"
     ]
    }
   ],
   "source": [
    "int a = 10, b = 20, c = 30;\n",
    "int result = (a>b && a>c)?  a : (b>c) ? b : c;\n",
    "System.out.println(result+\" is greatest\");"
   ]
  },
  {
   "cell_type": "markdown",
   "id": "b81fd3e7-321d-45d9-ab82-b5a2a84bada3",
   "metadata": {},
   "source": [
    "###### WAP to find greatest number using four variable¶"
   ]
  },
  {
   "cell_type": "code",
   "execution_count": 2,
   "id": "2ed905fc-febc-437a-a90d-52052d0a9997",
   "metadata": {},
   "outputs": [
    {
     "name": "stdout",
     "output_type": "stream",
     "text": [
      "40 is greatest\n"
     ]
    }
   ],
   "source": [
    "int a = 10, b = 20, c = 30, d = 40;\n",
    "int result1 = a>b ? a : b;\n",
    "int result2 = c>d ? c : d;\n",
    "int solution = (result1>result2)? result1 : result2;\n",
    "System.out.println(solution+\" is greatest\");"
   ]
  },
  {
   "cell_type": "markdown",
   "id": "d7629154-bf48-41cc-9d1f-836bc93b9c97",
   "metadata": {},
   "source": [
    "###### WAP to find greatest number using five variable¶"
   ]
  },
  {
   "cell_type": "code",
   "execution_count": 3,
   "id": "0bdbecdd-62b5-48bb-8ab6-b392940c88a4",
   "metadata": {},
   "outputs": [
    {
     "name": "stdout",
     "output_type": "stream",
     "text": [
      "60 is greatest\n"
     ]
    }
   ],
   "source": [
    "int a = 10, b = 20, c = 30, d = 60, e = 50;\n",
    "int result1 = a>b ? a : b;\n",
    "int result2 = c>d ? c : d;\n",
    "int solution = (result1>result2)? result1 : result2;\n",
    "System.out.println(\n",
    "    ((solution>e)? solution : e)+\" is greatest\"\n",
    ");"
   ]
  },
  {
   "cell_type": "markdown",
   "id": "b95b05e3-8d1e-42f6-b5e7-d9eac1f50a4f",
   "metadata": {},
   "source": [
    "###### WAP to find greatest number using six variable¶"
   ]
  },
  {
   "cell_type": "code",
   "execution_count": 4,
   "id": "f08e9011-faba-4281-9a74-e7ed18689ebe",
   "metadata": {},
   "outputs": [
    {
     "name": "stdout",
     "output_type": "stream",
     "text": [
      "80 is greatest\n"
     ]
    }
   ],
   "source": [
    "int a = 10, b = 20, c = 20, d = 80, e = 50, f = 60;\n",
    "int result1 = a>b ? a : b;\n",
    "int result2 = c>d ? c : d;\n",
    "int result3 = e>f ? e : f;\n",
    "\n",
    "int solution = (result1>result2 && result1>result3)? result1 : (result2>result3)? result2:result3;\n",
    "System.out.println(solution+\" is greatest\");"
   ]
  },
  {
   "cell_type": "markdown",
   "id": "2e605b2c-e9c5-440d-8ec4-5cd70d66b34e",
   "metadata": {},
   "source": [
    "###### Some examples"
   ]
  },
  {
   "cell_type": "code",
   "execution_count": 5,
   "id": "8e5605ec-4204-4767-a003-4fbe59437c9a",
   "metadata": {},
   "outputs": [
    {
     "name": "stdout",
     "output_type": "stream",
     "text": [
      "1\n",
      "0\n",
      "1\n",
      "0\n",
      "1\n",
      "0\n",
      "1\n",
      "0\n",
      "1\n",
      "0\n"
     ]
    }
   ],
   "source": [
    "int n = 10;\n",
    "for(int i = 1; i<=n; i++)\n",
    "    if(i%2==0)\n",
    "        System.out.println(0);\n",
    "    else\n",
    "        System.out.println(1);"
   ]
  },
  {
   "cell_type": "code",
   "execution_count": 6,
   "id": "835966d4-6214-4d57-95ec-9acaebf182e3",
   "metadata": {},
   "outputs": [
    {
     "name": "stdout",
     "output_type": "stream",
     "text": [
      "1\n",
      "2\n",
      "0\n",
      "4\n",
      "5\n",
      "0\n",
      "7\n",
      "8\n",
      "0\n",
      "10\n"
     ]
    }
   ],
   "source": [
    "int n = 10;\n",
    "for(int i = 1; i<=n; i++)\n",
    "    if(i%3==0)\n",
    "        System.out.println(0);\n",
    "    else\n",
    "        System.out.println(i);"
   ]
  },
  {
   "cell_type": "code",
   "execution_count": 7,
   "id": "5db8f601-7925-4026-9476-a39d092132ae",
   "metadata": {},
   "outputs": [
    {
     "name": "stdout",
     "output_type": "stream",
     "text": [
      "1\n",
      "2\n",
      "4\n",
      "5\n",
      "7\n",
      "8\n",
      "10\n"
     ]
    }
   ],
   "source": [
    "int n = 10;\n",
    "for(int i = 1; i<=n; i++)\n",
    "    if(i%3==0){\n",
    "        \n",
    "    }\n",
    "    else\n",
    "        System.out.println(i);"
   ]
  },
  {
   "cell_type": "code",
   "execution_count": 8,
   "id": "58441ce1-9c99-45ff-a17c-fa000b04ed42",
   "metadata": {},
   "outputs": [
    {
     "name": "stdout",
     "output_type": "stream",
     "text": [
      "11111\n",
      "00000\n",
      "11111\n",
      "00000\n",
      "11111\n"
     ]
    }
   ],
   "source": [
    "int n = 5;\n",
    "for(int i = 1; i<=n ;i++){\n",
    "    for(int j = 1; j<=n; j++){\n",
    "        if(i%2==0) System.out.print(0);\n",
    "        else System.out.print(1);\n",
    "    }\n",
    "    System.out.println();\n",
    "}"
   ]
  },
  {
   "cell_type": "code",
   "execution_count": 9,
   "id": "ed1b2ab8-e31e-43cb-9086-3b1da31e7f01",
   "metadata": {},
   "outputs": [
    {
     "name": "stdout",
     "output_type": "stream",
     "text": [
      "EeEeE\n",
      "DdDdD\n",
      "CcCcC\n",
      "BbBbB\n",
      "AaAaA\n"
     ]
    }
   ],
   "source": [
    "int n = 5;\n",
    "for(int i = n; i>=1; i--){\n",
    "    for(int j = 1; j<=n; j++){\n",
    "        if(j%2==1)\n",
    "            System.out.print((char)('A'+i-1));\n",
    "        else\n",
    "            System.out.print((char)('a'+i-1));\n",
    "    }\n",
    "    System.out.println();\n",
    "}"
   ]
  },
  {
   "cell_type": "code",
   "execution_count": 10,
   "id": "659e3bf1-ca31-4f04-8866-b38c931b6435",
   "metadata": {},
   "outputs": [
    {
     "name": "stdout",
     "output_type": "stream",
     "text": [
      "1\n",
      "10\n",
      "101\n",
      "1010\n",
      "10101\n"
     ]
    }
   ],
   "source": [
    "int n = 5;\n",
    "for(int  i = 1; i<=n ; i++){\n",
    "    for(int j = 1; j<=i; j++){\n",
    "        if(j%2==1)\n",
    "            System.out.print(1);\n",
    "        else\n",
    "            System.out.print(0);\n",
    "    }\n",
    "    System.out.println();\n",
    "}"
   ]
  },
  {
   "cell_type": "code",
   "execution_count": 11,
   "id": "b0b5797f-8085-4c2d-921d-ec46a1454cd0",
   "metadata": {},
   "outputs": [
    {
     "name": "stdout",
     "output_type": "stream",
     "text": [
      "EEEEE\n",
      "ddddd\n",
      "CCCCC\n",
      "bbbbb\n",
      "AAAAA\n"
     ]
    }
   ],
   "source": [
    "int n = 5;\n",
    "for(int  i = n; i>=1 ; i--){\n",
    "    for(int j = 1; j<=n; j++){\n",
    "        if(i%2==1)\n",
    "            System.out.print((char)('A'+i-1));\n",
    "        else\n",
    "            System.out.print((char)('a'+i-1));\n",
    "    }\n",
    "    System.out.println();\n",
    "}"
   ]
  },
  {
   "cell_type": "code",
   "execution_count": 12,
   "id": "81e13b36-d52d-4988-a72d-4919b233cec5",
   "metadata": {},
   "outputs": [
    {
     "name": "stdout",
     "output_type": "stream",
     "text": [
      "EEEEE\n",
      "dddd\n",
      "CCC\n",
      "bb\n",
      "A\n"
     ]
    }
   ],
   "source": [
    "int n = 5;\n",
    "for(int  i = n; i>=1 ; i--){\n",
    "    for(int j = 1; j<=i; j++){\n",
    "        if(i%2==1)\n",
    "            System.out.print((char)('A'+i-1));\n",
    "        else\n",
    "            System.out.print((char)('a'+i-1));\n",
    "    }\n",
    "    System.out.println();\n",
    "}"
   ]
  },
  {
   "cell_type": "code",
   "execution_count": 13,
   "id": "21700b78-6ff2-427b-a451-a19eb9bead5b",
   "metadata": {},
   "outputs": [
    {
     "name": "stdout",
     "output_type": "stream",
     "text": [
      "    A\n",
      "   bA\n",
      "  CbA\n",
      " dCbA\n",
      "EdCbA\n"
     ]
    }
   ],
   "source": [
    "int n = 5;\n",
    "for(int  i = 1; i<=n ; i++){\n",
    "    for(int j = 1; j<=n-i; j++) System.out.print(\" \");\n",
    "    for(int j = i; j>=1; j--){\n",
    "        if(j%2==1)\n",
    "            System.out.print((char)('A'+j-1));\n",
    "        else\n",
    "            System.out.print((char)('a'+j-1));\n",
    "    }\n",
    "    System.out.println();\n",
    "}"
   ]
  },
  {
   "cell_type": "markdown",
   "id": "d8ad3ed6-fc0f-48ea-a2d5-2bff929f8a79",
   "metadata": {},
   "source": [
    "#### Practice"
   ]
  },
  {
   "cell_type": "code",
   "execution_count": 14,
   "id": "4dd5824c-d7a4-44ae-9f43-478c37fc9b24",
   "metadata": {},
   "outputs": [],
   "source": [
    "int n = 5;"
   ]
  },
  {
   "cell_type": "code",
   "execution_count": 15,
   "id": "c2c0f8ec-02fb-4c9b-89d5-1efa3a80048f",
   "metadata": {},
   "outputs": [
    {
     "name": "stdout",
     "output_type": "stream",
     "text": [
      "1A1B1\n",
      " 1A1B\n",
      "  1A1\n",
      "   1A\n",
      "    1\n"
     ]
    }
   ],
   "source": [
    "//1\n",
    "for(int i = n; i>=1 ; i--){\n",
    "    int ch = 'A';\n",
    "    for(int j = i ;j <n ; j++)\n",
    "        System.out.print(\" \");\n",
    "    for(int j = 1; j<=i; j++){\n",
    "        if(j%2==1)\n",
    "            System.out.print(1);\n",
    "        else\n",
    "            System.out.print((char)(ch++));\n",
    "    }\n",
    "    \n",
    "    \n",
    "    System.out.println();\n",
    "}"
   ]
  },
  {
   "cell_type": "code",
   "execution_count": 16,
   "id": "61a60379-784c-408d-a740-f24016f7a2db",
   "metadata": {},
   "outputs": [
    {
     "name": "stdout",
     "output_type": "stream",
     "text": [
      "1\n",
      "1A\n",
      "1A1\n",
      "1A1B\n",
      "1A1B1\n"
     ]
    }
   ],
   "source": [
    "//2\n",
    "\n",
    "for(int i = 1; i<=n ; i++){\n",
    "    int ch = 'A';\n",
    "    for(int j = 1; j<=i; j++){\n",
    "        if(j%2==1)\n",
    "            System.out.print(1);\n",
    "        else\n",
    "            System.out.print((char)(ch++));\n",
    "    }\n",
    "    \n",
    "    System.out.println();\n",
    "}"
   ]
  },
  {
   "cell_type": "code",
   "execution_count": 17,
   "id": "1425989f-d16f-42e4-a01e-a14d8d362049",
   "metadata": {},
   "outputs": [
    {
     "name": "stdout",
     "output_type": "stream",
     "text": [
      "1\n",
      "A1\n",
      "1B1\n",
      "C1D1\n",
      "1E1F1\n"
     ]
    }
   ],
   "source": [
    "//3\n",
    "\n",
    "int ch = 'A';\n",
    "for(int i = 1 ; i<=n; i++){\n",
    "    for(int j = i; j>=1; j--){\n",
    "        if(j%2==1){\n",
    "            System.out.print(1);\n",
    "        }else{\n",
    "            System.out.print((char)(ch++));\n",
    "        }\n",
    "    }\n",
    "    System.out.println();\n",
    "}"
   ]
  },
  {
   "cell_type": "code",
   "execution_count": 18,
   "id": "f44c62c9-36f6-471e-91c3-f7db7856b2ac",
   "metadata": {},
   "outputs": [],
   "source": [
    "//4\n",
    "\n"
   ]
  },
  {
   "cell_type": "code",
   "execution_count": 19,
   "id": "a87073b8-cf34-44f0-a44a-c0610be2fc7a",
   "metadata": {},
   "outputs": [
    {
     "name": "stdout",
     "output_type": "stream",
     "text": [
      "11111\n",
      "22221\n",
      "33321\n",
      "44321\n",
      "54321\n"
     ]
    }
   ],
   "source": [
    "//5\n",
    "\n",
    "for (int i = 1; i <= n; i++) {\n",
    "    for (int j = n; j >= 1; j--) {\n",
    "        if (j < i) {\n",
    "            System.out.print(j);\n",
    "        } else {\n",
    "            System.out.print(i);\n",
    "        }\n",
    "    }\n",
    "    System.out.println();\n",
    "}"
   ]
  },
  {
   "cell_type": "code",
   "execution_count": 20,
   "id": "d8295c11-0aff-4f6d-876b-41dd1ef5219d",
   "metadata": {},
   "outputs": [
    {
     "name": "stdout",
     "output_type": "stream",
     "text": [
      "54321\n",
      "44321\n",
      "33321\n",
      "22221\n",
      "11111\n"
     ]
    }
   ],
   "source": [
    "//6\n",
    "\n",
    "for (int i = n; i >= 1; i--) {\n",
    "    for (int j = n; j >= 1; j--) {\n",
    "        if (j < i) {\n",
    "            System.out.print(j);\n",
    "        } else {\n",
    "            System.out.print(i);\n",
    "        }\n",
    "    }\n",
    "    System.out.println();\n",
    "}"
   ]
  },
  {
   "cell_type": "code",
   "execution_count": 21,
   "id": "a2a5ab99-5051-433a-9d08-5f1ff8460a0e",
   "metadata": {},
   "outputs": [
    {
     "name": "stdout",
     "output_type": "stream",
     "text": [
      "11111\n",
      "12222\n",
      "12333\n",
      "12344\n",
      "12345\n"
     ]
    }
   ],
   "source": [
    "//7\n",
    "\n",
    "for (int i = 1; i <= n; i++) {\n",
    "    for (int j = 1; j <= n; j++) {\n",
    "        if (j < i) {\n",
    "            System.out.print(j);\n",
    "        } else {\n",
    "            System.out.print(i);\n",
    "        }\n",
    "    }\n",
    "    System.out.println();\n",
    "}"
   ]
  },
  {
   "cell_type": "code",
   "execution_count": 22,
   "id": "b3d88f50-f2db-4629-ad19-69becda8cc47",
   "metadata": {},
   "outputs": [
    {
     "name": "stdout",
     "output_type": "stream",
     "text": [
      "54321\n",
      "54322\n",
      "54333\n",
      "54444\n",
      "55555\n"
     ]
    }
   ],
   "source": [
    "//8\n",
    "\n",
    "for (int i = 1; i <= n; i++) {\n",
    "    for (int j = n; j >= 1; j--) {\n",
    "        if (j > i) {\n",
    "            System.out.print(j);\n",
    "        } else {\n",
    "            System.out.print(i);\n",
    "        }\n",
    "    }\n",
    "    System.out.println();\n",
    "}"
   ]
  },
  {
   "cell_type": "code",
   "execution_count": 23,
   "id": "2d9bdf2b-b6c4-4995-93cc-56a319a213a4",
   "metadata": {},
   "outputs": [
    {
     "name": "stdout",
     "output_type": "stream",
     "text": [
      "55555\n",
      "54444\n",
      "54333\n",
      "54322\n",
      "54321\n"
     ]
    }
   ],
   "source": [
    "//9\n",
    "\n",
    "for (int i = n; i >= 1; i--) {\n",
    "    for (int j = n; j >= 1; j--) {\n",
    "        if (j > i) {\n",
    "            System.out.print(j);\n",
    "        } else {\n",
    "            System.out.print(i);\n",
    "        }\n",
    "    }\n",
    "    System.out.println();\n",
    "}"
   ]
  },
  {
   "cell_type": "code",
   "execution_count": 24,
   "id": "7a0b9b99-3ecb-46b5-a064-6f4e0478dd55",
   "metadata": {},
   "outputs": [
    {
     "name": "stdout",
     "output_type": "stream",
     "text": [
      "55555\n",
      "44445\n",
      "33345\n",
      "22345\n",
      "12345\n"
     ]
    }
   ],
   "source": [
    "//10\n",
    "\n",
    "for (int i = n; i >= 1; i--) {\n",
    "    for (int j = 1; j <= n; j++) {\n",
    "        if (j > i) {\n",
    "            System.out.print(j);\n",
    "        } else {\n",
    "            System.out.print(i);\n",
    "        }\n",
    "    }\n",
    "    System.out.println();\n",
    "}"
   ]
  },
  {
   "cell_type": "code",
   "execution_count": 25,
   "id": "533805db-9012-4599-9a51-f28ef7126192",
   "metadata": {},
   "outputs": [
    {
     "name": "stdout",
     "output_type": "stream",
     "text": [
      "12345\n",
      "22345\n",
      "33345\n",
      "44445\n",
      "55555\n"
     ]
    }
   ],
   "source": [
    "//11\n",
    "\n",
    "for (int i = 1; i <= n; i++) {\n",
    "    for (int j = 1; j <= n; j++) {\n",
    "        if (j > i) {\n",
    "            System.out.print(j);\n",
    "        } else {\n",
    "            System.out.print(i);\n",
    "        }\n",
    "    }\n",
    "    System.out.println();\n",
    "}"
   ]
  },
  {
   "cell_type": "code",
   "execution_count": null,
   "id": "f6ef8c47-061d-46f3-bcdc-b0bee07b151a",
   "metadata": {},
   "outputs": [],
   "source": []
  }
 ],
 "metadata": {
  "kernelspec": {
   "display_name": "Java",
   "language": "java",
   "name": "java"
  },
  "language_info": {
   "codemirror_mode": "java",
   "file_extension": ".jshell",
   "mimetype": "text/x-java-source",
   "name": "Java",
   "pygments_lexer": "java",
   "version": "17.0.10+11-LTS-240"
  }
 },
 "nbformat": 4,
 "nbformat_minor": 5
}
