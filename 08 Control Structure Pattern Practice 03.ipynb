{
 "cells": [
  {
   "cell_type": "code",
   "execution_count": 1,
   "id": "3ad9ba30-a12f-4f65-adf4-87cb10661ae8",
   "metadata": {},
   "outputs": [],
   "source": [
    "int n = 5;"
   ]
  },
  {
   "cell_type": "code",
   "execution_count": 2,
   "id": "66f6fe28-2650-42d2-892c-41cc4034371a",
   "metadata": {},
   "outputs": [
    {
     "name": "stdout",
     "output_type": "stream",
     "text": [
      "    1\n",
      "   22\n",
      "  333\n",
      " 4444\n",
      "55555\n",
      " 4444\n",
      "  333\n",
      "   22\n",
      "    1\n"
     ]
    }
   ],
   "source": [
    "//1\n",
    "\n",
    "for(int i = 1; i<=n*2-1; i++){\n",
    "    int lastElement = (i<=n) ? i : n*2-i;\n",
    "    int spaces = (i<=n) ? n-i : i-n;\n",
    "    for(int j = 1; j<=spaces; j++){\n",
    "        System.out.print(\" \");\n",
    "    }\n",
    "    for(int j = 1; j<=lastElement; j++){\n",
    "        System.out.print(lastElement);\n",
    "    }\n",
    "    System.out.println();\n",
    "}"
   ]
  },
  {
   "cell_type": "code",
   "execution_count": 3,
   "id": "780588cc-3651-4507-b86b-242f34dabd27",
   "metadata": {},
   "outputs": [
    {
     "name": "stdout",
     "output_type": "stream",
     "text": [
      "    5\n",
      "   44\n",
      "  333\n",
      " 2222\n",
      "11111\n",
      " 2222\n",
      "  333\n",
      "   44\n",
      "    5\n"
     ]
    }
   ],
   "source": [
    "//2\n",
    "\n",
    "for(int i = 1; i<=n*2-1; i++){\n",
    "    int lastElement = (i<=n) ? n-i+1 : i-n+1;\n",
    "    int spaces = (i<=n) ? n-i : i-n;\n",
    "    for(int j = 1; j<=spaces; j++){\n",
    "        System.out.print(\" \");\n",
    "    }\n",
    "    for(int j = lastElement; j<=n; j++){\n",
    "        System.out.print(lastElement);\n",
    "    }\n",
    "    System.out.println();\n",
    "}"
   ]
  },
  {
   "cell_type": "code",
   "execution_count": 4,
   "id": "148a812c-10c7-4da3-9787-0426af252e3f",
   "metadata": {},
   "outputs": [
    {
     "name": "stdout",
     "output_type": "stream",
     "text": [
      "    1\n",
      "   12\n",
      "  123\n",
      " 1234\n",
      "12345\n",
      " 1234\n",
      "  123\n",
      "   12\n",
      "    1\n"
     ]
    }
   ],
   "source": [
    "//3\n",
    "\n",
    "for(int i = 1; i<=n*2-1; i++){\n",
    "    int lastElement = (i<=n) ? i : n*2-i;\n",
    "    int spaces = (i<=n) ? n-i : i-n;\n",
    "    for(int j = 1; j<=spaces; j++){\n",
    "        System.out.print(\" \");\n",
    "    }\n",
    "    for(int j = 1; j<=lastElement; j++){\n",
    "        System.out.print(j);\n",
    "    }\n",
    "    System.out.println();\n",
    "}"
   ]
  },
  {
   "cell_type": "code",
   "execution_count": 5,
   "id": "17b71085-4b81-407a-97a4-40175ef7c3c0",
   "metadata": {},
   "outputs": [
    {
     "name": "stdout",
     "output_type": "stream",
     "text": [
      "    1\n",
      "   21\n",
      "  321\n",
      " 4321\n",
      "54321\n",
      " 4321\n",
      "  321\n",
      "   21\n",
      "    1\n"
     ]
    }
   ],
   "source": [
    "//4\n",
    "\n",
    "for(int i = 1; i<=n*2-1; i++){\n",
    "    int lastElement = (i<=n) ? i : n*2-i;\n",
    "    int spaces = (i<=n) ? n-i : i-n;\n",
    "    for(int j = 1; j<=spaces; j++){\n",
    "        System.out.print(\" \");\n",
    "    }\n",
    "    for(int j = lastElement; j>=1; j--){\n",
    "        System.out.print(j);\n",
    "    }\n",
    "    System.out.println();\n",
    "}"
   ]
  },
  {
   "cell_type": "code",
   "execution_count": 6,
   "id": "c478ba65-ae6d-4618-a956-998de66b96a7",
   "metadata": {},
   "outputs": [
    {
     "name": "stdout",
     "output_type": "stream",
     "text": [
      "    5\n",
      "   54\n",
      "  543\n",
      " 5432\n",
      "54321\n",
      " 5432\n",
      "  543\n",
      "   54\n",
      "    5\n"
     ]
    }
   ],
   "source": [
    "//5\n",
    "\n",
    "for(int i = 1; i<=n*2-1; i++){\n",
    "    int lastElement = (i<=n) ? n-i+1 : i-n+1;\n",
    "    int spaces = (i<=n) ? n-i : i-n;\n",
    "    for(int j = 1; j<=spaces; j++){\n",
    "        System.out.print(\" \");\n",
    "    }\n",
    "    for(int j = n; j>=lastElement; j--){\n",
    "        System.out.print(j);\n",
    "    }\n",
    "    System.out.println();\n",
    "}"
   ]
  },
  {
   "cell_type": "code",
   "execution_count": 7,
   "id": "9557a875-fcef-4e79-920b-a2d682f0be49",
   "metadata": {},
   "outputs": [
    {
     "name": "stdout",
     "output_type": "stream",
     "text": [
      "    5\n",
      "   45\n",
      "  345\n",
      " 2345\n",
      "12345\n",
      " 2345\n",
      "  345\n",
      "   45\n",
      "    5\n"
     ]
    }
   ],
   "source": [
    "//6\n",
    "\n",
    "for(int i = 1; i<=n*2-1; i++){\n",
    "    int lastElement = (i<=n) ? n-i+1 : i-n+1;\n",
    "    int spaces = (i<=n) ? n-i : i-n;\n",
    "    for(int j = 1; j<=spaces; j++){\n",
    "        System.out.print(\" \");\n",
    "    }\n",
    "    for(int j = lastElement; j<=n; j++){\n",
    "        System.out.print(j);\n",
    "    }\n",
    "    System.out.println();\n",
    "}"
   ]
  },
  {
   "cell_type": "code",
   "execution_count": 8,
   "id": "8dda5ac1-ddc2-4f42-9a39-d4c220bef263",
   "metadata": {},
   "outputs": [
    {
     "name": "stdout",
     "output_type": "stream",
     "text": [
      "    A\n",
      "   bb\n",
      "  CCC\n",
      " dddd\n",
      "EEEEE\n",
      " dddd\n",
      "  CCC\n",
      "   bb\n",
      "    A\n"
     ]
    }
   ],
   "source": [
    "//7\n",
    "\n",
    "for(int i = 1; i<=n*2-1; i++){\n",
    "    int lastElement = (i<=n) ? i : n*2-i;\n",
    "    int spaces = (i<=n) ? n-i : i-n;\n",
    "    char ch = (char)(lastElement%2==1 ? 'A'+lastElement-1 : 'a'+lastElement-1);\n",
    "    for(int j = 1; j<=spaces; j++){\n",
    "        System.out.print(\" \");\n",
    "    }\n",
    "    for(int j = 1; j<=lastElement; j++){\n",
    "        System.out.print(ch);\n",
    "    }\n",
    "    System.out.println();\n",
    "}"
   ]
  },
  {
   "cell_type": "code",
   "execution_count": 9,
   "id": "a3508f9d-f4ff-4519-a2de-6a047b37485e",
   "metadata": {},
   "outputs": [
    {
     "name": "stdout",
     "output_type": "stream",
     "text": [
      "    E\n",
      "   dd\n",
      "  CCC\n",
      " bbbb\n",
      "AAAAA\n",
      " bbbb\n",
      "  CCC\n",
      "   dd\n",
      "    E\n"
     ]
    }
   ],
   "source": [
    "//8\n",
    "\n",
    "for(int i = 1; i<=n*2-1; i++){\n",
    "    int lastElement = (i<=n) ? n-i+1 : i-n+1;\n",
    "    char ch = (char)(lastElement%2==1? 'A'+lastElement-1:'a'+lastElement-1);\n",
    "    int spaces = (i<=n) ? n-i : i-n;\n",
    "    for(int j = 1; j<=spaces; j++){\n",
    "        System.out.print(\" \");\n",
    "    }\n",
    "    for(int j = lastElement; j<=n; j++){\n",
    "        System.out.print(ch);\n",
    "    }\n",
    "    System.out.println();\n",
    "}"
   ]
  },
  {
   "cell_type": "code",
   "execution_count": 10,
   "id": "dde28f5e-16ee-4715-8963-41b27981d22b",
   "metadata": {},
   "outputs": [
    {
     "name": "stdout",
     "output_type": "stream",
     "text": [
      "    A\n",
      "   Ab\n",
      "  AbC\n",
      " AbCd\n",
      "AbCdE\n",
      " AbCd\n",
      "  AbC\n",
      "   Ab\n",
      "    A\n"
     ]
    }
   ],
   "source": [
    "//9\n",
    "\n",
    "for(int i = 1; i<=n*2-1; i++){\n",
    "    int lastElement = (i<=n) ? i : n*2-i;\n",
    "    int spaces = (i<=n) ? n-i : i-n;\n",
    "    for(int j = 1; j<=spaces; j++){\n",
    "        System.out.print(\" \");\n",
    "    }\n",
    "    for(int j = 1; j<=lastElement; j++){\n",
    "        System.out.print(\n",
    "            (char)(j%2==1? 'A'+j-1: 'a'+j-1)\n",
    "        );\n",
    "    }\n",
    "    System.out.println();\n",
    "}"
   ]
  },
  {
   "cell_type": "code",
   "execution_count": 11,
   "id": "b7cdd028-19af-4118-b39b-995fe45057ed",
   "metadata": {},
   "outputs": [
    {
     "name": "stdout",
     "output_type": "stream",
     "text": [
      "    A\n",
      "   bA\n",
      "  CbA\n",
      " dCbA\n",
      "EdCbA\n",
      " dCbA\n",
      "  CbA\n",
      "   bA\n",
      "    A\n"
     ]
    }
   ],
   "source": [
    "//10\n",
    "\n",
    "for(int i = 1; i<=n*2-1; i++){\n",
    "    int lastElement = (i<=n) ? i : n*2-i;\n",
    "    int spaces = (i<=n) ? n-i : i-n;\n",
    "    for(int j = 1; j<=spaces; j++){\n",
    "        System.out.print(\" \");\n",
    "    }\n",
    "    for(int j = lastElement; j>=1; j--){\n",
    "        System.out.print(\n",
    "            (char)(j%2==1? 'A'+j-1: 'a'+j-1)\n",
    "        );\n",
    "    }\n",
    "    System.out.println();\n",
    "}"
   ]
  },
  {
   "cell_type": "code",
   "execution_count": 12,
   "id": "62e19edf-8360-4262-8837-ce78d0a24825",
   "metadata": {},
   "outputs": [
    {
     "name": "stdout",
     "output_type": "stream",
     "text": [
      "    E\n",
      "   Ed\n",
      "  EdC\n",
      " EdCb\n",
      "EdCbA\n",
      " EdCb\n",
      "  EdC\n",
      "   Ed\n",
      "    E\n"
     ]
    }
   ],
   "source": [
    "//11\n",
    "\n",
    "for(int i = 1; i<=n*2-1; i++){\n",
    "    int lastElement = (i<=n) ? n-i+1 : i-n+1;\n",
    "    int spaces = (i<=n) ? n-i : i-n;\n",
    "    for(int j = 1; j<=spaces; j++){\n",
    "        System.out.print(\" \");\n",
    "    }\n",
    "    for(int j = n; j>=lastElement; j--){\n",
    "        System.out.print(\n",
    "            (char)(j%2==1? 'A'+j-1: 'a'+j-1)\n",
    "        );\n",
    "    }\n",
    "    System.out.println();\n",
    "}"
   ]
  },
  {
   "cell_type": "code",
   "execution_count": 13,
   "id": "91a83789-3c39-467e-a2c0-b943f08fcba1",
   "metadata": {},
   "outputs": [
    {
     "name": "stdout",
     "output_type": "stream",
     "text": [
      "    E\n",
      "   dE\n",
      "  CdE\n",
      " bCdE\n",
      "AbCdE\n",
      " bCdE\n",
      "  CdE\n",
      "   dE\n",
      "    E\n"
     ]
    }
   ],
   "source": [
    "//12\n",
    "\n",
    "for(int i = 1; i<=n*2-1; i++){\n",
    "    int lastElement = (i<=n) ? n-i+1 : i-n+1;\n",
    "    int spaces = (i<=n) ? n-i : i-n;\n",
    "    for(int j = 1; j<=spaces; j++){\n",
    "        System.out.print(\" \");\n",
    "    }\n",
    "    for(int j = lastElement; j<=n; j++){\n",
    "        System.out.print(\n",
    "            (char)(j%2==1? 'A'+j-1: 'a'+j-1)\n",
    "        );\n",
    "    }\n",
    "    System.out.println();\n",
    "}"
   ]
  },
  {
   "cell_type": "code",
   "execution_count": 14,
   "id": "87a8392d-be06-44ff-b00c-3bf6b9a1467b",
   "metadata": {},
   "outputs": [
    {
     "name": "stdout",
     "output_type": "stream",
     "text": [
      "55555\n",
      " 4444\n",
      "  333\n",
      "   22\n",
      "    1\n",
      "   22\n",
      "  333\n",
      " 4444\n",
      "55555\n"
     ]
    }
   ],
   "source": [
    "//13\n",
    "\n",
    "for(int i = 1; i<=n*2-1; i++){\n",
    "    int lastElement = (i<=n) ? n-i+1 : i-n+1;\n",
    "    int spaces = (i<=n) ? i-1 : n*2-i-1;\n",
    "    for(int j = 1; j<=spaces; j++){\n",
    "        System.out.print(\" \");\n",
    "    }\n",
    "    for(int j = 1; j<=lastElement; j++){\n",
    "        System.out.print(lastElement);\n",
    "    }\n",
    "    System.out.println();\n",
    "}"
   ]
  },
  {
   "cell_type": "code",
   "execution_count": 15,
   "id": "5abc0db1-77b0-4fce-897c-d6ea3105d0d8",
   "metadata": {},
   "outputs": [
    {
     "name": "stdout",
     "output_type": "stream",
     "text": [
      "11111\n",
      " 2222\n",
      "  333\n",
      "   44\n",
      "    5\n",
      "   44\n",
      "  333\n",
      " 2222\n",
      "11111\n"
     ]
    }
   ],
   "source": [
    "//14\n",
    "\n",
    "for(int i = 1; i<=n*2-1; i++){\n",
    "    int lastElement = (i<=n) ? i : n*2-i;\n",
    "    int spaces = (i<=n) ? i-1 : n*2-i-1;\n",
    "    for(int j = 1; j<=spaces; j++){\n",
    "        System.out.print(\" \");\n",
    "    }\n",
    "    for(int j = n-lastElement+1; j>=1; j--){\n",
    "        System.out.print(lastElement);\n",
    "    }\n",
    "    System.out.println();\n",
    "}"
   ]
  },
  {
   "cell_type": "code",
   "execution_count": 16,
   "id": "3ccb0656-d96b-498a-8326-30eb4c960dac",
   "metadata": {},
   "outputs": [
    {
     "name": "stdout",
     "output_type": "stream",
     "text": [
      "12345\n",
      " 1234\n",
      "  123\n",
      "   12\n",
      "    1\n",
      "   12\n",
      "  123\n",
      " 1234\n",
      "12345\n"
     ]
    }
   ],
   "source": [
    "//15\n",
    "\n",
    "for(int i = 1; i<=n*2-1; i++){\n",
    "    int lastElement = (i<=n) ? n-i+1 : i-n+1;\n",
    "    int spaces = (i<=n) ? i-1 : n*2-i-1;\n",
    "    for(int j = 1; j<=spaces; j++){\n",
    "        System.out.print(\" \");\n",
    "    }\n",
    "    for(int j = 1; j<=lastElement; j++){\n",
    "        System.out.print(j);\n",
    "    }\n",
    "    System.out.println();\n",
    "}"
   ]
  },
  {
   "cell_type": "code",
   "execution_count": 17,
   "id": "fa315f84-46d2-4e94-9277-629b841f66d0",
   "metadata": {},
   "outputs": [
    {
     "name": "stdout",
     "output_type": "stream",
     "text": [
      "54321\n",
      " 4321\n",
      "  321\n",
      "   21\n",
      "    1\n",
      "   21\n",
      "  321\n",
      " 4321\n",
      "54321\n"
     ]
    }
   ],
   "source": [
    "//16\n",
    "\n",
    "for(int i = 1; i<=n*2-1; i++){\n",
    "    int lastElement = (i<=n) ? i : n*2-i;\n",
    "    int spaces = (i<=n) ? i-1 : n*2-i-1;\n",
    "    for(int j = 1; j<=spaces; j++){\n",
    "        System.out.print(\" \");\n",
    "    }\n",
    "    for(int j = n-lastElement+1; j>=1; j--){\n",
    "        System.out.print(j);\n",
    "    }\n",
    "    System.out.println();\n",
    "}"
   ]
  },
  {
   "cell_type": "code",
   "execution_count": 18,
   "id": "48046f3e-0f01-4f1b-9f7a-4a72c8d275cc",
   "metadata": {},
   "outputs": [
    {
     "name": "stdout",
     "output_type": "stream",
     "text": [
      "54321\n",
      " 5432\n",
      "  543\n",
      "   54\n",
      "    5\n",
      "   54\n",
      "  543\n",
      " 5432\n",
      "54321\n"
     ]
    }
   ],
   "source": [
    "//17\n",
    "\n",
    "for(int i = 1; i<=n*2-1; i++){\n",
    "    int lastElement = (i<=n) ? i : n*2-i;\n",
    "    int spaces = (i<=n) ? i-1 : n*2-i-1;\n",
    "    for(int j = 1; j<=spaces; j++){\n",
    "        System.out.print(\" \");\n",
    "    }\n",
    "    for(int j = n; j>=lastElement; j--){\n",
    "        System.out.print(j);\n",
    "    }\n",
    "    System.out.println();\n",
    "}"
   ]
  },
  {
   "cell_type": "code",
   "execution_count": 19,
   "id": "dafcefd6-f2aa-45ca-a187-4ffb654f4562",
   "metadata": {},
   "outputs": [
    {
     "name": "stdout",
     "output_type": "stream",
     "text": [
      "12345\n",
      " 2345\n",
      "  345\n",
      "   45\n",
      "    5\n",
      "   45\n",
      "  345\n",
      " 2345\n",
      "12345\n"
     ]
    }
   ],
   "source": [
    "//18\n",
    "\n",
    "for(int i = 1; i<=n*2-1; i++){\n",
    "    int lastElement = (i<=n) ? i : n*2-i;\n",
    "    int spaces = (i<=n) ? i-1 : n*2-i-1;\n",
    "    for(int j = 1; j<=spaces; j++){\n",
    "        System.out.print(\" \");\n",
    "    }\n",
    "    for(int j = lastElement; j<=n; j++){\n",
    "        System.out.print(j);\n",
    "    }\n",
    "    System.out.println();\n",
    "}"
   ]
  },
  {
   "cell_type": "code",
   "execution_count": 20,
   "id": "f2bb8e28-8ceb-45a7-9fd2-5bca94295bdd",
   "metadata": {},
   "outputs": [
    {
     "name": "stdout",
     "output_type": "stream",
     "text": [
      "EEEEE\n",
      " dddd\n",
      "  CCC\n",
      "   bb\n",
      "    A\n",
      "   bb\n",
      "  CCC\n",
      " dddd\n",
      "EEEEE\n"
     ]
    }
   ],
   "source": [
    "//19\n",
    "\n",
    "for(int i = 1; i<=n*2-1; i++){\n",
    "    int lastElement = (i<=n) ? n-i+1 : i-n+1;\n",
    "    int spaces = (i<=n) ? i-1 : n*2-i-1;\n",
    "    char ch = (char)(i%2==1? 'A'+lastElement-1: 'a'+lastElement-1);\n",
    "    for(int j = 1; j<=spaces; j++){\n",
    "        System.out.print(\" \");\n",
    "    }\n",
    "    for(int j = 1; j<=lastElement; j++){\n",
    "        System.out.print(ch);\n",
    "    }\n",
    "    System.out.println();\n",
    "}"
   ]
  },
  {
   "cell_type": "code",
   "execution_count": 21,
   "id": "5b7bf196-9aa5-4c8c-a8d8-77f6eead990b",
   "metadata": {},
   "outputs": [
    {
     "name": "stdout",
     "output_type": "stream",
     "text": [
      "AAAAA\n",
      " bbbb\n",
      "  CCC\n",
      "   dd\n",
      "    E\n",
      "   dd\n",
      "  CCC\n",
      " bbbb\n",
      "AAAAA\n"
     ]
    }
   ],
   "source": [
    "//20\n",
    "\n",
    "for(int i = 1; i<=n*2-1; i++){\n",
    "    int lastElement = (i<=n) ? i : n*2-i;\n",
    "    int spaces = (i<=n) ? i-1 : n*2-i-1;\n",
    "    char ch = (char)(i%2==1? 'A'+lastElement-1: 'a'+lastElement-1);\n",
    "    for(int j = 1; j<=spaces; j++){\n",
    "        System.out.print(\" \");\n",
    "    }\n",
    "    for(int j = n-lastElement+1; j>=1; j--){\n",
    "        System.out.print(ch);\n",
    "    }\n",
    "    System.out.println();\n",
    "}"
   ]
  },
  {
   "cell_type": "code",
   "execution_count": 24,
   "id": "028fa77f-0fc7-4c98-8f81-c8a15ea1fd75",
   "metadata": {},
   "outputs": [
    {
     "name": "stdout",
     "output_type": "stream",
     "text": [
      "AbCdE\n",
      " AbCd\n",
      "  AbC\n",
      "   Ab\n",
      "    A\n",
      "   Ab\n",
      "  AbC\n",
      " AbCd\n",
      "AbCdE\n"
     ]
    }
   ],
   "source": [
    "//21\n",
    "\n",
    "for(int i = 1; i<=n*2-1; i++){\n",
    "    int lastElement = (i<=n) ? n-i+1 : i-n+1;\n",
    "    int spaces = (i<=n) ? i-1 : n*2-i-1;\n",
    "    for(int j = 1; j<=spaces; j++){\n",
    "        System.out.print(\" \");\n",
    "    }\n",
    "    for(int j = 1; j<=lastElement; j++){\n",
    "        System.out.print(\n",
    "            (char) (j + ( j%2==1 ? 'A'-1 : 'a'-1))\n",
    "        );\n",
    "    }\n",
    "    System.out.println();\n",
    "}"
   ]
  },
  {
   "cell_type": "code",
   "execution_count": 26,
   "id": "2e26c2c5-ff21-411a-b309-768e56590d82",
   "metadata": {},
   "outputs": [
    {
     "name": "stdout",
     "output_type": "stream",
     "text": [
      "EdCbA\n",
      " dCbA\n",
      "  CbA\n",
      "   bA\n",
      "    A\n",
      "   bA\n",
      "  CbA\n",
      " dCbA\n",
      "EdCbA\n"
     ]
    }
   ],
   "source": [
    "//22\n",
    "\n",
    "for(int i = 1; i<=n*2-1; i++){\n",
    "    int lastElement = (i<=n) ? i : n*2-i;\n",
    "    int spaces = (i<=n) ? i-1 : n*2-i-1;\n",
    "    for(int j = 1; j<=spaces; j++){\n",
    "        System.out.print(\" \");\n",
    "    }\n",
    "    for(int j = n-lastElement+1; j>=1; j--){\n",
    "        System.out.print(\n",
    "            (char) (j + ( j%2==1 ? 'A'-1 : 'a'-1))\n",
    "        );\n",
    "    }\n",
    "    System.out.println();\n",
    "}"
   ]
  },
  {
   "cell_type": "code",
   "execution_count": 28,
   "id": "21e8d0c9-6958-4b2f-aee8-70375165bf51",
   "metadata": {},
   "outputs": [
    {
     "name": "stdout",
     "output_type": "stream",
     "text": [
      "EdCbA\n",
      " EdCb\n",
      "  EdC\n",
      "   Ed\n",
      "    E\n",
      "   Ed\n",
      "  EdC\n",
      " EdCb\n",
      "EdCbA\n"
     ]
    }
   ],
   "source": [
    "//23\n",
    "\n",
    "for(int i = 1; i<=n*2-1; i++){\n",
    "    int lastElement = (i<=n) ? i : n*2-i;\n",
    "    int spaces = (i<=n) ? i-1 : n*2-i-1;\n",
    "    for(int j = 1; j<=spaces; j++){\n",
    "        System.out.print(\" \");\n",
    "    }\n",
    "    for(int j = n; j>=lastElement; j--){\n",
    "        System.out.print(\n",
    "            (char) (j + ( j%2==1 ? 'A'-1 : 'a'-1))\n",
    "        );\n",
    "    }\n",
    "    System.out.println();\n",
    "}"
   ]
  },
  {
   "cell_type": "code",
   "execution_count": 29,
   "id": "1dd2b979-f3d4-4fdc-82d9-e2193b294c59",
   "metadata": {},
   "outputs": [
    {
     "name": "stdout",
     "output_type": "stream",
     "text": [
      "AbCdE\n",
      " bCdE\n",
      "  CdE\n",
      "   dE\n",
      "    E\n",
      "   dE\n",
      "  CdE\n",
      " bCdE\n",
      "AbCdE\n"
     ]
    }
   ],
   "source": [
    "//24\n",
    "\n",
    "for(int i = 1; i<=n*2-1; i++){\n",
    "    int lastElement = (i<=n) ? i : n*2-i;\n",
    "    int spaces = (i<=n) ? i-1 : n*2-i-1;\n",
    "    for(int j = 1; j<=spaces; j++){\n",
    "        System.out.print(\" \");\n",
    "    }\n",
    "    for(int j = lastElement; j<=n; j++){\n",
    "        System.out.print(\n",
    "            (char) (j + ( j%2==1 ? 'A'-1 : 'a'-1))\n",
    "        );\n",
    "    }\n",
    "    System.out.println();\n",
    "}"
   ]
  },
  {
   "cell_type": "code",
   "execution_count": null,
   "id": "8ee52452-661a-44ff-bc28-494693e2da36",
   "metadata": {},
   "outputs": [],
   "source": []
  }
 ],
 "metadata": {
  "kernelspec": {
   "display_name": "Java",
   "language": "java",
   "name": "java"
  },
  "language_info": {
   "codemirror_mode": "java",
   "file_extension": ".jshell",
   "mimetype": "text/x-java-source",
   "name": "Java",
   "pygments_lexer": "java",
   "version": "17.0.10+11-LTS-240"
  }
 },
 "nbformat": 4,
 "nbformat_minor": 5
}
