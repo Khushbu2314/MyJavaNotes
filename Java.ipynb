{
 "cells": [
  {
   "cell_type": "markdown",
   "id": "ae9374ea-a4df-4c43-8090-7cd53ad80d28",
   "metadata": {},
   "source": [
    "<p style=\"text-align:right; font-weight: 700; font-size: 20px; text-decoration: underline;\"> 27/03/2024 </p>"
   ]
  },
  {
   "cell_type": "markdown",
   "id": "2b5f5cfd-3549-415e-ac56-2678fdb1707e",
   "metadata": {},
   "source": [
    "<p style=\"text-align: right;\">\n",
    "        <a href=\"https://adityakalambe01.github.io/AdityaKalambe/\" style=\"text-decoration: none; color: black; font-size: 15px; font-weight: 700;\">Click here to connect with me.</a>\n",
    "    </p>\n",
    "    <p style=\"text-align:center; font-size:25px; font-weight: 700;text-decoration: underline;\">Java Tutorial</p>"
   ]
  },
  {
   "cell_type": "markdown",
   "id": "259921c4-17b7-456d-a896-f40cbb637c47",
   "metadata": {
    "jp-MarkdownHeadingCollapsed": true
   },
   "source": [
    "## Featues of Java\n",
    "1. <strong>Simple</strong>\n",
    "   - Java is very easy to learn, and its syntax is simple, clean and easy to understand\n",
    "   - Java syntax is based on C++ (so easier for programmers to learn it after C++).\n",
    "   - Java has removed many complicated and rarely-used features, for example, explicit pointers, operator overloading, etc.\n",
    "   - There is no need to remove unreferenced objects because there is an Automatic Garbage Collection in Java.\n",
    "2. <strong>Object Oriented</strong>\n",
    "   - Java is a partially object oriented language.\n",
    "   - Java is not purely object oriented because we can not create objects when we initilize primitive datatypes.\n",
    "3. <strong>Platform Independent</strong>\n",
    "   - Java bytecode will run on any os.\n",
    "   - The bitecode is nothing but a class file which is created after compilation of source code.\n",
    "4. <strong>Secure</strong>\n",
    "   - Java is best known for its security. With Java, we can develop virus-free systems.\n",
    "   - Java is secured because:\n",
    "     - No explicit pointer\n",
    "     - Java Programs run inside a virtual machine sandbox\n",
    "5. <strong>Architecture-neutral</strong>\n",
    "   - Java is architecture neutral because there are no implementation dependent features, for example, the size of primitive types is fixed.\n",
    "   - In C programming, int data type occupies 2 bytes of memory for 32-bit architecture and 4 bytes of memory for 64-bit architecture.\n",
    "   - However, it occupies 4 bytes of memory for both 32 and 64-bit architectures in Java.\n",
    "6. <strong>Portable</strong>\n",
    "   - Java is portable because it facilitates you to carry the Java bytecode to any platform. It doesn't require any implementation.\n",
    "7. <strong>Multi-threaded</strong>\n",
    "   - A thread is like a separate program, executing concurrently.\n",
    "   - We can write Java programs that deal with many tasks at once by defining multiple threads.\n",
    "   - The main advantage of multi-threading is that it doesn't occupy memory for each thread.\n",
    "   - It shares a common memory area. Threads are important for multi-media, Web applications, etc.\n",
    "8. <strong>Dynamic</strong>\n",
    "   - Java is a dynamic language. It supports the dynamic loading of classes.\n",
    "   - It means classes are loaded on demand.\n",
    "   - It also supports functions from its native languages, i.e., C and C++."
   ]
  },
  {
   "cell_type": "markdown",
   "id": "c3848e4d-e484-4cc2-a330-8ba15ca863a0",
   "metadata": {},
   "source": [
    "## Datatypes\n",
    "1. <strong>Primitive Datatype</strong>\n",
    "   - int\n",
    "   - float\n",
    "   - double\n",
    "   - boolean\n",
    "   - char\n",
    "   - long\n",
    "2. <strong>Non-Premitive Datatype</strong>\n",
    "   - Class"
   ]
  },
  {
   "cell_type": "markdown",
   "id": "15c124e4-ba69-43da-9535-4ce99df7d4c7",
   "metadata": {},
   "source": [
    "###### First Java Program"
   ]
  },
  {
   "cell_type": "code",
   "execution_count": 1,
   "id": "23df62b8-3829-461f-87cb-43813cefe441",
   "metadata": {},
   "outputs": [],
   "source": [
    "class Solution{\n",
    "    public static void main(String[] args){\n",
    "        System.out.println(\"Hello Java\");\n",
    "    }\n",
    "}"
   ]
  },
  {
   "cell_type": "code",
   "execution_count": 2,
   "id": "ac438372-abb2-4e43-bfd5-70be90ccf25e",
   "metadata": {},
   "outputs": [
    {
     "name": "stdout",
     "output_type": "stream",
     "text": [
      "Hello Java\n"
     ]
    }
   ],
   "source": [
    "Solution.main(null);"
   ]
  },
  {
   "cell_type": "markdown",
   "id": "291510c4-c94a-40ef-b5bc-6a9cc577d33d",
   "metadata": {},
   "source": [
    "<p style=\"text-align:right; font-weight: 700; font-size: 20px; text-decoration: underline;\"> 28/03/2024 </p>"
   ]
  },
  {
   "cell_type": "markdown",
   "id": "f0a9d38c-9377-47bc-b60e-c9a2057ab674",
   "metadata": {},
   "source": [
    "## Variables\n",
    "- It is like a container which is used to store data temporary.\n",
    "- Name should be identical and decaptalize.\n",
    "- Types:\n",
    "    1. Instance\n",
    "    2. Static\n",
    "    3. Local"
   ]
  },
  {
   "cell_type": "markdown",
   "id": "4e19dc27-2081-45da-be32-add81edb8a05",
   "metadata": {},
   "source": [
    "## Datatype\n",
    "1. Primitive\n",
    "   - They are predifined\n",
    "   - No need of creation\n",
    "   - Store only one value\n",
    "2. Non-Primitive\n",
    "   - They are user defined\n",
    "   - It stores multiple values\n"
   ]
  },
  {
   "cell_type": "markdown",
   "id": "71e0d732-20bd-4996-8ffd-6b424ae59b25",
   "metadata": {},
   "source": [
    "\n",
    "<table style=\"width:100%; line-spacing:10px; letter-spacing: 3px; font-size: 14px; text-align: center;\">\n",
    "    <thead>\n",
    "        <tr>\n",
    "            <th>Datatype</th>\n",
    "            <th>Size</th>\n",
    "            <th>Range</th>\n",
    "            <th>Example</th>\n",
    "        </tr>\n",
    "    </thead>\n",
    "    <tbody>\n",
    "        <tr>\n",
    "            <td> byte </td>\n",
    "            <td> 1 byte</td>\n",
    "            <td> 2<sup>-7</sup> to 2<sup>7</sup>-1</td>\n",
    "            <td> 1,2,3,... </td>\n",
    "        </tr>\n",
    "        <tr>\n",
    "            <td> short </td>\n",
    "            <td> 2 byte </td>\n",
    "            <td> 2<sup>-15</sup> to 2<sup>15</sup>-1 </td>\n",
    "            <td> 1,2,3,... </td>\n",
    "        </tr>\n",
    "        <tr>\n",
    "            <td> int </td>\n",
    "            <td> 4 byte </td>\n",
    "            <td> 2<sup>-31</sup> to 2<sup>31</sup>-1 </td>\n",
    "            <td> 1,2,3,... </td>\n",
    "        </tr>\n",
    "        <tr>\n",
    "            <td>long</td>\n",
    "            <td> 8 byte </td>\n",
    "            <td> 2<sup>-63</sup> to 2<sup>63</sup>-1 </td>\n",
    "            <td> 1,2,3,... </td>\n",
    "        </tr>\n",
    "        <tr>\n",
    "            <td>float</td>\n",
    "            <td> 4 byte </td>\n",
    "            <td> 2<sup>-31</sup> to 2<sup>31</sup>-1 </td>\n",
    "            <td> 1f,2.0f,3.36f,... </td>\n",
    "        </tr>\n",
    "        <tr>\n",
    "            <td>double</td>\n",
    "            <td> 8 byte </td>\n",
    "            <td> 2<sup>-63</sup> to 2<sup>63</sup>-1 </td>\n",
    "            <td> 1,2.025,3.023,... </td>\n",
    "        </tr>\n",
    "        <tr>\n",
    "            <td> char </td>\n",
    "            <td> 2 byte</td>\n",
    "            <td> 2<sup>-15</sup> to 2<sup>15</sup>-1 </td>\n",
    "            <td> a,b,c,D,... </td>\n",
    "        </tr>\n",
    "        <tr>\n",
    "            <td> boolean </td>\n",
    "            <td> 1 bit</td>\n",
    "            <td> 2 </td>\n",
    "            <td> true, false</td>\n",
    "        </tr>  \n",
    "    </tbody>\n",
    "</table>"
   ]
  },
  {
   "cell_type": "markdown",
   "id": "f8ebab92-51ed-42f7-97fa-086da8a679d4",
   "metadata": {},
   "source": [
    "## Datatype Presidence\n",
    "1. Premitive Datatypes\n",
    "   1. byte -> short -> int -> long -> float -> double\n",
    "   2. char -> int -> long -> float -> double\n",
    "2. Non-Premitive Datatype\n",
    "   1. child -> parent -> root -> super   "
   ]
  },
  {
   "cell_type": "markdown",
   "id": "f878736e-4582-4e0a-afd1-734dff1b1e20",
   "metadata": {},
   "source": [
    "## Operators\n",
    "1. Unirary Operator\n",
    "   - Required single operands\n",
    "   - Return same datatype\n",
    "   - Types:\n",
    "     1. Prefix\n",
    "        1. Pre-increment - first increment and then use/assign\n",
    "        2. Pre-decrement - first decrement and then use/assign\n",
    "     2. Postfix\n",
    "        1. Post-increment - first use/assign and then increment\n",
    "        2. Post-decrement - first use/assign and then decrement       "
   ]
  },
  {
   "cell_type": "markdown",
   "id": "fa237d97-4de9-4367-b8ad-5c9ec9707990",
   "metadata": {},
   "source": [
    "#### Prefix"
   ]
  },
  {
   "cell_type": "markdown",
   "id": "fbe95a74-85b0-4423-945e-3e5d5c0ad821",
   "metadata": {},
   "source": [
    "##### Pre-increment"
   ]
  },
  {
   "cell_type": "code",
   "execution_count": 7,
   "id": "bde7af59-de60-4418-9b57-cf50dc5e48e0",
   "metadata": {},
   "outputs": [
    {
     "name": "stdout",
     "output_type": "stream",
     "text": [
      "11\n"
     ]
    }
   ],
   "source": [
    "class Main{\n",
    "    public static void main(String[] args){\n",
    "        int a = 10;\n",
    "        System.out.println(++a);\n",
    "    }\n",
    "}\n",
    "Main.main(null);"
   ]
  },
  {
   "cell_type": "markdown",
   "id": "7513915b-af9d-4fa4-8a2d-6deb1c941386",
   "metadata": {},
   "source": [
    "##### Pre-decrement"
   ]
  },
  {
   "cell_type": "code",
   "execution_count": 8,
   "id": "e7cd530d-2408-451c-8273-83a84e7e1310",
   "metadata": {},
   "outputs": [
    {
     "name": "stdout",
     "output_type": "stream",
     "text": [
      "9\n"
     ]
    }
   ],
   "source": [
    "class Main{\n",
    "    public static void main(String[] args){\n",
    "        int a = 10;\n",
    "        System.out.println(--a);\n",
    "    }\n",
    "}\n",
    "Main.main(null);"
   ]
  },
  {
   "cell_type": "markdown",
   "id": "0874151c-f9f7-40bb-8a76-c18e8bb3abd3",
   "metadata": {},
   "source": [
    "#### Postfix"
   ]
  },
  {
   "cell_type": "markdown",
   "id": "b3149964-9434-4cf0-a005-1ce8d1b4b53a",
   "metadata": {},
   "source": [
    "##### Post-increment"
   ]
  },
  {
   "cell_type": "code",
   "execution_count": 9,
   "id": "668e4c50-b882-430d-ad5f-ad9bb8436208",
   "metadata": {},
   "outputs": [
    {
     "name": "stdout",
     "output_type": "stream",
     "text": [
      "10\n"
     ]
    }
   ],
   "source": [
    "class Main{\n",
    "    public static void main(String[] args){\n",
    "        int a = 10;\n",
    "        System.out.println(a++);\n",
    "    }\n",
    "}\n",
    "Main.main(null);"
   ]
  },
  {
   "cell_type": "code",
   "execution_count": 10,
   "id": "f3094bcd-6d99-4cb8-a0e8-6272f7b214ec",
   "metadata": {},
   "outputs": [
    {
     "name": "stdout",
     "output_type": "stream",
     "text": [
      "10\n",
      "11\n"
     ]
    }
   ],
   "source": [
    "class Main{\n",
    "    public static void main(String[] args){\n",
    "        int a = 10;\n",
    "        System.out.println(a++);\n",
    "        System.out.println(a);\n",
    "    }\n",
    "}\n",
    "Main.main(null);"
   ]
  },
  {
   "cell_type": "markdown",
   "id": "fe5f96f3-166b-40ff-ace3-680b0e5fb310",
   "metadata": {},
   "source": [
    "##### Post-decrement"
   ]
  },
  {
   "cell_type": "code",
   "execution_count": 11,
   "id": "4aa48f25-5683-4871-86f3-0e568a4d01d0",
   "metadata": {},
   "outputs": [
    {
     "name": "stdout",
     "output_type": "stream",
     "text": [
      "10\n"
     ]
    }
   ],
   "source": [
    "class Main{\n",
    "    public static void main(String[] args){\n",
    "        int a = 10;\n",
    "        System.out.println(a--);\n",
    "    }\n",
    "}\n",
    "Main.main(null);"
   ]
  },
  {
   "cell_type": "code",
   "execution_count": 12,
   "id": "f7383044-2313-4b02-b9c7-c451521dac10",
   "metadata": {},
   "outputs": [
    {
     "name": "stdout",
     "output_type": "stream",
     "text": [
      "10\n",
      "9\n"
     ]
    }
   ],
   "source": [
    "class Main{\n",
    "    public static void main(String[] args){\n",
    "        int a = 10;\n",
    "        System.out.println(a--);\n",
    "        System.out.println(a);\n",
    "    }\n",
    "}\n",
    "Main.main(null);"
   ]
  },
  {
   "cell_type": "code",
   "execution_count": null,
   "id": "4b1ff1f7-06ca-49d2-a10a-ffb6809f8019",
   "metadata": {},
   "outputs": [],
   "source": []
  },
  {
   "cell_type": "code",
   "execution_count": null,
   "id": "2cf943fb-ecf5-4b99-afe2-115266227068",
   "metadata": {},
   "outputs": [],
   "source": []
  }
 ],
 "metadata": {
  "kernelspec": {
   "display_name": "Java",
   "language": "java",
   "name": "java"
  },
  "language_info": {
   "codemirror_mode": "java",
   "file_extension": ".jshell",
   "mimetype": "text/x-java-source",
   "name": "Java",
   "pygments_lexer": "java",
   "version": "17.0.10+11-LTS-240"
  }
 },
 "nbformat": 4,
 "nbformat_minor": 5
}
