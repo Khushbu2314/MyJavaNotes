{
 "cells": [
  {
   "cell_type": "markdown",
   "id": "ae9374ea-a4df-4c43-8090-7cd53ad80d28",
   "metadata": {},
   "source": [
    "<p style=\"text-align:right; font-weight: 700; font-size: 20px; text-decoration: underline;\"> 27/03/2024 </p>"
   ]
  },
  {
   "cell_type": "markdown",
   "id": "2b5f5cfd-3549-415e-ac56-2678fdb1707e",
   "metadata": {},
   "source": [
    "<p style=\"text-align: right;\">\n",
    "        <a href=\"https://adityakalambe01.github.io/AdityaKalambe/\" style=\"text-decoration: none; color: black; font-size: 15px; font-weight: 700;\">Click here to connect with me.</a>\n",
    "    </p>\n",
    "    <p style=\"text-align:center; font-size:25px; font-weight: 700;text-decoration: underline;\">Java Tutorial</p>"
   ]
  },
  {
   "cell_type": "markdown",
   "id": "c3848e4d-e484-4cc2-a330-8ba15ca863a0",
   "metadata": {},
   "source": [
    "## Datatypes\n",
    "1. <strong>Primitive Datatype</strong>\n",
    "   - byte\n",
    "   - short\n",
    "   - int\n",
    "   - float\n",
    "   - double\n",
    "   - boolean\n",
    "   - char\n",
    "   - long\n",
    "2. <strong>Non-Premitive Datatype</strong>\n",
    "   - Class"
   ]
  },
  {
   "cell_type": "markdown",
   "id": "15c124e4-ba69-43da-9535-4ce99df7d4c7",
   "metadata": {},
   "source": [
    "###### First Java Program"
   ]
  },
  {
   "cell_type": "code",
   "execution_count": 1,
   "id": "23df62b8-3829-461f-87cb-43813cefe441",
   "metadata": {},
   "outputs": [],
   "source": [
    "class Solution{\n",
    "    public static void main(String[] args){\n",
    "        System.out.println(\"Hello Java\");\n",
    "    }\n",
    "}"
   ]
  },
  {
   "cell_type": "code",
   "execution_count": 2,
   "id": "ac438372-abb2-4e43-bfd5-70be90ccf25e",
   "metadata": {},
   "outputs": [
    {
     "name": "stdout",
     "output_type": "stream",
     "text": [
      "Hello Java\n"
     ]
    }
   ],
   "source": [
    "Solution.main(null);"
   ]
  },
  {
   "cell_type": "markdown",
   "id": "291510c4-c94a-40ef-b5bc-6a9cc577d33d",
   "metadata": {},
   "source": [
    "<p style=\"text-align:right; font-weight: 700; font-size: 20px; text-decoration: underline;\"> 28/03/2024 </p>"
   ]
  },
  {
   "cell_type": "markdown",
   "id": "f0a9d38c-9377-47bc-b60e-c9a2057ab674",
   "metadata": {},
   "source": [
    "## Variables\n",
    "- It is like a container which is used to store data temporary.\n",
    "- Name should be identical and decaptalize.\n",
    "- <strong>Types:</strong>\n",
    "    1. Instance\n",
    "    2. Static\n",
    "    3. Local"
   ]
  },
  {
   "cell_type": "markdown",
   "id": "4e19dc27-2081-45da-be32-add81edb8a05",
   "metadata": {},
   "source": [
    "## Datatype\n",
    "1. <strong>Primitive</strong>\n",
    "   - They are predifined\n",
    "   - No need of creation\n",
    "   - Store only one value\n",
    "2. <strong>Non-Primitive</strong>\n",
    "   - They are user defined\n",
    "   - It stores multiple values\n"
   ]
  },
  {
   "cell_type": "markdown",
   "id": "71e0d732-20bd-4996-8ffd-6b424ae59b25",
   "metadata": {},
   "source": [
    "\n",
    "<table style=\"width:100%; line-spacing:10px; letter-spacing: 3px; font-size: 14px; text-align: center;\">\n",
    "    <thead>\n",
    "        <tr>\n",
    "            <th>Datatype</th>\n",
    "            <th>Size</th>\n",
    "            <th>Range</th>\n",
    "            <th>Example</th>\n",
    "        </tr>\n",
    "    </thead>\n",
    "    <tbody>\n",
    "        <tr>\n",
    "            <td> byte </td>\n",
    "            <td> 1 byte</td>\n",
    "            <td> 2<sup>-7</sup> to 2<sup>7</sup>-1</td>\n",
    "            <td> 1,2,3,... </td>\n",
    "        </tr>\n",
    "        <tr>\n",
    "            <td> short </td>\n",
    "            <td> 2 byte </td>\n",
    "            <td> 2<sup>-15</sup> to 2<sup>15</sup>-1 </td>\n",
    "            <td> 1,2,3,... </td>\n",
    "        </tr>\n",
    "        <tr>\n",
    "            <td> int </td>\n",
    "            <td> 4 byte </td>\n",
    "            <td> 2<sup>-31</sup> to 2<sup>31</sup>-1 </td>\n",
    "            <td> 1,2,3,... </td>\n",
    "        </tr>\n",
    "        <tr>\n",
    "            <td>long</td>\n",
    "            <td> 8 byte </td>\n",
    "            <td> 2<sup>-63</sup> to 2<sup>63</sup>-1 </td>\n",
    "            <td> 1,2,3,... </td>\n",
    "        </tr>\n",
    "        <tr>\n",
    "            <td>float</td>\n",
    "            <td> 4 byte </td>\n",
    "            <td> 2<sup>-31</sup> to 2<sup>31</sup>-1 </td>\n",
    "            <td> 1f,2.0f,3.36f,... </td>\n",
    "        </tr>\n",
    "        <tr>\n",
    "            <td>double</td>\n",
    "            <td> 8 byte </td>\n",
    "            <td> 2<sup>-63</sup> to 2<sup>63</sup>-1 </td>\n",
    "            <td> 1,2.025,3.023,... </td>\n",
    "        </tr>\n",
    "        <tr>\n",
    "            <td> char </td>\n",
    "            <td> 2 byte</td>\n",
    "            <td> 2<sup>-15</sup> to 2<sup>15</sup>-1 </td>\n",
    "            <td> a,b,c,D,... </td>\n",
    "        </tr>\n",
    "        <tr>\n",
    "            <td> boolean </td>\n",
    "            <td> 1 bit</td>\n",
    "            <td> 2 </td>\n",
    "            <td> true, false</td>\n",
    "        </tr>  \n",
    "    </tbody>\n",
    "</table>"
   ]
  },
  {
   "cell_type": "markdown",
   "id": "f8ebab92-51ed-42f7-97fa-086da8a679d4",
   "metadata": {},
   "source": [
    "## Datatype Presidence\n",
    "1. <strong>Premitive Datatypes</strong>\n",
    "   1. byte -> short -> int -> long -> float -> double\n",
    "   2. char -> int -> long -> float -> double\n",
    "2. <strong>Non-Premitive Datatype</strong>\n",
    "   1. child -> parent -> root -> super   "
   ]
  },
  {
   "cell_type": "code",
   "execution_count": null,
   "id": "2cf943fb-ecf5-4b99-afe2-115266227068",
   "metadata": {},
   "outputs": [],
   "source": []
  }
 ],
 "metadata": {
  "kernelspec": {
   "display_name": "Java",
   "language": "java",
   "name": "java"
  },
  "language_info": {
   "codemirror_mode": "java",
   "file_extension": ".jshell",
   "mimetype": "text/x-java-source",
   "name": "Java",
   "pygments_lexer": "java",
   "version": "17.0.10+11-LTS-240"
  }
 },
 "nbformat": 4,
 "nbformat_minor": 5
}
