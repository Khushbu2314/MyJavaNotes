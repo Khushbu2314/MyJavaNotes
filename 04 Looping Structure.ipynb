{
 "cells": [
  {
   "cell_type": "markdown",
   "id": "acd0ee25-7882-4cf8-b95c-03aef95c2b88",
   "metadata": {},
   "source": [
    "## Looping Structure\n",
    "- It is used to execute block of statements which is redundant.\n",
    "- It removes code complexity.\n",
    "- <span style=\"color: black; font-weight: 700;\">Types:</span>\n",
    "   1. while loop\n",
    "   2. do-whle loop\n",
    "   3. for loop"
   ]
  },
  {
   "cell_type": "markdown",
   "id": "38d68e6c-cd23-44da-b829-b7540929084c",
   "metadata": {},
   "source": [
    "### a. while loop\n",
    "- <span style=\"color: green; font-weight: 700;\">while</span> keyword is used to define while-loop.\n",
    "- <span style=\"color: black; font-weight: 700;\">Syntax:</span>\n",
    "  ```java\n",
    "  while(condition){\n",
    "      // statements\n",
    "   }\n",
    "   ```\n",
    "- It requires boolean <span style=\"color: green; font-weight: 700;\">true</span> value to execute the loop.\n",
    "- To make condition we have to use Relational and Logical Operators.\n",
    "- While loop checks condition at beginning so that while loop is also known as ```Entry Control Loop```."
   ]
  },
  {
   "cell_type": "markdown",
   "id": "bbcca720-6fe9-40ed-a241-90adf55221d4",
   "metadata": {},
   "source": [
    "###### Some types of errors will enconter while defining while loop are listed below"
   ]
  },
  {
   "cell_type": "code",
   "execution_count": 3,
   "id": "d7b4a83f-c6f7-4318-a544-2ec36b901f02",
   "metadata": {},
   "outputs": [
    {
     "ename": "CompilationException",
     "evalue": "",
     "output_type": "error",
     "traceback": [
      "\u001b[1m\u001b[30m|   \u001b[1m\u001b[30mwhile(\u001b[0m\u001b[1m\u001b[30m\u001b[41ma\u001b[0m\u001b[1m\u001b[30m){\u001b[0m",
      "\u001b[1m\u001b[31mcannot find symbol\u001b[0m",
      "\u001b[1m\u001b[31m  symbol:   variable a\u001b[0m",
      ""
     ]
    }
   ],
   "source": [
    "while(a){\n",
    "    System.out.print(\"Hey whats up\");\n",
    "}"
   ]
  },
  {
   "cell_type": "code",
   "execution_count": 4,
   "id": "02d9a278-02aa-4732-ab7f-15964af14c53",
   "metadata": {},
   "outputs": [
    {
     "ename": "CompilationException",
     "evalue": "",
     "output_type": "error",
     "traceback": [
      "\u001b[1m\u001b[30m|   \u001b[1m\u001b[30mwhile(false)\u001b[0m\u001b[1m\u001b[30m\u001b[41m{\u001b[0m",
      "\u001b[1m\u001b[30m|   \u001b[1m\u001b[30m\u001b[41m    System.out.print(\"Hey whats up\");\u001b[0m",
      "\u001b[1m\u001b[30m|   \u001b[1m\u001b[30m\u001b[41m}\u001b[0m",
      "\u001b[1m\u001b[31munreachable statement\u001b[0m",
      "",
      "\u001b[1m\u001b[30m|   \u001b[1m\u001b[30m\u001b[0m\u001b[1m\u001b[30m\u001b[41mwhile(false){\u001b[0m",
      "\u001b[1m\u001b[30m|   \u001b[1m\u001b[30m\u001b[41m    System.out.print(\"Hey whats up\");\u001b[0m",
      "\u001b[1m\u001b[30m|   \u001b[1m\u001b[30m\u001b[41m}\u001b[0m",
      "\u001b[1m\u001b[31mmissing return statement\u001b[0m",
      ""
     ]
    }
   ],
   "source": [
    "while(false){\n",
    "    System.out.print(\"Hey whats up\");\n",
    "}"
   ]
  },
  {
   "cell_type": "code",
   "execution_count": 5,
   "id": "d135fdc6-15c9-4dbf-bbd1-405496e35c02",
   "metadata": {},
   "outputs": [
    {
     "ename": "CompilationException",
     "evalue": "",
     "output_type": "error",
     "traceback": [
      "\u001b[1m\u001b[30m|   \u001b[1m\u001b[30mwhile(\u001b[0m\u001b[1m\u001b[30m\u001b[41m1\u001b[0m\u001b[1m\u001b[30m){\u001b[0m",
      "\u001b[1m\u001b[31mincompatible types: int cannot be converted to boolean\u001b[0m",
      ""
     ]
    }
   ],
   "source": [
    "while(1){\n",
    "    System.out.print(\"Hey whats up\");\n",
    "}"
   ]
  },
  {
   "cell_type": "code",
   "execution_count": 6,
   "id": "f131be6a-638f-408b-905b-27155f5d25c4",
   "metadata": {},
   "outputs": [
    {
     "ename": "CompilationException",
     "evalue": "",
     "output_type": "error",
     "traceback": [
      "\u001b[1m\u001b[30m|   \u001b[1m\u001b[30m    System.out.print(\u001b[0m\u001b[1m\u001b[30m\u001b[41ma\u001b[0m\u001b[1m\u001b[30m);\u001b[0m",
      "\u001b[1m\u001b[31mcannot find symbol\u001b[0m",
      "\u001b[1m\u001b[31m  symbol:   variable a\u001b[0m",
      ""
     ]
    }
   ],
   "source": [
    "while(true){\n",
    "    System.out.print(a);\n",
    "}"
   ]
  },
  {
   "cell_type": "markdown",
   "id": "ea4c06fd-5599-4add-8ab7-04858509325c",
   "metadata": {},
   "source": [
    "###### Current way to define while loop is shown below"
   ]
  },
  {
   "cell_type": "code",
   "execution_count": 1,
   "id": "9b677960-91c0-4dd1-90c0-f265729551a8",
   "metadata": {},
   "outputs": [
    {
     "name": "stdout",
     "output_type": "stream",
     "text": [
      "1 2 3 4 5 6 7 8 9 10 "
     ]
    }
   ],
   "source": [
    "int i = 1;\n",
    "while(i<=10){\n",
    "    System.out.print(i++ +\" \");\n",
    "}"
   ]
  },
  {
   "cell_type": "markdown",
   "id": "8fe80f22-f4e2-4b21-be2b-4195adbf3e93",
   "metadata": {},
   "source": [
    "### b. do-while loop\n",
    "- <span style=\"color: green; font-weight: 700;\">do</span> and <span style=\"color: green; font-weight: 700;\">while</span> keyword is used to define do while loop.\n",
    "- <span style=\"color: black; font-weight: 700;\">Syntax:</span>\n",
    "  ```java\n",
    "  do{\n",
    "      //statements\n",
    "    }while(condition);\n",
    "    ```\n",
    "- This loop is used at those cases at where we want to execute certain block of statement at least once even if condition is <span style=\"color: green; font-weight: 700;\">true</span> or <span style=\"color: green; font-weight: 700;\">false</span>.\n",
    "- It is also known as ```Exit Control Loop``` because it checks condition at last.\n",
    "- It is mainly used in ```Menu Driven Applications```. "
   ]
  },
  {
   "cell_type": "markdown",
   "id": "98b5ce47-6df3-4d06-b7db-8537b45d4f06",
   "metadata": {},
   "source": [
    "###### Some examples of while loop and do while loop"
   ]
  },
  {
   "cell_type": "code",
   "execution_count": 7,
   "id": "15aebc80-baac-444a-8266-b19d2da8ea7a",
   "metadata": {},
   "outputs": [
    {
     "name": "stdout",
     "output_type": "stream",
     "text": [
      "10 * 1 : 10\n",
      "10 * 2 : 20\n",
      "10 * 3 : 30\n",
      "10 * 4 : 40\n",
      "10 * 5 : 50\n",
      "10 * 6 : 60\n",
      "10 * 7 : 70\n",
      "10 * 8 : 80\n",
      "10 * 9 : 90\n",
      "10 * 10 : 100\n"
     ]
    }
   ],
   "source": [
    "class Table{\n",
    "    public static void main(String[] args){\n",
    "        int i = 1;\n",
    "        int number = 10;\n",
    "        while(i<=10){\n",
    "            System.out.println(number+\" * \"+i+\" : \"+i*number);\n",
    "            i++;\n",
    "        }\n",
    "    }\n",
    "}\n",
    "Table.main(null);"
   ]
  },
  {
   "cell_type": "code",
   "execution_count": 9,
   "id": "d98e213f-ed5f-42b3-954e-6e20604c768c",
   "metadata": {},
   "outputs": [
    {
     "name": "stdout",
     "output_type": "stream",
     "text": [
      "10 * 10 : 100\n",
      "10 * 9 : 90\n",
      "10 * 8 : 80\n",
      "10 * 7 : 70\n",
      "10 * 6 : 60\n",
      "10 * 5 : 50\n",
      "10 * 4 : 40\n",
      "10 * 3 : 30\n",
      "10 * 2 : 20\n",
      "10 * 1 : 10\n"
     ]
    }
   ],
   "source": [
    "class ReverseTable{\n",
    "    public static void main(String[] args){\n",
    "        int i = 10;\n",
    "        int number = 10;\n",
    "        do{\n",
    "            System.out.println(number+\" * \"+i+\" : \"+i*number);\n",
    "            i--;\n",
    "        }while(i>=1);\n",
    "    }\n",
    "}\n",
    "ReverseTable.main(null);"
   ]
  },
  {
   "cell_type": "markdown",
   "id": "d46e91ef-2664-47c7-b916-210b55f4a415",
   "metadata": {},
   "source": [
    "### c. for loop\n",
    "- It uses less memory as compared to the ```while loop``` and ```do-while loop``` because in ```for loop``` we initialize the variable at the time of loop defination and the variable is accessible within the loop & scope of these variable is limited for the loop if we access the variable outside the loop then it will show error.\n",
    "- <span style=\"color: black; font-weight: 700;\">Syntax:</span>\n",
    "  ```java\n",
    "  for(initilization; condition; evaluation){\n",
    "      //statements\n",
    "  }\n",
    "  ```"
   ]
  },
  {
   "cell_type": "code",
   "execution_count": 10,
   "id": "2c6ab2ad-a350-4709-8549-ff81fccd2508",
   "metadata": {},
   "outputs": [
    {
     "name": "stdout",
     "output_type": "stream",
     "text": [
      "0\n",
      "1\n",
      "2\n",
      "3\n",
      "4\n",
      "5\n",
      "6\n",
      "7\n",
      "8\n",
      "9\n",
      "10\n"
     ]
    }
   ],
   "source": [
    "for(int i = 0; i<=10; i++){\n",
    "    System.out.println(i);\n",
    "}"
   ]
  },
  {
   "cell_type": "code",
   "execution_count": 13,
   "id": "9a836999-8439-4760-b003-25ffd0802698",
   "metadata": {},
   "outputs": [
    {
     "ename": "CompilationException",
     "evalue": "",
     "output_type": "error",
     "traceback": [
      "\u001b[1m\u001b[30m|   \u001b[1m\u001b[30mSystem.out.println(\u001b[0m\u001b[1m\u001b[30m\u001b[41mj\u001b[0m\u001b[1m\u001b[30m);\u001b[0m",
      "\u001b[1m\u001b[31mcannot find symbol\u001b[0m",
      "\u001b[1m\u001b[31m  symbol:   variable j\u001b[0m",
      ""
     ]
    }
   ],
   "source": [
    "for(int j = 0; j<=10; j++){\n",
    "    // System.out.println(j);\n",
    "}\n",
    "System.out.println(j);"
   ]
  },
  {
   "cell_type": "code",
   "execution_count": null,
   "id": "6391ca11-846d-4a41-bef6-4c11907e3c1d",
   "metadata": {},
   "outputs": [],
   "source": []
  }
 ],
 "metadata": {
  "kernelspec": {
   "display_name": "Java",
   "language": "java",
   "name": "java"
  },
  "language_info": {
   "codemirror_mode": "java",
   "file_extension": ".jshell",
   "mimetype": "text/x-java-source",
   "name": "Java",
   "pygments_lexer": "java",
   "version": "17.0.10+11-LTS-240"
  }
 },
 "nbformat": 4,
 "nbformat_minor": 5
}
