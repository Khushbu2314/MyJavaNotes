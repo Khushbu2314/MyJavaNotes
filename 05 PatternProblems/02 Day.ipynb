{
 "cells": [
{
   "cell_type": "markdown",
   "id": "2b5f5cfd-3549-415e-ac56-2678fdb1707e",
   "metadata": {},
   "source": [
    "<p style=\"text-align: right;\">\n",
    "        <a href=\"https://adityakalambe01.github.io/AdityaKalambe/\" style=\"text-decoration: none; color: black; font-size: 15px; font-weight: 700;\">Click here to connect with me.</a>\n",
    "    </p>\n"
   ]
  },

  {
   "cell_type": "markdown",
   "id": "48bf927b-2aec-404b-ab38-7db466deb188",
   "metadata": {},
   "source": [
    "### Q\n",
    "```java\n",
    "*\n",
    "**\n",
    "***\n",
    "****\n",
    "*****\n",
    "```"
   ]
  },
  {
   "cell_type": "code",
   "execution_count": 1,
   "id": "d61e5478-ed0b-4ecc-8d62-70537590ee1b",
   "metadata": {},
   "outputs": [
    {
     "name": "stdout",
     "output_type": "stream",
     "text": [
      "*\n",
      "**\n",
      "***\n",
      "****\n",
      "*****\n"
     ]
    }
   ],
   "source": [
    "public class StarPattern{\n",
    "    public static void main(String[] args){\n",
    "        int n = 5;\n",
    "        for(int row = 1; row <= n; row++){\n",
    "            for(int column = row; column>=1; column--){\n",
    "                System.out.print(\"*\");\n",
    "            }\n",
    "            System.out.print(\"\\n\");\n",
    "        }\n",
    "    }\n",
    "}\n",
    "StarPattern.main(null);"
   ]
  },
  {
   "cell_type": "code",
   "execution_count": 2,
   "id": "d4761d51-34ca-4417-a0b1-9b70cda438f7",
   "metadata": {},
   "outputs": [
    {
     "name": "stdout",
     "output_type": "stream",
     "text": [
      "*\n",
      "**\n",
      "***\n",
      "****\n",
      "*****\n"
     ]
    }
   ],
   "source": [
    "public class StarPattern{\n",
    "    public static void main(String[] args){\n",
    "        int n = 5;\n",
    "        for(int row = n; row >= 1; row--){\n",
    "            for(int column = row; column<=n; column++){\n",
    "                System.out.print(\"*\");\n",
    "            }\n",
    "            System.out.print(\"\\n\");\n",
    "        }\n",
    "    }\n",
    "}\n",
    "StarPattern.main(null);"
   ]
  },
  {
   "cell_type": "markdown",
   "id": "33200f27-6744-4dfc-bdcd-6b4cc31f1b07",
   "metadata": {},
   "source": [
    "### Q\n",
    "```java\n",
    "*****\n",
    "****\n",
    "***\n",
    "**\n",
    "*\n",
    "```"
   ]
  },
  {
   "cell_type": "code",
   "execution_count": 3,
   "id": "259edd58-278d-46ea-9f21-b99d7c90b989",
   "metadata": {},
   "outputs": [
    {
     "name": "stdout",
     "output_type": "stream",
     "text": [
      "*****\n",
      "****\n",
      "***\n",
      "**\n",
      "*\n"
     ]
    }
   ],
   "source": [
    "public class StarPattern{\n",
    "    public static void main(String[] args){\n",
    "        int n = 5;\n",
    "        for(int i = 1; i<=n; i++){\n",
    "            for(int j = i; j<=n ; j++){\n",
    "                System.out.print(\"*\");\n",
    "            }        \n",
    "            System.out.println();\n",
    "        }\n",
    "    }\n",
    "}\n",
    "StarPattern.main(null);"
   ]
  },
  {
   "cell_type": "markdown",
   "id": "cedf72b3-6254-4653-85d1-5bd6a7cfe576",
   "metadata": {},
   "source": [
    "### Q\n",
    "```java\n",
    "1\n",
    "22\n",
    "333\n",
    "4444\n",
    "55555\n",
    "```"
   ]
  },
  {
   "cell_type": "code",
   "execution_count": 4,
   "id": "af74430f-6291-4f77-ae35-a91f84c6d555",
   "metadata": {},
   "outputs": [
    {
     "name": "stdout",
     "output_type": "stream",
     "text": [
      "1\n",
      "22\n",
      "333\n",
      "4444\n",
      "55555\n"
     ]
    }
   ],
   "source": [
    "class NumberPattern{\n",
    "    public static void main(String[] args){\n",
    "        int n = 5;\n",
    "        for(int i = 1; i<=n ; i++){\n",
    "            for(int j = 1 ; j<=i; j++){\n",
    "                System.out.print(i);\n",
    "            }\n",
    "            System.out.println();\n",
    "        }\n",
    "    }\n",
    "}\n",
    "NumberPattern.main(null);"
   ]
  },
  {
   "cell_type": "markdown",
   "id": "bfa2bb1e-03ae-44d9-8683-31ad66b11ad0",
   "metadata": {},
   "source": [
    "### Q\n",
    "```java\n",
    "5\n",
    "44\n",
    "333\n",
    "2222\n",
    "11111\n",
    "```"
   ]
  },
  {
   "cell_type": "code",
   "execution_count": 5,
   "id": "a4198501-ca79-4670-9f19-0c3c4e58597b",
   "metadata": {},
   "outputs": [
    {
     "name": "stdout",
     "output_type": "stream",
     "text": [
      "5\n",
      "44\n",
      "333\n",
      "2222\n",
      "11111\n"
     ]
    }
   ],
   "source": [
    "class NumberPattern{\n",
    "    public static void main(String[] args){\n",
    "       int n = 5;\n",
    "        for(int i = n; i>=1; i--){\n",
    "            for(int j=i; j<=n; j++){\n",
    "                System.out.print(i);\n",
    "            }\n",
    "            System.out.print(\"\\n\");\n",
    "        }\n",
    "    }\n",
    "}\n",
    "NumberPattern.main(null);"
   ]
  },
  {
   "cell_type": "markdown",
   "id": "553e4be7-f68b-4031-9ade-4840df0536fe",
   "metadata": {},
   "source": [
    "### Q\n",
    "```java\n",
    "11111\n",
    "2222\n",
    "333\n",
    "44\n",
    "5\n",
    "```"
   ]
  },
  {
   "cell_type": "code",
   "execution_count": 6,
   "id": "028c6aa7-5ba4-475e-952b-17791097d585",
   "metadata": {},
   "outputs": [
    {
     "name": "stdout",
     "output_type": "stream",
     "text": [
      "11111\n",
      "2222\n",
      "333\n",
      "44\n",
      "5\n"
     ]
    }
   ],
   "source": [
    "class Main{\n",
    "    public static void main(String[] args){\n",
    "        int n = 5;\n",
    "        for(int i = 1; i<=n; i++){\n",
    "            for(int j = n; j>=i; j--){\n",
    "                System.out.print(i);\n",
    "            }\n",
    "            System.out.print(\"\\n\");\n",
    "        }\n",
    "    }\n",
    "}\n",
    "Main.main(null);"
   ]
  },
  {
   "cell_type": "markdown",
   "id": "a3c9c28a-1f4f-4120-97d0-25139e2cf574",
   "metadata": {},
   "source": [
    "### Q\n",
    "```java\n",
    "1\n",
    "12\n",
    "123\n",
    "1234\n",
    "12345\n",
    "```"
   ]
  },
  {
   "cell_type": "code",
   "execution_count": 7,
   "id": "81e1def5-2ac2-4622-ba95-7b3c6e3314eb",
   "metadata": {},
   "outputs": [
    {
     "name": "stdout",
     "output_type": "stream",
     "text": [
      "1\n",
      "12\n",
      "123\n",
      "1234\n",
      "12345\n"
     ]
    }
   ],
   "source": [
    "class Main{\n",
    "    public static void main(String[] args){\n",
    "        int n = 5;\n",
    "        for(int i = 1; i<=n; i++){\n",
    "            for(int j = 1; j<=i; j++){\n",
    "                System.out.print(j);\n",
    "            }\n",
    "            System.out.print(\"\\n\");\n",
    "        }\n",
    "    }\n",
    "}\n",
    "Main.main(null);"
   ]
  },
  {
   "cell_type": "markdown",
   "id": "76449d85-c21c-43c8-aa3e-3ee83178ab20",
   "metadata": {},
   "source": [
    "### Q\n",
    "```java\n",
    "1\n",
    "21\n",
    "321\n",
    "4321\n",
    "54321\n",
    "```"
   ]
  },
  {
   "cell_type": "code",
   "execution_count": 11,
   "id": "185f2179-6f6e-421e-af3f-e14ec7cbb4cf",
   "metadata": {},
   "outputs": [
    {
     "name": "stdout",
     "output_type": "stream",
     "text": [
      "1\n",
      "21\n",
      "321\n",
      "4321\n",
      "54321\n"
     ]
    }
   ],
   "source": [
    "class Main{\n",
    "    public static void main(String[] args){\n",
    "        int n = 5;\n",
    "        for(int i = 1; i<=n; i++){\n",
    "            for(int j=i; j>=1; j--){\n",
    "                System.out.print(j);\n",
    "            }\n",
    "            System.out.print(\"\\n\");\n",
    "        }\n",
    "    }\n",
    "}\n",
    "Main.main(null);"
   ]
  },
  {
   "cell_type": "code",
   "execution_count": null,
   "id": "c1dac778-9be7-4794-8360-91fcd6477e92",
   "metadata": {},
   "outputs": [],
   "source": []
  }
 ],
 "metadata": {
  "kernelspec": {
   "display_name": "Java",
   "language": "java",
   "name": "java"
  },
  "language_info": {
   "codemirror_mode": "java",
   "file_extension": ".jshell",
   "mimetype": "text/x-java-source",
   "name": "Java",
   "pygments_lexer": "java",
   "version": "17.0.10+11-LTS-240"
  }
 },
 "nbformat": 4,
 "nbformat_minor": 5
}
