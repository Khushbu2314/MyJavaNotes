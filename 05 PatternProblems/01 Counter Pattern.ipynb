{
 "cells": [
  {
   "cell_type": "code",
   "execution_count": 1,
   "id": "ee15c6e0-4417-46dd-bc59-d96f31d88daa",
   "metadata": {},
   "outputs": [],
   "source": [
    "int n = 5;"
   ]
  },
  {
   "cell_type": "code",
   "execution_count": 2,
   "id": "85f51938-63b2-4b38-bfe7-cd85dcae4cc2",
   "metadata": {},
   "outputs": [
    {
     "name": "stdout",
     "output_type": "stream",
     "text": [
      "1\t\n",
      "2\t3\t\n",
      "4\t5\t6\t\n",
      "7\t8\t9\t10\t\n",
      "11\t12\t13\t14\t15\t\n"
     ]
    }
   ],
   "source": [
    "int counter = 1;\n",
    "for(int i = 1; i<=n; i++){\n",
    "    for(int j = 1; j<=i; j++){\n",
    "        System.out.print(counter+\"\\t\");\n",
    "        counter++;\n",
    "    }\n",
    "    System.out.println();\n",
    "}"
   ]
  },
  {
   "cell_type": "code",
   "execution_count": 3,
   "id": "e136e993-62a2-403d-8437-f95400104938",
   "metadata": {},
   "outputs": [
    {
     "name": "stdout",
     "output_type": "stream",
     "text": [
      "15\t\n",
      "14\t13\t\n",
      "12\t11\t10\t\n",
      "9\t8\t7\t6\t\n",
      "5\t4\t3\t2\t1\t\n"
     ]
    }
   ],
   "source": [
    "int counter = n*(n+1)/2;\n",
    "for(int i = 1; i<=n; i++){\n",
    "    for(int j = 1; j<=i; j++){\n",
    "        System.out.print(counter+\"\\t\");\n",
    "        counter--;\n",
    "    }\n",
    "    System.out.println();\n",
    "}"
   ]
  },
  {
   "cell_type": "code",
   "execution_count": 4,
   "id": "c733e18a-c31b-49d6-87ca-97f047bc3958",
   "metadata": {},
   "outputs": [
    {
     "name": "stdout",
     "output_type": "stream",
     "text": [
      "1\t\n",
      "3\t2\t\n",
      "6\t5\t4\t\n",
      "10\t9\t8\t7\t\n",
      "15\t14\t13\t12\t11\t\n"
     ]
    }
   ],
   "source": [
    "int counter = 1;\n",
    "for(int i = 1; i<=n; i++){\n",
    "    int c = counter;\n",
    "    for(int j = 1; j<=i; j++){\n",
    "        System.out.print(c+\"\\t\");\n",
    "        c--;\n",
    "    }\n",
    "    System.out.println();\n",
    "    counter+=i+1;\n",
    "}"
   ]
  },
  {
   "cell_type": "code",
   "execution_count": 5,
   "id": "5eaa2d2f-ab7c-4224-8772-fd139359b003",
   "metadata": {},
   "outputs": [
    {
     "name": "stdout",
     "output_type": "stream",
     "text": [
      "15\t\n",
      "13\t14\t\n",
      "10\t11\t12\t\n",
      "6\t7\t8\t9\t\n",
      "1\t2\t3\t4\t5\t\n"
     ]
    }
   ],
   "source": [
    "int counter = n*(n+1)/2;\n",
    "for(int i = 1; i<=n; i++){\n",
    "    int c = counter;\n",
    "    for(int j = 1; j<=i; j++){\n",
    "        System.out.print(c+\"\\t\");\n",
    "        c++;\n",
    "    }\n",
    "    System.out.println();\n",
    "    counter-=i+1;\n",
    "}"
   ]
  },
  {
   "cell_type": "code",
   "execution_count": 6,
   "id": "fbf414ae-9a2b-4218-b18a-b3d6a1435180",
   "metadata": {},
   "outputs": [
    {
     "name": "stdout",
     "output_type": "stream",
     "text": [
      "1\t\n",
      "2\t6\t\n",
      "3\t7\t10\t\n",
      "4\t8\t11\t13\t\n",
      "5\t9\t12\t14\t15\t\n"
     ]
    }
   ],
   "source": [
    "int counter = 1;\n",
    "for(int i = 1; i<=n; i++){\n",
    "    int c = counter;\n",
    "    for(int j = 1; j<=i; j++){\n",
    "        System.out.print(c+\"\\t\");\n",
    "        c+=n-j;\n",
    "    }\n",
    "    counter++;\n",
    "    System.out.println();\n",
    "}"
   ]
  },
  {
   "cell_type": "code",
   "execution_count": 7,
   "id": "bf8eb0c3-c8b3-4c4f-bdf6-cdc8c5fe5a3f",
   "metadata": {},
   "outputs": [
    {
     "name": "stdout",
     "output_type": "stream",
     "text": [
      "5\t\n",
      "4\t9\t\n",
      "3\t8\t12\t\n",
      "2\t7\t11\t14\t\n",
      "1\t6\t10\t13\t15\t\n"
     ]
    }
   ],
   "source": [
    "int counter = n;\n",
    "for(int i = 1; i<=n; i++){\n",
    "    int c = counter;\n",
    "    for(int j = 1; j<=i; j++){\n",
    "        System.out.print(c+\"\\t\");\n",
    "        c+=n-j+1;\n",
    "    }\n",
    "    counter--;\n",
    "    System.out.println();\n",
    "}"
   ]
  },
  {
   "cell_type": "code",
   "execution_count": 8,
   "id": "ccdc1898-fcbc-451d-89cb-0918a4e7420a",
   "metadata": {},
   "outputs": [
    {
     "name": "stdout",
     "output_type": "stream",
     "text": [
      "15\t\n",
      "14\t10\t\n",
      "13\t9\t6\t\n",
      "12\t8\t5\t3\t\n",
      "11\t7\t4\t2\t1\t\n"
     ]
    }
   ],
   "source": [
    "int counter = n*(n+1)/2;\n",
    "for(int i = 1; i<=n; i++){\n",
    "    int c = counter;\n",
    "    for(int j = 1; j<=i; j++){\n",
    "        System.out.print(c+\"\\t\");\n",
    "        c-=n-j;\n",
    "    }\n",
    "    counter--;\n",
    "    System.out.println();\n",
    "}"
   ]
  },
  {
   "cell_type": "code",
   "execution_count": 9,
   "id": "3472621c-a84d-490d-8d64-7f9845e49fef",
   "metadata": {},
   "outputs": [
    {
     "name": "stdout",
     "output_type": "stream",
     "text": [
      "11\t\n",
      "12\t7\t\n",
      "13\t8\t4\t\n",
      "14\t9\t5\t2\t\n",
      "15\t10\t6\t3\t1\t\n"
     ]
    }
   ],
   "source": [
    "int counter = n*(n+1)/2 -(n-1);\n",
    "for(int i = 1; i<=n; i++){\n",
    "    int c = counter;\n",
    "    for(int j = 1; j<=i; j++){\n",
    "        System.out.print(c+\"\\t\");\n",
    "        c-=n-j+1;\n",
    "    }\n",
    "    counter++;\n",
    "    System.out.println();\n",
    "}"
   ]
  },
  {
   "cell_type": "code",
   "execution_count": 10,
   "id": "7f930d30-e162-4906-bc70-97814af2f3f9",
   "metadata": {},
   "outputs": [
    {
     "name": "stdout",
     "output_type": "stream",
     "text": [
      "1\t\n",
      "6\t2\t\n",
      "10\t7\t3\t\n",
      "13\t11\t8\t4\t\n",
      "15\t14\t12\t9\t5\t\n"
     ]
    }
   ],
   "source": [
    "int counter = 1;\n",
    "for(int i = 1; i<=n; i++){\n",
    "    int c = counter;\n",
    "    for(int j = 1; j<=i; j++){\n",
    "        System.out.print(c+\"\\t\");\n",
    "        c-=n-i+j;\n",
    "    }\n",
    "    \n",
    "    System.out.print(\"\\n\");\n",
    "    counter+=n-i+1;\n",
    "    \n",
    "}"
   ]
  },
  {
   "cell_type": "code",
   "execution_count": 11,
   "id": "064bbe3f-ac15-466a-b117-7c3617497bf7",
   "metadata": {},
   "outputs": [
    {
     "name": "stdout",
     "output_type": "stream",
     "text": [
      "5\t\n",
      "9\t4\t\n",
      "12\t8\t3\t\n",
      "14\t11\t7\t2\t\n",
      "15\t13\t10\t6\t1\t\n"
     ]
    }
   ],
   "source": [
    "int counter = n;\n",
    "for(int i = 1; i<=n; i++){\n",
    "    int c = counter;\n",
    "    for(int j = 1; j<=i; j++){\n",
    "        System.out.print(c+\"\\t\");\n",
    "        c-=n-i+j+1;\n",
    "    }\n",
    "    System.out.println();\n",
    "    counter+=n-i;\n",
    "}"
   ]
  },
  {
   "cell_type": "code",
   "execution_count": 12,
   "id": "aa6ac1cb-d1a0-4bd9-a9ee-2e61b99cc930",
   "metadata": {},
   "outputs": [
    {
     "name": "stdout",
     "output_type": "stream",
     "text": [
      "11\t\n",
      "7\t12\t\n",
      "4\t8\t13\t\n",
      "2\t5\t9\t14\t\n",
      "1\t3\t6\t10\t15\t\n"
     ]
    }
   ],
   "source": [
    "int counter = n*(n+1)/2 - (n-1);\n",
    "for(int i = 1; i<=n; i++){\n",
    "    int c = counter;\n",
    "    for(int j = 1; j<=i; j++){\n",
    "        System.out.print(c+\"\\t\");\n",
    "        c+=n-i+j+1;\n",
    "    }\n",
    "    System.out.println();\n",
    "    counter-=n-i;\n",
    "}"
   ]
  },
  {
   "cell_type": "code",
   "execution_count": 13,
   "id": "86d8667f-ee91-4b55-b84b-12eed7f49704",
   "metadata": {},
   "outputs": [
    {
     "name": "stdout",
     "output_type": "stream",
     "text": [
      "15\t\n",
      "10\t14\t\n",
      "6\t9\t13\t\n",
      "3\t5\t8\t12\t\n",
      "1\t2\t4\t7\t11\t\n"
     ]
    }
   ],
   "source": [
    "int counter = n*(n+1)/2;\n",
    "for(int i = 1; i<=n ;i++){\n",
    "    int c = counter;\n",
    "    for(int j = 1; j<=i; j++){\n",
    "        System.out.print(c+\"\\t\");\n",
    "        c+=n-i+j;\n",
    "    }\n",
    "    System.out.println();\n",
    "    counter-=n-i+1;\n",
    "    \n",
    "}"
   ]
  },
  {
   "cell_type": "code",
   "execution_count": null,
   "id": "a638227b-1036-4b67-897f-88d95e10f81c",
   "metadata": {},
   "outputs": [],
   "source": []
  }
 ],
 "metadata": {
  "kernelspec": {
   "display_name": "Java",
   "language": "java",
   "name": "java"
  },
  "language_info": {
   "codemirror_mode": "java",
   "file_extension": ".jshell",
   "mimetype": "text/x-java-source",
   "name": "Java",
   "pygments_lexer": "java",
   "version": "17.0.10+11-LTS-240"
  }
 },
 "nbformat": 4,
 "nbformat_minor": 5
}
