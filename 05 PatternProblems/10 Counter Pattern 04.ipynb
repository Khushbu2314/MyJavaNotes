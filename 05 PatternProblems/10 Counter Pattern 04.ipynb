{
 "cells": [
  {
   "cell_type": "code",
   "execution_count": 1,
   "id": "cb7bb9db-9047-4534-aaa1-2a3c18d78291",
   "metadata": {},
   "outputs": [],
   "source": [
    "int n = 5;"
   ]
  },
  {
   "cell_type": "code",
   "execution_count": 2,
   "id": "15d93186-ab18-4841-8c84-4eef1e2f9057",
   "metadata": {},
   "outputs": [
    {
     "name": "stdout",
     "output_type": "stream",
     "text": [
      "1\t2\t3\t4\t5\t\n",
      "\t6\t7\t8\t9\t\n",
      "\t\t10\t11\t12\t\n",
      "\t\t\t13\t14\t\n",
      "\t\t\t\t15\t\n"
     ]
    }
   ],
   "source": [
    "int counter = 1;\n",
    "for(int  i = 1; i<=n; i++){\n",
    "\n",
    "    for(int j = 1; j<=i-1; j++){\n",
    "        System.out.print(\"\\t\");\n",
    "    }\n",
    "    for(int j = i;j<=n; j++){\n",
    "        System.out.print(counter+++\"\\t\");\n",
    "    }\n",
    "    System.out.println();\n",
    "}"
   ]
  },
  {
   "cell_type": "code",
   "execution_count": 3,
   "id": "09c74be4-09b5-43c9-9ec2-5f436263e134",
   "metadata": {},
   "outputs": [
    {
     "name": "stdout",
     "output_type": "stream",
     "text": [
      "15\t14\t13\t12\t11\t\n",
      "\t10\t9\t8\t7\t\n",
      "\t\t6\t5\t4\t\n",
      "\t\t\t3\t2\t\n",
      "\t\t\t\t1\t\n"
     ]
    }
   ],
   "source": [
    "int counter = 15;\n",
    "for(int  i = 1; i<=n; i++){\n",
    "    int c = counter;\n",
    "    for(int j = 1; j<=i-1; j++){\n",
    "        System.out.print(\"\\t\");\n",
    "    }\n",
    "    \n",
    "    for(int j = i;j<=n; j++){\n",
    "        System.out.print(counter--+\"\\t\");\n",
    "    }\n",
    "    System.out.println();\n",
    "}"
   ]
  },
  {
   "cell_type": "code",
   "execution_count": 4,
   "id": "c44615f1-6dd1-4dcd-b7d5-976ddf361fec",
   "metadata": {},
   "outputs": [
    {
     "name": "stdout",
     "output_type": "stream",
     "text": [
      "5\t4\t3\t2\t1\t\n",
      "\t9\t8\t7\t6\t\n",
      "\t\t12\t11\t10\t\n",
      "\t\t\t14\t13\t\n",
      "\t\t\t\t15\t\n"
     ]
    }
   ],
   "source": [
    "int counter = n;\n",
    "for(int  i = 1; i<=n; i++){\n",
    "    int c = counter;\n",
    "    for(int j = 1; j<=i-1; j++){\n",
    "        System.out.print(\"\\t\");\n",
    "    }\n",
    "    for(int j = i;j<=n; j++){\n",
    "        System.out.print(c--+\"\\t\");\n",
    "    }\n",
    "    counter+=n-i;\n",
    "    System.out.println();\n",
    "}"
   ]
  },
  {
   "cell_type": "code",
   "execution_count": 5,
   "id": "6f9d0a16-3a97-40c2-af4f-e1c4c411d992",
   "metadata": {},
   "outputs": [
    {
     "name": "stdout",
     "output_type": "stream",
     "text": [
      "11\t12\t13\t14\t15\t\n",
      "\t7\t8\t9\t10\t\n",
      "\t\t4\t5\t6\t\n",
      "\t\t\t2\t3\t\n",
      "\t\t\t\t1\t\n"
     ]
    }
   ],
   "source": [
    "int counter = n*(n-1)/2+1;\n",
    "for(int  i = 1; i<=n; i++){\n",
    "    int c = counter;\n",
    "    for(int j = 1; j<=i-1; j++){\n",
    "        System.out.print(\"\\t\");\n",
    "    }\n",
    "    for(int j = i;j<=n; j++){\n",
    "        System.out.print(c+++\"\\t\");\n",
    "    }\n",
    "    counter-=n-i;\n",
    "    System.out.println();\n",
    "}"
   ]
  },
  {
   "cell_type": "code",
   "execution_count": 6,
   "id": "b64c172b-2568-46cf-bc8e-b1b17d100db3",
   "metadata": {},
   "outputs": [
    {
     "name": "stdout",
     "output_type": "stream",
     "text": [
      "1\t6\t10\t13\t15\t\n",
      "\t2\t7\t11\t14\t\n",
      "\t\t3\t8\t12\t\n",
      "\t\t\t4\t9\t\n",
      "\t\t\t\t5\t\n"
     ]
    }
   ],
   "source": [
    "int counter = 1;\n",
    "for(int  i = 1; i<=n; i++){\n",
    "    int c = counter;\n",
    "    for(int j = 1; j<=i-1; j++){\n",
    "        System.out.print(\"\\t\");\n",
    "    }\n",
    "    for(int j = n;j>=i; j--){\n",
    "        System.out.print(c+\"\\t\");\n",
    "        c+=j;\n",
    "    }\n",
    "    counter++;\n",
    "    System.out.println();\n",
    "}"
   ]
  },
  {
   "cell_type": "code",
   "execution_count": 7,
   "id": "7f5d89a9-f506-4027-b865-2b6174d83ac2",
   "metadata": {},
   "outputs": [
    {
     "name": "stdout",
     "output_type": "stream",
     "text": [
      "5\t9\t12\t14\t15\t\n",
      "\t4\t8\t11\t13\t\n",
      "\t\t3\t7\t10\t\n",
      "\t\t\t2\t6\t\n",
      "\t\t\t\t1\t\n"
     ]
    }
   ],
   "source": [
    "int counter = n;\n",
    "for(int  i = 1; i<=n; i++){\n",
    "    int c = counter;\n",
    "    for(int j = 1; j<=i-1; j++){\n",
    "        System.out.print(\"\\t\");\n",
    "    }\n",
    "    for(int j = n;j>=i; j--){\n",
    "        System.out.print(c+\"\\t\");\n",
    "        c+=j-1;\n",
    "    }\n",
    "    counter--;\n",
    "    System.out.println();\n",
    "}"
   ]
  },
  {
   "cell_type": "code",
   "execution_count": 8,
   "id": "bc5ea5dc-85ad-4dc0-8e86-e6136dcd7f50",
   "metadata": {},
   "outputs": [
    {
     "name": "stdout",
     "output_type": "stream",
     "text": [
      "15\t10\t6\t3\t1\t\n",
      "\t14\t9\t5\t2\t\n",
      "\t\t13\t8\t4\t\n",
      "\t\t\t12\t7\t\n",
      "\t\t\t\t11\t\n"
     ]
    }
   ],
   "source": [
    "int counter = n*(n+1)/2;\n",
    "for(int  i = 1; i<=n; i++){\n",
    "    int c = counter;\n",
    "    for(int j = 1; j<=i-1; j++){\n",
    "        System.out.print(\"\\t\");\n",
    "    }\n",
    "    for(int j = n;j>=i; j--){\n",
    "        System.out.print(c+\"\\t\");\n",
    "        c-=j;\n",
    "    }\n",
    "    counter--;\n",
    "    System.out.println();\n",
    "}"
   ]
  },
  {
   "cell_type": "code",
   "execution_count": 9,
   "id": "1aed2e22-5e2b-4903-a62a-bd354b53bd8a",
   "metadata": {},
   "outputs": [
    {
     "name": "stdout",
     "output_type": "stream",
     "text": [
      "11\t7\t4\t2\t1\t\n",
      "\t12\t8\t5\t3\t\n",
      "\t\t13\t9\t6\t\n",
      "\t\t\t14\t10\t\n",
      "\t\t\t\t15\t\n"
     ]
    }
   ],
   "source": [
    "int counter = n*(n-1)/2+1;\n",
    "for(int  i = 1; i<=n; i++){\n",
    "    int c = counter;\n",
    "    for(int j = 1; j<=i-1; j++){\n",
    "        System.out.print(\"\\t\");\n",
    "    }\n",
    "    for(int j = n;j>=i; j--){\n",
    "        System.out.print(c+\"\\t\");\n",
    "        c-=j-1;\n",
    "    }\n",
    "    counter++;\n",
    "    System.out.println();\n",
    "}"
   ]
  },
  {
   "cell_type": "code",
   "execution_count": 10,
   "id": "dc004b5e-e3ea-47dc-99c7-82520cfcbf80",
   "metadata": {},
   "outputs": [
    {
     "name": "stdout",
     "output_type": "stream",
     "text": [
      "1\t2\t4\t7\t11\t\n",
      "\t3\t5\t8\t12\t\n",
      "\t\t6\t9\t13\t\n",
      "\t\t\t10\t14\t\n",
      "\t\t\t\t15\t\n"
     ]
    }
   ],
   "source": [
    "int counter = 1;\n",
    "for(int  i = 1; i<=n; i++){\n",
    "    int c = counter;\n",
    "    for(int j = 1; j<=i-1; j++){\n",
    "        System.out.print(\"\\t\");\n",
    "    }\n",
    "    for(int j = n;j>=i; j--){\n",
    "        System.out.print(c+\"\\t\");\n",
    "        c+=n-j+i;\n",
    "    }\n",
    "    counter+=i+1;\n",
    "    System.out.println();\n",
    "}"
   ]
  },
  {
   "cell_type": "code",
   "execution_count": 11,
   "id": "e6e23cd1-12c4-4102-8cf8-51d2bcd8a9b9",
   "metadata": {},
   "outputs": [
    {
     "name": "stdout",
     "output_type": "stream",
     "text": [
      "1\t3\t6\t10\t15\t\n",
      "\t2\t5\t9\t14\t\n",
      "\t\t4\t8\t13\t\n",
      "\t\t\t7\t12\t\n",
      "\t\t\t\t11\t\n"
     ]
    }
   ],
   "source": [
    "int counter = 1;\n",
    "for(int  i = 1; i<=n; i++){\n",
    "    int c = counter;\n",
    "    for(int j = 1; j<=i-1; j++){\n",
    "        System.out.print(\"\\t\");\n",
    "    }\n",
    "    for(int j = n;j>=i; j--){\n",
    "        System.out.print(c+\"\\t\");\n",
    "        c+=n-j+i+1;\n",
    "    }\n",
    "    counter+=i;\n",
    "    System.out.println();\n",
    "}"
   ]
  },
  {
   "cell_type": "code",
   "execution_count": 12,
   "id": "78f90c4c-c8d5-496c-a227-acf54b469f0a",
   "metadata": {},
   "outputs": [
    {
     "name": "stdout",
     "output_type": "stream",
     "text": [
      "15\t14\t12\t9\t5\t\n",
      "\t13\t11\t8\t4\t\n",
      "\t\t10\t7\t3\t\n",
      "\t\t\t6\t2\t\n",
      "\t\t\t\t1\t\n"
     ]
    }
   ],
   "source": [
    "int counter = n*(n+1)/2;\n",
    "for(int  i = 1; i<=n; i++){\n",
    "    int c = counter;\n",
    "    for(int j = 1; j<=i-1; j++){\n",
    "        System.out.print(\"\\t\");\n",
    "    }\n",
    "    for(int j = n;j>=i; j--){\n",
    "        System.out.print(c+\"\\t\");\n",
    "        c-=n-j+i;\n",
    "    }\n",
    "    counter-=i+1;\n",
    "    System.out.println();\n",
    "}"
   ]
  },
  {
   "cell_type": "code",
   "execution_count": 13,
   "id": "859a94d8-95eb-4b1a-b2b2-6f1158c7ac0e",
   "metadata": {},
   "outputs": [
    {
     "name": "stdout",
     "output_type": "stream",
     "text": [
      "15\t13\t10\t6\t1\t\n",
      "\t14\t11\t7\t2\t\n",
      "\t\t12\t8\t3\t\n",
      "\t\t\t9\t4\t\n",
      "\t\t\t\t5\t\n"
     ]
    }
   ],
   "source": [
    "int counter = n*(n+1)/2;\n",
    "for(int  i = 1; i<=n; i++){\n",
    "    int c = counter;\n",
    "    for(int j = 1; j<=i-1; j++){\n",
    "        System.out.print(\"\\t\");\n",
    "    }\n",
    "    for(int j = n;j>=i; j--){\n",
    "        System.out.print(c+\"\\t\");\n",
    "        c-=n-j+i+1;\n",
    "    }\n",
    "    counter-=i;\n",
    "    System.out.println();\n",
    "}"
   ]
  },
  {
   "cell_type": "code",
   "execution_count": null,
   "id": "bfd7f396-a7bb-4176-b0ff-67ad5803eb05",
   "metadata": {},
   "outputs": [],
   "source": []
  }
 ],
 "metadata": {
  "kernelspec": {
   "display_name": "Java",
   "language": "java",
   "name": "java"
  },
  "language_info": {
   "codemirror_mode": "java",
   "file_extension": ".jshell",
   "mimetype": "text/x-java-source",
   "name": "Java",
   "pygments_lexer": "java",
   "version": "17.0.10+11-LTS-240"
  }
 },
 "nbformat": 4,
 "nbformat_minor": 5
}
