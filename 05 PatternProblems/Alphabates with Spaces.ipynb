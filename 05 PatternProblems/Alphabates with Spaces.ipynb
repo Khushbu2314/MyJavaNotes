{
 "cells": [
  {
   "cell_type": "code",
   "execution_count": 1,
   "id": "7d0b941e-a977-47e1-812d-b03a04a8c549",
   "metadata": {},
   "outputs": [],
   "source": [
    "int n = 5;"
   ]
  },
  {
   "cell_type": "code",
   "execution_count": 2,
   "id": "09475786-3167-4be4-9331-1468a594b64b",
   "metadata": {},
   "outputs": [
    {
     "name": "stdout",
     "output_type": "stream",
     "text": [
      "----A\n",
      "---BB\n",
      "--CCC\n",
      "-DDDD\n",
      "EEEEE\n"
     ]
    }
   ],
   "source": [
    "for(int i = 1; i<=n ; i++){\n",
    "    for(int j = n; j>i; j--){\n",
    "        System.out.print(\"-\");\n",
    "    }\n",
    "    for(int j = 1; j<=i; j++){\n",
    "        System.out.print((char)('A'+i-1));\n",
    "    }\n",
    "    System.out.println();\n",
    "}"
   ]
  },
  {
   "cell_type": "code",
   "execution_count": 3,
   "id": "c3860b8f-db4a-4f8f-85ae-ba82585bbf53",
   "metadata": {},
   "outputs": [
    {
     "name": "stdout",
     "output_type": "stream",
     "text": [
      "eeeee\n",
      "-dddd\n",
      "--ccc\n",
      "---bb\n",
      "----a\n"
     ]
    }
   ],
   "source": [
    "for(int i = n; i>=1 ; i--){\n",
    "    for(int j = n; j>i; j--){\n",
    "        System.out.print(\"-\");\n",
    "    }\n",
    "    for(int j = 1; j<=i; j++){\n",
    "        System.out.print((char)('a'+i-1));\n",
    "    }\n",
    "    System.out.println();\n",
    "}"
   ]
  },
  {
   "cell_type": "code",
   "execution_count": 4,
   "id": "88c4681c-8f94-416c-a18f-d6efc48ebee0",
   "metadata": {},
   "outputs": [
    {
     "name": "stdout",
     "output_type": "stream",
     "text": [
      "AAAAA\n",
      "-BBBB\n",
      "--CCC\n",
      "---DD\n",
      "----E\n"
     ]
    }
   ],
   "source": [
    "for(int i = n; i>=1 ; i--){\n",
    "    for(int j = n; j>i; j--){\n",
    "        System.out.print(\"-\");\n",
    "    }\n",
    "    for(int j = 1; j<=i; j++){\n",
    "        System.out.print((char)('A'+n-i));\n",
    "    }\n",
    "    System.out.println();\n",
    "}"
   ]
  },
  {
   "cell_type": "code",
   "execution_count": 5,
   "id": "c149761e-f78e-4bb6-befa-f926c083d521",
   "metadata": {},
   "outputs": [
    {
     "name": "stdout",
     "output_type": "stream",
     "text": [
      "----e\n",
      "---dd\n",
      "--ccc\n",
      "-bbbb\n",
      "aaaaa\n"
     ]
    }
   ],
   "source": [
    "for(int i = 1; i<=n ; i++){\n",
    "    for(int j = n; j>i; j--){\n",
    "        System.out.print(\"-\");\n",
    "    }\n",
    "    for(int j = 1; j<=i; j++){\n",
    "        System.out.print((char)('a'+n-i));\n",
    "    }\n",
    "    System.out.println();\n",
    "}"
   ]
  },
  {
   "cell_type": "code",
   "execution_count": 6,
   "id": "f68a8dc0-217d-40ab-8e22-6f9203b4f0be",
   "metadata": {},
   "outputs": [
    {
     "name": "stdout",
     "output_type": "stream",
     "text": [
      "----A\n",
      "---AB\n",
      "--ABC\n",
      "-ABCD\n",
      "ABCDE\n"
     ]
    }
   ],
   "source": [
    "for(int i = 1; i<=n ; i++){\n",
    "    for(int j=i; j<n; j++){\n",
    "        System.out.print(\"-\");\n",
    "    }\n",
    "    for(int j = 1; j <= i; j++){\n",
    "        System.out.print((char)('A'+j-1));\n",
    "    }\n",
    "    System.out.println();\n",
    "}"
   ]
  },
  {
   "cell_type": "code",
   "execution_count": 7,
   "id": "96be162b-b107-4bba-be04-63304f6ef023",
   "metadata": {},
   "outputs": [
    {
     "name": "stdout",
     "output_type": "stream",
     "text": [
      "ABCDE\n",
      "-ABCD\n",
      "--ABC\n",
      "---AB\n",
      "----A\n"
     ]
    }
   ],
   "source": [
    "for(int i = n; i>=1 ; i--){\n",
    "    for(int j=i; j<n; j++){\n",
    "        System.out.print(\"-\");\n",
    "    }\n",
    "    for(int j = 1; j <= i; j++){\n",
    "        System.out.print((char)('A'+j-1));\n",
    "    }\n",
    "    System.out.println();\n",
    "}"
   ]
  },
  {
   "cell_type": "code",
   "execution_count": 8,
   "id": "317d0a89-4bf9-4f3e-939b-a92ceff6e844",
   "metadata": {},
   "outputs": [
    {
     "name": "stdout",
     "output_type": "stream",
     "text": [
      "----a\n",
      "---ba\n",
      "--cba\n",
      "-dcba\n",
      "edcba\n"
     ]
    }
   ],
   "source": [
    "for(int i = 1; i <= n ; i++){\n",
    "    for(int j = i ; j < n ; j++){\n",
    "        System.out.print(\"-\");\n",
    "    }\n",
    "    for(int j = i; j >= 1; j--){\n",
    "        System.out.print((char)('a'-1+j));\n",
    "    }\n",
    "    System.out.println();\n",
    "}"
   ]
  },
  {
   "cell_type": "code",
   "execution_count": 9,
   "id": "33303e9b-dcd1-48c4-8a5b-e5977265c933",
   "metadata": {},
   "outputs": [
    {
     "name": "stdout",
     "output_type": "stream",
     "text": [
      "edcba\n",
      "-dcba\n",
      "--cba\n",
      "---ba\n",
      "----a\n"
     ]
    }
   ],
   "source": [
    "for(int i = n; i >= 1 ; i--){\n",
    "    for(int j = i ; j < n ; j++){\n",
    "        System.out.print(\"-\");\n",
    "    }\n",
    "    for(int j = i; j >= 1; j--){\n",
    "        System.out.print((char)('a'-1+j));\n",
    "    }\n",
    "    System.out.println();\n",
    "}"
   ]
  },
  {
   "cell_type": "code",
   "execution_count": 10,
   "id": "3df30d77-1c2e-4610-92fc-90a35b56b8fb",
   "metadata": {},
   "outputs": [
    {
     "name": "stdout",
     "output_type": "stream",
     "text": [
      "ABCDE\n",
      "-BCDE\n",
      "--CDE\n",
      "---DE\n",
      "----E\n"
     ]
    }
   ],
   "source": [
    "for(int i = 1; i<=n ; i++){\n",
    "    for(int j = 1; j<i ; j++){\n",
    "        System.out.print(\"-\");\n",
    "    }\n",
    "    for(int j = i; j<=n; j++){\n",
    "        System.out.print((char)('A'+j-1));\n",
    "    }\n",
    "    System.out.println();\n",
    "}"
   ]
  },
  {
   "cell_type": "code",
   "execution_count": 11,
   "id": "56e78082-53c3-404c-88db-af343f6e6152",
   "metadata": {},
   "outputs": [
    {
     "name": "stdout",
     "output_type": "stream",
     "text": [
      "----e\n",
      "---de\n",
      "--cde\n",
      "-bcde\n",
      "abcde\n"
     ]
    }
   ],
   "source": [
    "for(int i = n; i>=1 ; i--){\n",
    "    for(int j = 1; j<i ; j++){\n",
    "        System.out.print(\"-\");\n",
    "    }\n",
    "    for(int j = i; j<=n; j++){\n",
    "        System.out.print((char)('a'+j-1));\n",
    "    }\n",
    "    System.out.println();\n",
    "}"
   ]
  },
  {
   "cell_type": "code",
   "execution_count": 12,
   "id": "1795bbb9-29a2-41e7-8077-47fc8ab0ded0",
   "metadata": {},
   "outputs": [
    {
     "name": "stdout",
     "output_type": "stream",
     "text": [
      "----E\n",
      "---ED\n",
      "--EDC\n",
      "-EDCB\n",
      "EDCBA\n"
     ]
    }
   ],
   "source": [
    "for(int i = n; i>=1; i--){\n",
    "    for(int j = i; j>1; j--){\n",
    "        System.out.print(\"-\");\n",
    "    }\n",
    "    for(int j = n; j>=i; j--){\n",
    "        System.out.print((char)('A'+j-1));\n",
    "    }\n",
    "    System.out.println();\n",
    "}"
   ]
  },
  {
   "cell_type": "code",
   "execution_count": 13,
   "id": "a527f01d-f815-4398-86e6-753ee7437ef7",
   "metadata": {},
   "outputs": [
    {
     "name": "stdout",
     "output_type": "stream",
     "text": [
      "edcba\n",
      "-edcb\n",
      "--edc\n",
      "---ed\n",
      "----e\n"
     ]
    }
   ],
   "source": [
    "for(int i = 1; i<=n; i++){\n",
    "    for(int j = i; j>1; j--){\n",
    "        System.out.print(\"-\");\n",
    "    }\n",
    "    for(int j = n; j>=i; j--){\n",
    "        System.out.print((char)('a'+j-1));\n",
    "    }\n",
    "    System.out.println();\n",
    "}"
   ]
  },
  {
   "cell_type": "code",
   "execution_count": null,
   "id": "ebf8df11-b25f-4388-b089-8ee261f2ebdb",
   "metadata": {},
   "outputs": [],
   "source": []
  }
 ],
 "metadata": {
  "kernelspec": {
   "display_name": "Java",
   "language": "java",
   "name": "java"
  },
  "language_info": {
   "codemirror_mode": "java",
   "file_extension": ".jshell",
   "mimetype": "text/x-java-source",
   "name": "Java",
   "pygments_lexer": "java",
   "version": "17.0.10+11-LTS-240"
  }
 },
 "nbformat": 4,
 "nbformat_minor": 5
}
