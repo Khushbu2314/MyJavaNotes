{
 "cells": [
{
   "cell_type": "markdown",
   "id": "2b5f5cfd-3549-415e-ac56-2678fdb1707e",
   "metadata": {},
   "source": [
    "<p style=\"text-align: right;\">\n",
    "        <a href=\"https://adityakalambe01.github.io/AdityaKalambe/\" style=\"text-decoration: none; color: black; font-size: 15px; font-weight: 700;\">Click here to connect with me.</a>\n",
    "    </p>\n"
   ]
  },
  {
   "cell_type": "code",
   "execution_count": 1,
   "id": "26054b13-3368-40f2-b27b-2cfa5c2d7bb6",
   "metadata": {},
   "outputs": [],
   "source": [
    "int n = 5;"
   ]
  },
  {
   "cell_type": "code",
   "execution_count": 2,
   "id": "d6959d73-8843-416d-9c7d-d0c288732008",
   "metadata": {},
   "outputs": [
    {
     "name": "stdout",
     "output_type": "stream",
     "text": [
      "----1\n",
      "---22\n",
      "--333\n",
      "-4444\n",
      "55555\n"
     ]
    }
   ],
   "source": [
    "for(int i=1 ; i<= n; i++){\n",
    "    for(int j = i; j<=(n-1); j++){\n",
    "        System.out.print(\"-\");\n",
    "    }\n",
    "    for(int j = 1; j<=i; j++){\n",
    "        System.out.print(i);\n",
    "    }\n",
    "    System.out.println();\n",
    "}"
   ]
  },
  {
   "cell_type": "code",
   "execution_count": 3,
   "id": "82bbe893-9c6d-4b12-81d1-ef77b47170f2",
   "metadata": {},
   "outputs": [
    {
     "name": "stdout",
     "output_type": "stream",
     "text": [
      "55555\n",
      "-4444\n",
      "--333\n",
      "---22\n",
      "----1\n"
     ]
    }
   ],
   "source": [
    "for(int i=n ; i>= 1; i--){\n",
    "    for(int j = i; j<=(n-1); j++){\n",
    "        System.out.print(\"-\");\n",
    "    }\n",
    "    for(int j = 1; j<=i; j++){\n",
    "        System.out.print(i);\n",
    "    }\n",
    "    System.out.println();\n",
    "}"
   ]
  },
  {
   "cell_type": "code",
   "execution_count": 4,
   "id": "3cb1d1ab-28c5-4df3-a585-399f296828bb",
   "metadata": {},
   "outputs": [
    {
     "name": "stdout",
     "output_type": "stream",
     "text": [
      "----5\n",
      "---44\n",
      "--333\n",
      "-2222\n",
      "11111\n"
     ]
    }
   ],
   "source": [
    "for(int i=n ; i>=1; i--){\n",
    "    for(int j=i-1; j>=1; j--){\n",
    "        System.out.print(\"-\");\n",
    "    }\n",
    "    for(int j = i; j<=n; j++){\n",
    "        System.out.print(i);\n",
    "    }\n",
    "    System.out.println();\n",
    "}"
   ]
  },
  {
   "cell_type": "code",
   "execution_count": 5,
   "id": "be8d7430-db86-4ce7-ba78-bc1ffd99ac6b",
   "metadata": {},
   "outputs": [
    {
     "name": "stdout",
     "output_type": "stream",
     "text": [
      "11111\n",
      "-2222\n",
      "--333\n",
      "---44\n",
      "----5\n"
     ]
    }
   ],
   "source": [
    "for(int i=1 ; i<=n; i++){\n",
    "    for(int j=i-1; j>=1; j--){\n",
    "        System.out.print(\"-\");\n",
    "    }\n",
    "    for(int j = i; j<=n; j++){\n",
    "        System.out.print(i);\n",
    "    }\n",
    "    System.out.println();\n",
    "}"
   ]
  },
  {
   "cell_type": "code",
   "execution_count": 6,
   "id": "2e210250-0898-46be-b356-1b4dd28fa8ff",
   "metadata": {},
   "outputs": [
    {
     "name": "stdout",
     "output_type": "stream",
     "text": [
      "----1\n",
      "---12\n",
      "--123\n",
      "-1234\n",
      "12345\n"
     ]
    }
   ],
   "source": [
    "for(int i=1 ; i<= n; i++){\n",
    "    for(int j = i; j<=(n-1); j++){\n",
    "        System.out.print(\"-\");\n",
    "    }\n",
    "    for(int j = 1; j<=i; j++){\n",
    "        System.out.print(j);\n",
    "    }\n",
    "    System.out.println();\n",
    "}"
   ]
  },
  {
   "cell_type": "code",
   "execution_count": 7,
   "id": "f7f9efe2-60f5-4c13-8929-d02b39784198",
   "metadata": {},
   "outputs": [
    {
     "name": "stdout",
     "output_type": "stream",
     "text": [
      "12345\n",
      "-1234\n",
      "--123\n",
      "---12\n",
      "----1\n"
     ]
    }
   ],
   "source": [
    "for(int i=n ; i>= 1; i--){\n",
    "    for(int j = i; j<=(n-1); j++){\n",
    "        System.out.print(\"-\");\n",
    "    }\n",
    "    for(int j = 1; j<=i; j++){\n",
    "        System.out.print(j);\n",
    "    }\n",
    "    System.out.println();\n",
    "}"
   ]
  },
  {
   "cell_type": "code",
   "execution_count": 8,
   "id": "1caa1506-c9bf-47aa-9b9c-3d9c61c5c546",
   "metadata": {},
   "outputs": [
    {
     "name": "stdout",
     "output_type": "stream",
     "text": [
      "----1\n",
      "---21\n",
      "--321\n",
      "-4321\n",
      "54321\n"
     ]
    }
   ],
   "source": [
    "for(int i = 1; i<=n; i++){\n",
    "    for(int j = i; j<n; j++){\n",
    "        System.out.print(\"-\");\n",
    "    }\n",
    "    for(int j = i; j>=1; j--){\n",
    "        System.out.print(j);\n",
    "    }\n",
    "    System.out.println();\n",
    "}"
   ]
  },
  {
   "cell_type": "code",
   "execution_count": 9,
   "id": "38a91106-d292-447e-ab02-4784b653008d",
   "metadata": {},
   "outputs": [
    {
     "name": "stdout",
     "output_type": "stream",
     "text": [
      "54321\n",
      "-4321\n",
      "--321\n",
      "---21\n",
      "----1\n"
     ]
    }
   ],
   "source": [
    "for(int i = n; i>=1; i--){\n",
    "    for(int j = i; j<n; j++){\n",
    "        System.out.print(\"-\");\n",
    "    }\n",
    "    for(int j = i; j>=1; j--){\n",
    "        System.out.print(j);\n",
    "    }\n",
    "    System.out.println();\n",
    "}"
   ]
  },
  {
   "cell_type": "code",
   "execution_count": 10,
   "id": "a799790f-e13f-4ac7-afc3-736a15c9ae78",
   "metadata": {},
   "outputs": [
    {
     "name": "stdout",
     "output_type": "stream",
     "text": [
      "----5\n",
      "---54\n",
      "--543\n",
      "-5432\n",
      "54321\n"
     ]
    }
   ],
   "source": [
    "for(int i = n; i>=1; i--){\n",
    "    for(int j = i; j>1; j--){\n",
    "        System.out.print(\"-\");\n",
    "    }\n",
    "    for(int j = n; j>=i;j--){\n",
    "        System.out.print(j);\n",
    "    }\n",
    "    System.out.println();\n",
    "}"
   ]
  },
  {
   "cell_type": "code",
   "execution_count": 11,
   "id": "be7c09f3-bb3d-42f9-8357-563a520ee0b2",
   "metadata": {},
   "outputs": [
    {
     "name": "stdout",
     "output_type": "stream",
     "text": [
      "54321\n",
      "-5432\n",
      "--543\n",
      "---54\n",
      "----5\n"
     ]
    }
   ],
   "source": [
    "for(int i = 1; i<=n; i++){\n",
    "    for(int j = i; j>1; j--){\n",
    "        System.out.print(\"-\");\n",
    "    }\n",
    "    for(int j = n; j>=i;j--){\n",
    "        System.out.print(j);\n",
    "    }\n",
    "    System.out.println();\n",
    "}"
   ]
  },
  {
   "cell_type": "code",
   "execution_count": 12,
   "id": "b1dd265d-1605-4c4a-83f0-0d024b5367ae",
   "metadata": {},
   "outputs": [
    {
     "name": "stdout",
     "output_type": "stream",
     "text": [
      "----5\n",
      "---45\n",
      "--345\n",
      "-2345\n",
      "12345\n"
     ]
    }
   ],
   "source": [
    "for(int i = n; i>=1; i--){\n",
    "    for(int j = i; j>1; j--){\n",
    "        System.out.print(\"-\");\n",
    "    }\n",
    "    for(int j = i; j<=n; j++){\n",
    "        System.out.print(j);\n",
    "    }\n",
    "    System.out.println();\n",
    "}"
   ]
  },
  {
   "cell_type": "code",
   "execution_count": 13,
   "id": "606880ab-9186-44e1-b6c4-fe240aaf5780",
   "metadata": {},
   "outputs": [
    {
     "name": "stdout",
     "output_type": "stream",
     "text": [
      "12345\n",
      "-2345\n",
      "--345\n",
      "---45\n",
      "----5\n"
     ]
    }
   ],
   "source": [
    "for(int i = 1; i<=n; i++){\n",
    "    for(int j = i; j>1; j--){\n",
    "        System.out.print(\"-\");\n",
    "    }\n",
    "    for(int j = i; j<=n; j++){\n",
    "        System.out.print(j);\n",
    "    }\n",
    "    System.out.println();\n",
    "}"
   ]
  },
  {
   "cell_type": "code",
   "execution_count": null,
   "id": "88666d16-7e02-49f6-98d4-b705555aa271",
   "metadata": {},
   "outputs": [],
   "source": []
  }
 ],
 "metadata": {
  "kernelspec": {
   "display_name": "Java",
   "language": "java",
   "name": "java"
  },
  "language_info": {
   "codemirror_mode": "java",
   "file_extension": ".jshell",
   "mimetype": "text/x-java-source",
   "name": "Java",
   "pygments_lexer": "java",
   "version": "17.0.10+11-LTS-240"
  }
 },
 "nbformat": 4,
 "nbformat_minor": 5
}
