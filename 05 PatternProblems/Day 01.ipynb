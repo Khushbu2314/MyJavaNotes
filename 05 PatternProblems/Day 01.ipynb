{
 "cells": [
{
   "cell_type": "markdown",
   "id": "ae9374ea-a4df-4c43-8090-7cd53ad80d28",
   "metadata": {},
   "source": [
    "<p style=\"text-align:right; font-weight: 700; font-size: 20px; text-decoration: underline;\"> 27/03/2024 </p>"
   ]
  },
  {
   "cell_type": "markdown",
   "id": "8b164357-a175-48d5-b87a-8b8813439bde",
   "metadata": {},
   "source": [
    "#### Q\n",
    "```java\n",
    "*****\n",
    "*****\n",
    "*****\n",
    "*****\n",
    "*****\n",
    "```"
   ]
  },
  {
   "cell_type": "code",
   "execution_count": 1,
   "id": "80871298-3db4-4daa-b177-01d286afd322",
   "metadata": {},
   "outputs": [
    {
     "name": "stdout",
     "output_type": "stream",
     "text": [
      "*****\n",
      "*****\n",
      "*****\n",
      "*****\n",
      "*****\n"
     ]
    }
   ],
   "source": [
    "class SquarePattern{\n",
    "    public static void main(String[] args){\n",
    "        int n = 5;\n",
    "        for(int row = 1; row <= n; row++){\n",
    "            for(int column = 1; column <= 5; column++){\n",
    "                System.out.print(\"*\");\n",
    "            }\n",
    "            System.out.println();\n",
    "        }\n",
    "    }\n",
    "}\n",
    "SquarePattern.main(null);"
   ]
  },
  {
   "cell_type": "markdown",
   "id": "51fa9155-7a93-4e62-a2a7-17070c80a54f",
   "metadata": {},
   "source": [
    "#### Q\n",
    "```java\n",
    "*****  *****\n",
    "*****  *****\n",
    "*****  *****\n",
    "*****  *****\n",
    "*****  *****\n",
    "```"
   ]
  },
  {
   "cell_type": "code",
   "execution_count": 2,
   "id": "3940cc21-f4b8-4f81-8702-1c1351e8bf12",
   "metadata": {},
   "outputs": [
    {
     "name": "stdout",
     "output_type": "stream",
     "text": [
      "*****\t*****\n",
      "*****\t*****\n",
      "*****\t*****\n",
      "*****\t*****\n",
      "*****\t*****\n"
     ]
    }
   ],
   "source": [
    "class DoubleSquarePattern{\n",
    "    public static void main(String[] args){\n",
    "        int n = 5;\n",
    "        for(int row = 1; row <= n; row++){\n",
    "            for(int column = 1; column <= n; column++){\n",
    "                System.out.print(\"*\");\n",
    "            }\n",
    "\n",
    "            System.out.print(\"\\t\");\n",
    "\n",
    "            for(int column = 1; column <= n; column++){\n",
    "                System.out.print(\"*\");\n",
    "            }\n",
    "            \n",
    "            \n",
    "            System.out.println();\n",
    "        }\n",
    "    }\n",
    "}\n",
    "DoubleSquarePattern.main(null);"
   ]
  },
  {
   "cell_type": "markdown",
   "id": "9309d91f-a1b3-4272-bf8a-2e51f546f789",
   "metadata": {},
   "source": [
    "#### Q\n",
    "```java\n",
    "11111\n",
    "22222\n",
    "33333\n",
    "44444\n",
    "55555\n",
    "```"
   ]
  },
  {
   "cell_type": "code",
   "execution_count": 3,
   "id": "f6c93bae-1612-4fc8-a2fd-d69e75ba700d",
   "metadata": {},
   "outputs": [
    {
     "name": "stdout",
     "output_type": "stream",
     "text": [
      "11111\n",
      "22222\n",
      "33333\n",
      "44444\n",
      "55555\n"
     ]
    }
   ],
   "source": [
    "class NumberPattern{\n",
    "    public static void main(String[] args){\n",
    "        int n = 5;\n",
    "        for(int row = 1; row <= n; row++){\n",
    "            for(int column = 1; column <= n; column++){\n",
    "                System.out.print(row);\n",
    "            }\n",
    "            System.out.println();\n",
    "        }\n",
    "    }\n",
    "}\n",
    "NumberPattern.main(null);"
   ]
  },
  {
   "cell_type": "markdown",
   "id": "822849c8-c970-4af0-9b28-bb270cc603f2",
   "metadata": {},
   "source": [
    "#### Q\n",
    "```java\n",
    "55555\n",
    "44444\n",
    "33333\n",
    "22222\n",
    "11111\n",
    "```"
   ]
  },
  {
   "cell_type": "code",
   "execution_count": 4,
   "id": "3f85beb3-34a0-4aa3-8046-86a104ebc7eb",
   "metadata": {},
   "outputs": [
    {
     "name": "stdout",
     "output_type": "stream",
     "text": [
      "55555\n",
      "44444\n",
      "33333\n",
      "22222\n",
      "11111\n"
     ]
    }
   ],
   "source": [
    "class NumberPattern{\n",
    "    public static void main(String[] args){\n",
    "        int n = 5;\n",
    "        for(int row = n; row >= 1; row--){\n",
    "            for(int column = 1; column <= n; column++){\n",
    "                System.out.print(row);\n",
    "            }\n",
    "            System.out.println();\n",
    "        }\n",
    "    }\n",
    "}\n",
    "NumberPattern.main(null);"
   ]
  },
  {
   "cell_type": "markdown",
   "id": "ee482731-c450-4e87-aaa5-830348940382",
   "metadata": {},
   "source": [
    "#### Q\n",
    "```java\n",
    "*****\t*****\t*****\t*****\t*****\t\n",
    "*****\t*****\t*****\t*****\t*****\t\n",
    "*****\t*****\t*****\t*****\t*****\t\n",
    "*****\t*****\t*****\t*****\t*****\t\n",
    "*****\t*****\t*****\t*****\t*****\t\n",
    "\n",
    "*****\t*****\t*****\t*****\t*****\t\n",
    "*****\t*****\t*****\t*****\t*****\t\n",
    "*****\t*****\t*****\t*****\t*****\t\n",
    "*****\t*****\t*****\t*****\t*****\t\n",
    "*****\t*****\t*****\t*****\t*****\t\n",
    "\n",
    "*****\t*****\t*****\t*****\t*****\t\n",
    "*****\t*****\t*****\t*****\t*****\t\n",
    "*****\t*****\t*****\t*****\t*****\t\n",
    "*****\t*****\t*****\t*****\t*****\t\n",
    "*****\t*****\t*****\t*****\t*****\t\n",
    "\n",
    "*****\t*****\t*****\t*****\t*****\t\n",
    "*****\t*****\t*****\t*****\t*****\t\n",
    "*****\t*****\t*****\t*****\t*****\t\n",
    "*****\t*****\t*****\t*****\t*****\t\n",
    "*****\t*****\t*****\t*****\t*****\t\n",
    "\n",
    "*****\t*****\t*****\t*****\t*****\t\n",
    "*****\t*****\t*****\t*****\t*****\t\n",
    "*****\t*****\t*****\t*****\t*****\t\n",
    "*****\t*****\t*****\t*****\t*****\t\n",
    "*****\t*****\t*****\t*****\t*****\n",
    "```"
   ]
  },
  {
   "cell_type": "code",
   "execution_count": 5,
   "id": "9e071147-43a8-4233-a0f8-02f72cba38e8",
   "metadata": {},
   "outputs": [
    {
     "name": "stdout",
     "output_type": "stream",
     "text": [
      "*****\t*****\t*****\t*****\t*****\t*****\t\n",
      "*****\t*****\t*****\t*****\t*****\t*****\t\n",
      "*****\t*****\t*****\t*****\t*****\t*****\t\n",
      "*****\t*****\t*****\t*****\t*****\t*****\t\n",
      "*****\t*****\t*****\t*****\t*****\t*****\t\n",
      "*****\t*****\t*****\t*****\t*****\t*****\t\n",
      "\n",
      "*****\t*****\t*****\t*****\t*****\t*****\t\n",
      "*****\t*****\t*****\t*****\t*****\t*****\t\n",
      "*****\t*****\t*****\t*****\t*****\t*****\t\n",
      "*****\t*****\t*****\t*****\t*****\t*****\t\n",
      "*****\t*****\t*****\t*****\t*****\t*****\t\n",
      "*****\t*****\t*****\t*****\t*****\t*****\t\n",
      "\n",
      "*****\t*****\t*****\t*****\t*****\t*****\t\n",
      "*****\t*****\t*****\t*****\t*****\t*****\t\n",
      "*****\t*****\t*****\t*****\t*****\t*****\t\n",
      "*****\t*****\t*****\t*****\t*****\t*****\t\n",
      "*****\t*****\t*****\t*****\t*****\t*****\t\n",
      "*****\t*****\t*****\t*****\t*****\t*****\t\n",
      "\n",
      "*****\t*****\t*****\t*****\t*****\t*****\t\n",
      "*****\t*****\t*****\t*****\t*****\t*****\t\n",
      "*****\t*****\t*****\t*****\t*****\t*****\t\n",
      "*****\t*****\t*****\t*****\t*****\t*****\t\n",
      "*****\t*****\t*****\t*****\t*****\t*****\t\n",
      "*****\t*****\t*****\t*****\t*****\t*****\t\n",
      "\n",
      "*****\t*****\t*****\t*****\t*****\t*****\t\n",
      "*****\t*****\t*****\t*****\t*****\t*****\t\n",
      "*****\t*****\t*****\t*****\t*****\t*****\t\n",
      "*****\t*****\t*****\t*****\t*****\t*****\t\n",
      "*****\t*****\t*****\t*****\t*****\t*****\t\n",
      "*****\t*****\t*****\t*****\t*****\t*****\t\n",
      "\n"
     ]
    }
   ],
   "source": [
    "class StarPattern{\n",
    "    public static void main(String[] args){\n",
    "        int n = 5;\n",
    "\n",
    "        for(int i = 1; i <= n; i++){\n",
    "            for(int j = 1; j <= n; j++){\n",
    "                for(int k = 1; k <= n; k++){\n",
    "                    for(int l = 1; l <= n; l++){\n",
    "                    System.out.print(\"*\");\n",
    "                    }\n",
    "                    System.out.print(\"\\t\");\n",
    "                }\n",
    "                System.out.println();\n",
    "            }\n",
    "            System.out.println();\n",
    "        }\n",
    "    }\n",
    "}\n",
    "StarPattern.main(null);"
   ]
  },
  {
   "cell_type": "markdown",
   "id": "16e74808-76e9-4b49-b1d8-bc6c17e95ebf",
   "metadata": {},
   "source": [
    "#### Q\n",
    "```java\n",
    "AAAAA\n",
    "BBBBB\n",
    "CCCCC\n",
    "DDDDD\n",
    "EEEEE\n",
    "```"
   ]
  },
  {
   "cell_type": "code",
   "execution_count": 6,
   "id": "3f2bd447-3e7e-4972-aa45-fbb710173997",
   "metadata": {},
   "outputs": [
    {
     "name": "stdout",
     "output_type": "stream",
     "text": [
      "AAAAA\n",
      "BBBBB\n",
      "CCCCC\n",
      "DDDDD\n",
      "EEEEE\n"
     ]
    }
   ],
   "source": [
    "class AlphabeticPattern{\n",
    "    public static void main(String[] args){\n",
    "        for(int i = 'A'; i <= 'E'; i++){\n",
    "            for(int j = 1; j <= 5; j++){\n",
    "                System.out.print( (char)i );\n",
    "            }\n",
    "            System.out.println();\n",
    "        }\n",
    "    }\n",
    "}\n",
    "AlphabeticPattern.main(null);"
   ]
  },
  {
   "cell_type": "code",
   "execution_count": 7,
   "id": "9ed48536-05aa-4357-ab6a-e1695d894060",
   "metadata": {},
   "outputs": [
    {
     "name": "stdout",
     "output_type": "stream",
     "text": [
      "AAAAA\n",
      "BBBBB\n",
      "CCCCC\n",
      "DDDDD\n",
      "EEEEE\n"
     ]
    }
   ],
   "source": [
    "class AlphabeticPattern{\n",
    "    public static void main(String[] args){\n",
    "        for(int i = 1; i <= 5; i++){\n",
    "            for(int j = 1; j <= 5; j++){\n",
    "                System.out.print( (char)(i+64) );\n",
    "            }\n",
    "            System.out.println();\n",
    "        }\n",
    "    }\n",
    "}\n",
    "AlphabeticPattern.main(null);"
   ]
  },
  {
   "cell_type": "code",
   "execution_count": 8,
   "id": "207bee3d-8ba7-4443-9dd9-baeb4896e72e",
   "metadata": {},
   "outputs": [
    {
     "name": "stdout",
     "output_type": "stream",
     "text": [
      "AAAAA\n",
      "BBBBB\n",
      "CCCCC\n",
      "DDDDD\n",
      "EEEEE\n"
     ]
    }
   ],
   "source": [
    "class AlphabeticPattern{\n",
    "    public static void main(String[] args){\n",
    "        for(char i = 'A'; i <= 'E'; i++){\n",
    "            for(int j = 1; j <= 5; j++){\n",
    "                System.out.print( i );\n",
    "            }\n",
    "            System.out.println();\n",
    "        }\n",
    "    }\n",
    "}\n",
    "AlphabeticPattern.main(null);"
   ]
  },
  {
   "cell_type": "markdown",
   "id": "562482c5-b121-4cbf-b0d1-dcd5604ad69a",
   "metadata": {},
   "source": [
    "#### Q\n",
    "```java\n",
    "EEEEE\n",
    "DDDDD\n",
    "CCCCC\n",
    "BBBBB\n",
    "AAAAA\n",
    "```"
   ]
  },
  {
   "cell_type": "code",
   "execution_count": 10,
   "id": "66db6adf-25bd-4e0d-94c4-c7a7cbd21c20",
   "metadata": {},
   "outputs": [
    {
     "name": "stdout",
     "output_type": "stream",
     "text": [
      "EEEEE\n",
      "DDDDD\n",
      "CCCCC\n",
      "BBBBB\n",
      "AAAAA\n"
     ]
    }
   ],
   "source": [
    "class AlphabeticPattern{\n",
    "    public static void main(String[] args){\n",
    "        for(char i = 'E'; i >= 'A'; i--){\n",
    "            for(int j = 1; j <= 5; j++){\n",
    "                System.out.print( i );\n",
    "            }\n",
    "            System.out.println();\n",
    "        }\n",
    "    }\n",
    "}\n",
    "AlphabeticPattern.main(null);"
   ]
  },
  {
   "cell_type": "markdown",
   "id": "175bac2a-758b-4699-8e33-c3b23b9f709b",
   "metadata": {},
   "source": [
    "#### Q\n",
    "```java\n",
    "ABCDE\n",
    "ABCDE\n",
    "ABCDE\n",
    "ABCDE\n",
    "ABCDE\n",
    "```"
   ]
  },
  {
   "cell_type": "code",
   "execution_count": 18,
   "id": "d2648e4a-249a-410c-aaea-f82dc1a38527",
   "metadata": {},
   "outputs": [
    {
     "name": "stdout",
     "output_type": "stream",
     "text": [
      "ABCDE\n",
      "ABCDE\n",
      "ABCDE\n",
      "ABCDE\n",
      "ABCDE\n"
     ]
    }
   ],
   "source": [
    "class AlphabeticPattern{\n",
    "    public static void main(String[] args){\n",
    "        int n = 5;\n",
    "        for(char i = 1; i <= n; i++){\n",
    "            for(int j = 'A'; j <= (64 + n); j++){\n",
    "                System.out.print((char) j );\n",
    "            }\n",
    "            System.out.println();\n",
    "        }\n",
    "    }\n",
    "}\n",
    "AlphabeticPattern.main(null);"
   ]
  },
  {
   "cell_type": "markdown",
   "id": "7fc69af7-b091-4a2f-8ce0-3fef1f777948",
   "metadata": {},
   "source": [
    "#### Q\n",
    "```java\n",
    "12345\n",
    "12345\n",
    "12345\n",
    "12345\n",
    "12345\n",
    "```"
   ]
  },
  {
   "cell_type": "code",
   "execution_count": 22,
   "id": "477e04c3-0aad-44e5-b15e-702a610f9fbb",
   "metadata": {},
   "outputs": [
    {
     "name": "stdout",
     "output_type": "stream",
     "text": [
      "12345\n",
      "12345\n",
      "12345\n",
      "12345\n",
      "12345\n"
     ]
    }
   ],
   "source": [
    "class NumberPattern{\n",
    "    public static void main(String[] args){\n",
    "        int n = 5;\n",
    "        for(int row = 1 ; row <= n ; row++){\n",
    "            for(int column = 1; column <= n; column++){\n",
    "                System.out.print(column);\n",
    "            }\n",
    "            System.out.println();\n",
    "        }\n",
    "    }\n",
    "}\n",
    "NumberPattern.main(null);"
   ]
  },
  {
   "cell_type": "code",
   "execution_count": null,
   "id": "e37b0688-b2be-4734-9e1c-1ceec81c87dd",
   "metadata": {},
   "outputs": [],
   "source": []
  },
  {
   "cell_type": "code",
   "execution_count": null,
   "id": "6b945e48-b8f2-49d7-9625-33f66eca9765",
   "metadata": {},
   "outputs": [],
   "source": []
  }
 ],
 "metadata": {
  "kernelspec": {
   "display_name": "Java",
   "language": "java",
   "name": "java"
  },
  "language_info": {
   "codemirror_mode": "java",
   "file_extension": ".jshell",
   "mimetype": "text/x-java-source",
   "name": "Java",
   "pygments_lexer": "java",
   "version": "17.0.10+11-LTS-240"
  }
 },
 "nbformat": 4,
 "nbformat_minor": 5
}
