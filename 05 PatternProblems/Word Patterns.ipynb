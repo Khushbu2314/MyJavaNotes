{
 "cells": [
  {
   "cell_type": "code",
   "execution_count": 1,
   "id": "52a2ea00-2944-4e02-9b35-6e00900b10e5",
   "metadata": {},
   "outputs": [],
   "source": [
    "int n = 5;"
   ]
  },
  {
   "cell_type": "code",
   "execution_count": 2,
   "id": "4da23ef4-1b6b-4900-a713-37d7793c5f75",
   "metadata": {},
   "outputs": [
    {
     "name": "stdout",
     "output_type": "stream",
     "text": [
      "A\n",
      "BB\n",
      "CCC\n",
      "DDDD\n",
      "EEEEE\n"
     ]
    }
   ],
   "source": [
    "for(int i = 1; i<=n; i++){\n",
    "    for(int j = 1; j<=i; j++){\n",
    "        System.out.print((char)(64+i));\n",
    "    }\n",
    "    System.out.println();\n",
    "}"
   ]
  },
  {
   "cell_type": "code",
   "execution_count": 3,
   "id": "2fd61cc3-de68-46d1-9991-2808e5cda01c",
   "metadata": {},
   "outputs": [
    {
     "name": "stdout",
     "output_type": "stream",
     "text": [
      "AAAAA\n",
      "BBBB\n",
      "CCC\n",
      "DD\n",
      "E\n"
     ]
    }
   ],
   "source": [
    "for(int i = 1; i<=n; i++){\n",
    "    for(int j = n; j>=i; j--){\n",
    "        System.out.print((char)(64+i));\n",
    "    }\n",
    "    System.out.println();\n",
    "}"
   ]
  },
  {
   "cell_type": "code",
   "execution_count": 4,
   "id": "9bb16f2c-acd4-43c8-b7d5-30f5116c06ea",
   "metadata": {},
   "outputs": [
    {
     "name": "stdout",
     "output_type": "stream",
     "text": [
      "e\n",
      "dd\n",
      "ccc\n",
      "bbbb\n",
      "aaaaa\n"
     ]
    }
   ],
   "source": [
    "for(int i = n; i>=1; i--){\n",
    "    for(int j = n; j>=i; j--){\n",
    "        System.out.print((char)(96+i));\n",
    "    }\n",
    "    System.out.println();\n",
    "}"
   ]
  },
  {
   "cell_type": "code",
   "execution_count": 5,
   "id": "17f20239-591d-4e36-9ab6-c8e6e919103e",
   "metadata": {},
   "outputs": [
    {
     "name": "stdout",
     "output_type": "stream",
     "text": [
      "eeeee\n",
      "dddd\n",
      "ccc\n",
      "bb\n",
      "a\n"
     ]
    }
   ],
   "source": [
    "for(int i = n; i>=1; i--){\n",
    "    for(int j = i; j>=1; j--){\n",
    "        System.out.print((char)(96+i));\n",
    "    }\n",
    "    System.out.println();\n",
    "}"
   ]
  },
  {
   "cell_type": "code",
   "execution_count": 6,
   "id": "5b24a4de-7296-4724-bc7b-fd9358522347",
   "metadata": {},
   "outputs": [
    {
     "name": "stdout",
     "output_type": "stream",
     "text": [
      "A\n",
      "AB\n",
      "ABC\n",
      "ABCD\n",
      "ABCDE\n"
     ]
    }
   ],
   "source": [
    "for(int i = 1; i<=n ; i++){\n",
    "    for(int j = 1; j<=i ; j++){\n",
    "        System.out.print((char)('A'+j-1));\n",
    "    }\n",
    "    System.out.println();\n",
    "}"
   ]
  },
  {
   "cell_type": "code",
   "execution_count": 7,
   "id": "193d0ff0-b43d-4b71-90a8-2257b83fc560",
   "metadata": {},
   "outputs": [
    {
     "name": "stdout",
     "output_type": "stream",
     "text": [
      "ABCDE\n",
      "ABCD\n",
      "ABC\n",
      "AB\n",
      "A\n"
     ]
    }
   ],
   "source": [
    "for(int i = n; i>=1; i--){\n",
    "    for(int j = 1; j<=i; j++){\n",
    "        System.out.print((char)('A'-1+j));\n",
    "    }\n",
    "    System.out.println();\n",
    "}"
   ]
  },
  {
   "cell_type": "code",
   "execution_count": 8,
   "id": "64f432d0-5800-4e3a-92a5-446b3f1c4bb6",
   "metadata": {},
   "outputs": [
    {
     "name": "stdout",
     "output_type": "stream",
     "text": [
      "a\n",
      "ba\n",
      "cba\n",
      "dcba\n",
      "edcba\n"
     ]
    }
   ],
   "source": [
    "for(int i = 1; i<=n; i++){\n",
    "    for(int j=i; j>=1; j--){\n",
    "        System.out.print((char)('a'-1+j));\n",
    "    }\n",
    "    System.out.println();\n",
    "}"
   ]
  },
  {
   "cell_type": "code",
   "execution_count": 9,
   "id": "a84b7cd8-4a30-4169-aad8-e0523b2fbb08",
   "metadata": {},
   "outputs": [
    {
     "name": "stdout",
     "output_type": "stream",
     "text": [
      "abcde\n",
      "bcde\n",
      "cde\n",
      "de\n",
      "e\n"
     ]
    }
   ],
   "source": [
    "for(int i = 1; i<=n; i++){\n",
    "    for(int j = i; j<=n; j++){\n",
    "        System.out.print((char)('a'+j-1));\n",
    "    }\n",
    "    System.out.println();\n",
    "}"
   ]
  },
  {
   "cell_type": "code",
   "execution_count": 10,
   "id": "a0ab0430-696f-4e8b-99d7-008b80b58000",
   "metadata": {},
   "outputs": [
    {
     "name": "stdout",
     "output_type": "stream",
     "text": [
      "E\n",
      "ED\n",
      "EDC\n",
      "EDCB\n",
      "EDCBA\n"
     ]
    }
   ],
   "source": [
    "for(int i = n; i>=1; i--){\n",
    "    for(int j = n; j>=i; j--){\n",
    "        System.out.print((char)('A'-1+j));\n",
    "    }\n",
    "    System.out.println();\n",
    "}"
   ]
  },
  {
   "cell_type": "code",
   "execution_count": 11,
   "id": "c1d1d077-f441-47dc-811b-046ba77a7380",
   "metadata": {},
   "outputs": [
    {
     "name": "stdout",
     "output_type": "stream",
     "text": [
      "EDCBA\n",
      "EDCB\n",
      "EDC\n",
      "ED\n",
      "E\n"
     ]
    }
   ],
   "source": [
    "for(int i = 1; i<=n; i++){\n",
    "    for(int j = n; j>=i; j--){\n",
    "        System.out.print((char)('A'+j-1));   \n",
    "    }\n",
    "    System.out.println();\n",
    "}"
   ]
  },
  {
   "cell_type": "code",
   "execution_count": 12,
   "id": "f01b1300-cbe0-4939-802a-f39087af02db",
   "metadata": {},
   "outputs": [
    {
     "name": "stdout",
     "output_type": "stream",
     "text": [
      "e\n",
      "de\n",
      "cde\n",
      "bcde\n",
      "abcde\n"
     ]
    }
   ],
   "source": [
    "for(int i=n; i>=1; i--){\n",
    "    for(int j=i; j<=n; j++){\n",
    "        System.out.print( (char)('a'+j-1) );\n",
    "    }\n",
    "    System.out.println();\n",
    "}"
   ]
  },
  {
   "cell_type": "code",
   "execution_count": 13,
   "id": "136a131f-cd12-4d0d-895f-ac631f06ac9a",
   "metadata": {},
   "outputs": [
    {
     "name": "stdout",
     "output_type": "stream",
     "text": [
      "edcba\n",
      "dcba\n",
      "cba\n",
      "ba\n",
      "a\n"
     ]
    }
   ],
   "source": [
    "for(int i = n; i>=1; i--){\n",
    "    for(int j = i; j>=1; j--){\n",
    "        System.out.print((char)('a'+j-1));\n",
    "    }\n",
    "    System.out.println();\n",
    "}"
   ]
  },
  {
   "cell_type": "code",
   "execution_count": null,
   "id": "af03f6a7-504d-4629-aa66-41af82f00057",
   "metadata": {},
   "outputs": [],
   "source": []
  }
 ],
 "metadata": {
  "kernelspec": {
   "display_name": "Java",
   "language": "java",
   "name": "java"
  },
  "language_info": {
   "codemirror_mode": "java",
   "file_extension": ".jshell",
   "mimetype": "text/x-java-source",
   "name": "Java",
   "pygments_lexer": "java",
   "version": "17.0.10+11-LTS-240"
  }
 },
 "nbformat": 4,
 "nbformat_minor": 5
}
