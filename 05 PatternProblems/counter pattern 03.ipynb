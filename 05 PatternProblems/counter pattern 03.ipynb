{
 "cells": [
  {
   "cell_type": "code",
   "execution_count": 1,
   "id": "e27891c3-0e48-46be-9eb6-715a79df8190",
   "metadata": {},
   "outputs": [],
   "source": [
    "int n = 5;"
   ]
  },
  {
   "cell_type": "code",
   "execution_count": 2,
   "id": "e21be0e9-3bc5-4fe5-8783-d909aa401e66",
   "metadata": {},
   "outputs": [
    {
     "name": "stdout",
     "output_type": "stream",
     "text": [
      "\t\t\t\t1\t\n",
      "\t\t\t2\t3\t\n",
      "\t\t4\t5\t6\t\n",
      "\t7\t8\t9\t10\t\n",
      "11\t12\t13\t14\t15\t\n"
     ]
    }
   ],
   "source": [
    "int counter = 1;\n",
    "for(int  i = 1; i<=n; i++){\n",
    "    for(int j = 1; j<=n-i; j++){\n",
    "        System.out.print(\"\\t\");\n",
    "    }\n",
    "    for(int j=1; j<=i; j++){\n",
    "        System.out.print(counter+++\"\\t\");\n",
    "    }\n",
    "    System.out.println();\n",
    "}"
   ]
  },
  {
   "cell_type": "code",
   "execution_count": 3,
   "id": "0a7dacf8-1dbc-42fd-8814-63ddca1e8378",
   "metadata": {},
   "outputs": [
    {
     "name": "stdout",
     "output_type": "stream",
     "text": [
      "\t\t\t\t15\t\n",
      "\t\t\t14\t13\t\n",
      "\t\t12\t11\t10\t\n",
      "\t9\t8\t7\t6\t\n",
      "5\t4\t3\t2\t1\t\n"
     ]
    }
   ],
   "source": [
    "int counter = 15;\n",
    "for(int  i = 1; i<=n; i++){\n",
    "    for(int j = 1; j<=n-i; j++){\n",
    "        System.out.print(\"\\t\");\n",
    "    }\n",
    "    for(int j=1; j<=i; j++){\n",
    "        System.out.print(counter--+\"\\t\");\n",
    "    }\n",
    "    System.out.println();\n",
    "}"
   ]
  },
  {
   "cell_type": "code",
   "execution_count": 4,
   "id": "cc65f6ab-5fdd-4f80-990b-c49550f98cdd",
   "metadata": {},
   "outputs": [
    {
     "name": "stdout",
     "output_type": "stream",
     "text": [
      "\t\t\t\t1\t\n",
      "\t\t\t3\t2\t\n",
      "\t\t6\t5\t4\t\n",
      "\t10\t9\t8\t7\t\n",
      "15\t14\t13\t12\t11\t\n"
     ]
    }
   ],
   "source": [
    "int counter = 1;\n",
    "for(int i = 1; i<=n; i++){\n",
    "    int c = counter;\n",
    "    for(int j = 1; j<=n-i; j++){\n",
    "        System.out.print(\"\\t\");\n",
    "    }\n",
    "    for(int j=1; j<=i; j++){\n",
    "        System.out.print(c+\"\\t\");\n",
    "        c--;\n",
    "    }\n",
    "    counter+=i+1;\n",
    "    System.out.println();\n",
    "}"
   ]
  },
  {
   "cell_type": "code",
   "execution_count": 5,
   "id": "1e8a8920-c167-4177-b82c-8bd5e5807a3f",
   "metadata": {},
   "outputs": [
    {
     "name": "stdout",
     "output_type": "stream",
     "text": [
      "\t\t\t\t15\t\n",
      "\t\t\t13\t14\t\n",
      "\t\t10\t11\t12\t\n",
      "\t6\t7\t8\t9\t\n",
      "1\t2\t3\t4\t5\t\n"
     ]
    }
   ],
   "source": [
    "int counter = n*(n+1)/2;\n",
    "for(int i = 1; i<=n; i++){\n",
    "    int c = counter;\n",
    "    for(int j = 1; j<=n-i; j++){\n",
    "        System.out.print(\"\\t\");\n",
    "    }\n",
    "    for(int j=1; j<=i; j++){\n",
    "        System.out.print(c+\"\\t\");\n",
    "        c++;\n",
    "    }\n",
    "    counter-=i+1;\n",
    "    System.out.println();\n",
    "}"
   ]
  },
  {
   "cell_type": "code",
   "execution_count": 6,
   "id": "dc0f951d-9042-4a59-9227-1dec0fc5647c",
   "metadata": {},
   "outputs": [
    {
     "name": "stdout",
     "output_type": "stream",
     "text": [
      "\t\t\t\t1\t\n",
      "\t\t\t2\t6\t\n",
      "\t\t3\t7\t10\t\n",
      "\t4\t8\t11\t13\t\n",
      "5\t9\t12\t14\t15\t\n"
     ]
    }
   ],
   "source": [
    "int counter = 1;\n",
    "for(int i = 1; i<=n; i++){\n",
    "    int c = counter;\n",
    "    for(int j = 1; j<=n-i; j++){\n",
    "        System.out.print(\"\\t\");\n",
    "    }\n",
    "    for(int j = 1; j<=i; j++){\n",
    "        System.out.print(c+\"\\t\");\n",
    "        c+=n-j;\n",
    "    }\n",
    "    counter++;\n",
    "    System.out.println();\n",
    "}"
   ]
  },
  {
   "cell_type": "code",
   "execution_count": 7,
   "id": "fbf3f9e0-c052-41f3-9502-8a7a749aa4f0",
   "metadata": {},
   "outputs": [
    {
     "name": "stdout",
     "output_type": "stream",
     "text": [
      "\t\t\t\t5\t\n",
      "\t\t\t4\t9\t\n",
      "\t\t3\t8\t12\t\n",
      "\t2\t7\t11\t14\t\n",
      "1\t6\t10\t13\t15\t\n"
     ]
    }
   ],
   "source": [
    "int counter = n;\n",
    "for(int i = 1; i<=n; i++){\n",
    "    int c = counter;\n",
    "    for(int j = 1; j<=n-i; j++){\n",
    "        System.out.print(\"\\t\");\n",
    "    }\n",
    "    for(int j = 1; j<=i; j++){\n",
    "        System.out.print(c+\"\\t\");\n",
    "        c+=n-j+1;\n",
    "    }\n",
    "    counter--;\n",
    "    System.out.println();\n",
    "}"
   ]
  },
  {
   "cell_type": "code",
   "execution_count": 8,
   "id": "c31a92ca-2ed9-475f-8f8a-c7c226a65739",
   "metadata": {},
   "outputs": [
    {
     "name": "stdout",
     "output_type": "stream",
     "text": [
      "\t\t\t\t11\t\n",
      "\t\t\t12\t7\t\n",
      "\t\t13\t8\t4\t\n",
      "\t14\t9\t5\t2\t\n",
      "15\t10\t6\t3\t1\t\n"
     ]
    }
   ],
   "source": [
    "int counter = n*(n-1)/2+1;\n",
    "for(int i = 1; i<=n; i++){\n",
    "    int c = counter;\n",
    "    for(int j = 1; j<=n-i; j++){\n",
    "        System.out.print(\"\\t\");\n",
    "    }\n",
    "    for(int j = 1; j<=i; j++){\n",
    "        System.out.print(c+\"\\t\");\n",
    "        c-=n-j+1;\n",
    "    }\n",
    "    counter++;\n",
    "    System.out.println();\n",
    "}"
   ]
  },
  {
   "cell_type": "code",
   "execution_count": 9,
   "id": "12d8895d-38be-4494-8a5d-99eea774b781",
   "metadata": {},
   "outputs": [
    {
     "name": "stdout",
     "output_type": "stream",
     "text": [
      "\t\t\t\t15\t\n",
      "\t\t\t14\t10\t\n",
      "\t\t13\t9\t6\t\n",
      "\t12\t8\t5\t3\t\n",
      "11\t7\t4\t2\t1\t\n"
     ]
    }
   ],
   "source": [
    "int counter = n*(n+1)/2;\n",
    "for(int  i = 1; i<=n; i++){\n",
    "    int c = counter;\n",
    "    for(int j = 1; j<=n-i; j++){\n",
    "        System.out.print(\"\\t\");\n",
    "    }\n",
    "    for(int j = 1;j<=i; j++){\n",
    "        System.out.print(c+\"\\t\");\n",
    "        c-=n-j;\n",
    "    }\n",
    "    counter--;\n",
    "    System.out.println();\n",
    "}"
   ]
  },
  {
   "cell_type": "code",
   "execution_count": 10,
   "id": "df1ece4d-ca3b-474a-b9f0-577382da380e",
   "metadata": {},
   "outputs": [
    {
     "name": "stdout",
     "output_type": "stream",
     "text": [
      "\t\t\t\t11\t\n",
      "\t\t\t7\t12\t\n",
      "\t\t4\t8\t13\t\n",
      "\t2\t5\t9\t14\t\n",
      "1\t3\t6\t10\t15\t\n"
     ]
    }
   ],
   "source": [
    "int counter = n*(n-1)/2+1;\n",
    "for(int  i = 1; i<=n; i++){\n",
    "    int c = counter;\n",
    "    for(int j = 1; j<=n-i; j++){\n",
    "        System.out.print(\"\\t\");\n",
    "    }\n",
    "    for(int j = 1;j<=i; j++){\n",
    "        System.out.print(c+\"\\t\");\n",
    "        c+=n-i+j+1;\n",
    "    }\n",
    "    counter-=n-i;\n",
    "    System.out.println();\n",
    "}"
   ]
  },
  {
   "cell_type": "code",
   "execution_count": 11,
   "id": "3971c739-306a-48af-bd75-66731cf46e9e",
   "metadata": {},
   "outputs": [
    {
     "name": "stdout",
     "output_type": "stream",
     "text": [
      "\t\t\t\t15\t\n",
      "\t\t\t10\t14\t\n",
      "\t\t6\t9\t13\t\n",
      "\t3\t5\t8\t12\t\n",
      "1\t2\t4\t7\t11\t\n"
     ]
    }
   ],
   "source": [
    "int counter = n*(n+1)/2;\n",
    "for(int  i = 1; i<=n; i++){\n",
    "    int c = counter;\n",
    "    for(int j = 1; j<=n-i; j++){\n",
    "        System.out.print(\"\\t\");\n",
    "    }\n",
    "    for(int j = 1;j<=i; j++){\n",
    "        System.out.print(c+\"\\t\");\n",
    "        c+=n-i+j;\n",
    "    }\n",
    "    counter-=n-i+1;\n",
    "    System.out.println();\n",
    "}"
   ]
  },
  {
   "cell_type": "code",
   "execution_count": 12,
   "id": "3526c3e2-9fc8-4ea5-b4e0-f5d07c018eb2",
   "metadata": {},
   "outputs": [
    {
     "name": "stdout",
     "output_type": "stream",
     "text": [
      "\t\t\t\t1\t\n",
      "\t\t\t6\t2\t\n",
      "\t\t10\t7\t4\t\n",
      "\t13\t11\t9\t7\t\n",
      "15\t14\t13\t12\t11\t\n"
     ]
    }
   ],
   "source": [
    "int counter = 1;\n",
    "for(int  i = 1; i<=n; i++){\n",
    "    int c = counter;\n",
    "    for(int j = 1; j<=n-i; j++){\n",
    "        System.out.print(\"\\t\");\n",
    "    }\n",
    "    for(int j = 1;j<=i; j++){\n",
    "        System.out.print(c+\"\\t\");\n",
    "        c-=n-i+1;\n",
    "    }\n",
    "    counter+=n-i+1;\n",
    "    System.out.println();\n",
    "}"
   ]
  },
  {
   "cell_type": "code",
   "execution_count": 13,
   "id": "cf9ff15b-0858-4c2d-b19f-f836c5eaa8c6",
   "metadata": {},
   "outputs": [
    {
     "name": "stdout",
     "output_type": "stream",
     "text": [
      "\t\t\t\t5\t\n",
      "\t\t\t9\t4\t\n",
      "\t\t12\t8\t3\t\n",
      "\t14\t11\t7\t2\t\n",
      "15\t13\t10\t6\t1\t\n"
     ]
    }
   ],
   "source": [
    "int counter = n;\n",
    "for(int  i = 1; i<=n; i++){\n",
    "    int c = counter;\n",
    "    for(int j = 1; j<=n-i; j++){\n",
    "        System.out.print(\"\\t\");\n",
    "    }\n",
    "    for(int j = 1;j<=i; j++){\n",
    "        System.out.print(c+\"\\t\");\n",
    "        c-=n-i+j+1;\n",
    "    }\n",
    "    counter+=n-i;\n",
    "    System.out.println();\n",
    "}"
   ]
  },
  {
   "cell_type": "code",
   "execution_count": null,
   "id": "c804fa9c-490b-4a54-b908-dcf7aab814a7",
   "metadata": {},
   "outputs": [],
   "source": []
  }
 ],
 "metadata": {
  "kernelspec": {
   "display_name": "Java",
   "language": "java",
   "name": "java"
  },
  "language_info": {
   "codemirror_mode": "java",
   "file_extension": ".jshell",
   "mimetype": "text/x-java-source",
   "name": "Java",
   "pygments_lexer": "java",
   "version": "17.0.10+11-LTS-240"
  }
 },
 "nbformat": 4,
 "nbformat_minor": 5
}
