{
 "cells": [
{
   "cell_type": "markdown",
   "id": "2b5f5cfd-3549-415e-ac56-2678fdb1707e",
   "metadata": {},
   "source": [
    "<p style=\"text-align: right;\">\n",
    "        <a href=\"https://adityakalambe01.github.io/AdityaKalambe/\" style=\"text-decoration: none; color: black; font-size: 15px; font-weight: 700;\">Click here to connect with me.</a>\n",
    "    </p>\n"
   ]
  },
  {
   "cell_type": "code",
   "execution_count": 1,
   "id": "e2168ea1-667d-4f0c-9d8e-44644947cb11",
   "metadata": {},
   "outputs": [],
   "source": [
    "int n = 5;"
   ]
  },
  {
   "cell_type": "code",
   "execution_count": 2,
   "id": "f3fb4da9-0172-4843-9511-8ddea177ea79",
   "metadata": {},
   "outputs": [
    {
     "name": "stdout",
     "output_type": "stream",
     "text": [
      "1\t2\t3\t4\t5\t\n",
      "6\t7\t8\t9\t\n",
      "10\t11\t12\t\n",
      "13\t14\t\n",
      "15\t\n"
     ]
    }
   ],
   "source": [
    "int counter = 1;\n",
    "for(int i = n; i>=1; i--){\n",
    "    for(int j = 1; j<=i; j++){\n",
    "        System.out.print(counter+++\"\\t\");\n",
    "    }\n",
    "    System.out.println();\n",
    "}"
   ]
  },
  {
   "cell_type": "code",
   "execution_count": 3,
   "id": "42b80aa0-fb70-4fd4-ade2-8b0583c65cc7",
   "metadata": {},
   "outputs": [
    {
     "name": "stdout",
     "output_type": "stream",
     "text": [
      "15\t14\t13\t12\t11\t\n",
      "10\t9\t8\t7\t\n",
      "6\t5\t4\t\n",
      "3\t2\t\n",
      "1\t\n"
     ]
    }
   ],
   "source": [
    "int counter = n*(n+1)/2;\n",
    "for(int i = n; i>=1; i--){\n",
    "    for(int j = 1; j<=i; j++){\n",
    "        System.out.print(counter--+\"\\t\");\n",
    "    }\n",
    "    System.out.println();\n",
    "}"
   ]
  },
  {
   "cell_type": "code",
   "execution_count": 4,
   "id": "0b3b16f5-b2cf-45ca-aae5-eb3c62e54559",
   "metadata": {},
   "outputs": [
    {
     "name": "stdout",
     "output_type": "stream",
     "text": [
      "5\t4\t3\t2\t1\t\n",
      "9\t8\t7\t6\t\n",
      "12\t11\t10\t\n",
      "14\t13\t\n",
      "15\t\n"
     ]
    }
   ],
   "source": [
    "int counter = n;\n",
    "for(int i = n; i>=1; i--){\n",
    "    int c = counter;\n",
    "    for(int j = 1; j<=i; j++){\n",
    "        System.out.print(c+\"\\t\");\n",
    "        c--;\n",
    "    }\n",
    "    counter+=i-1;\n",
    "    System.out.println();\n",
    "}"
   ]
  },
  {
   "cell_type": "code",
   "execution_count": 5,
   "id": "f0af0601-bdad-415f-9d16-43bab8a3c601",
   "metadata": {},
   "outputs": [
    {
     "name": "stdout",
     "output_type": "stream",
     "text": [
      "11\t12\t13\t14\t15\t\n",
      "7\t8\t9\t10\t\n",
      "4\t5\t6\t\n",
      "2\t3\t\n",
      "1\t\n"
     ]
    }
   ],
   "source": [
    "int counter = n*(n-1)/2 + 1;\n",
    "for(int i = n; i>=1; i--){\n",
    "    int c = counter;\n",
    "    for(int j = 1; j<=i; j++){\n",
    "        System.out.print(c+\"\\t\");\n",
    "        c++;\n",
    "    }\n",
    "    counter-=i-1;\n",
    "    System.out.println();\n",
    "}"
   ]
  },
  {
   "cell_type": "code",
   "execution_count": 6,
   "id": "c127adb2-18e7-4050-9e49-daee468ee18b",
   "metadata": {},
   "outputs": [
    {
     "name": "stdout",
     "output_type": "stream",
     "text": [
      "1\t6\t10\t13\t15\t\n",
      "2\t7\t11\t14\t\n",
      "3\t8\t12\t\n",
      "4\t9\t\n",
      "5\t\n"
     ]
    }
   ],
   "source": [
    "int counter = 1;\n",
    "for(int i = n; i>=1; i--){\n",
    "    int c = counter;\n",
    "    for(int j = 1; j<=i; j++){\n",
    "        System.out.print(c+\"\\t\");\n",
    "        c+=n-j+1;\n",
    "    }\n",
    "    counter++;\n",
    "    System.out.println();\n",
    "}"
   ]
  },
  {
   "cell_type": "code",
   "execution_count": 7,
   "id": "ff4febf8-90a9-4352-89a1-2f55bab3c9ce",
   "metadata": {},
   "outputs": [
    {
     "name": "stdout",
     "output_type": "stream",
     "text": [
      "5\t9\t12\t14\t15\t\n",
      "4\t8\t11\t13\t\n",
      "3\t7\t10\t\n",
      "2\t6\t\n",
      "1\t\n"
     ]
    }
   ],
   "source": [
    "int counter = n;\n",
    "for(int i = n; i>=1; i--){\n",
    "    int c = counter;\n",
    "    for(int j = 1; j<=i; j++){\n",
    "        System.out.print(c+\"\\t\");\n",
    "        c+=n-j;\n",
    "    }\n",
    "    counter--;\n",
    "    System.out.println();\n",
    "}"
   ]
  },
  {
   "cell_type": "code",
   "execution_count": 8,
   "id": "662cc712-7df4-48c2-9590-5ee03b79437d",
   "metadata": {},
   "outputs": [
    {
     "name": "stdout",
     "output_type": "stream",
     "text": [
      "15\t10\t6\t3\t1\t\n",
      "14\t9\t5\t2\t\n",
      "13\t8\t4\t\n",
      "12\t7\t\n",
      "11\t\n"
     ]
    }
   ],
   "source": [
    "int counter = n*(n+1)/2;\n",
    "for(int i = n; i>=1; i--){\n",
    "    int c = counter;\n",
    "    for(int j = 1; j<=i; j++){\n",
    "        System.out.print(c+\"\\t\");\n",
    "        c-=n-j+1;\n",
    "    }\n",
    "    counter--;\n",
    "    System.out.println();\n",
    "}"
   ]
  },
  {
   "cell_type": "code",
   "execution_count": 9,
   "id": "922a41ee-52d3-4cd0-a763-cdf2a32b6985",
   "metadata": {},
   "outputs": [
    {
     "name": "stdout",
     "output_type": "stream",
     "text": [
      "11\t7\t4\t2\t1\t\n",
      "12\t8\t5\t3\t\n",
      "13\t9\t6\t\n",
      "14\t10\t\n",
      "15\t\n"
     ]
    }
   ],
   "source": [
    "int counter = n*(n-1)/2 + 1;\n",
    "for(int i = n; i>=1; i--){\n",
    "    int c = counter;\n",
    "    for(int j = 1; j<=i; j++){\n",
    "        System.out.print(c+\"\\t\");\n",
    "        c-=n-j;\n",
    "    }\n",
    "    counter++;\n",
    "    System.out.println();\n",
    "}"
   ]
  },
  {
   "cell_type": "code",
   "execution_count": 10,
   "id": "1d7b2217-f258-43ab-9628-6fd4c815875b",
   "metadata": {},
   "outputs": [
    {
     "name": "stdout",
     "output_type": "stream",
     "text": [
      "1\t3\t6\t10\t15\t\n",
      "2\t5\t9\t14\t\n",
      "4\t8\t13\t\n",
      "7\t12\t\n",
      "11\t\n"
     ]
    }
   ],
   "source": [
    "int counter = 1;\n",
    "for(int i = 1; i<=n; i++){\n",
    "    int c = counter;\n",
    "    for(int j = 1; j<=n-i+1; j++){\n",
    "        System.out.print(c+\"\\t\");\n",
    "        c+=i+j;\n",
    "    }\n",
    "    counter+=i;\n",
    "    System.out.println();\n",
    "}"
   ]
  },
  {
   "cell_type": "code",
   "execution_count": 11,
   "id": "cc094fcb-3757-49bd-8ec7-322245b7483e",
   "metadata": {},
   "outputs": [
    {
     "name": "stdout",
     "output_type": "stream",
     "text": [
      "1\t2\t4\t7\t11\t\n",
      "3\t5\t8\t12\t\n",
      "6\t9\t13\t\n",
      "10\t14\t\n",
      "15\t\n"
     ]
    }
   ],
   "source": [
    "int counter = 1;\n",
    "for(int i = 1; i<=n; i++){\n",
    "    int c = counter;\n",
    "    for(int j = 1; j<=n-i+1; j++){\n",
    "        System.out.print(c+\"\\t\");\n",
    "        c+=i+j-1;\n",
    "    }\n",
    "    counter+=i+1;\n",
    "    System.out.println();\n",
    "}"
   ]
  },
  {
   "cell_type": "code",
   "execution_count": 12,
   "id": "406dcbb4-a673-40c1-bfb2-28513391657b",
   "metadata": {},
   "outputs": [
    {
     "name": "stdout",
     "output_type": "stream",
     "text": [
      "15\t13\t10\t6\t1\t\n",
      "14\t11\t7\t2\t\n",
      "12\t8\t3\t\n",
      "9\t4\t\n",
      "5\t\n"
     ]
    }
   ],
   "source": [
    "int counter = n*(n+1)/2;\n",
    "for(int i = 1; i<=n; i++){\n",
    "    int c = counter;\n",
    "    for(int j = 1; j<=n-i+1; j++){\n",
    "        System.out.print(c+\"\\t\");\n",
    "        c-=i+j;\n",
    "    }\n",
    "    counter-=i;\n",
    "    System.out.println();\n",
    "}"
   ]
  },
  {
   "cell_type": "code",
   "execution_count": 13,
   "id": "263b8c61-8d7f-4726-a584-869efd87b023",
   "metadata": {},
   "outputs": [
    {
     "name": "stdout",
     "output_type": "stream",
     "text": [
      "15\t14\t12\t9\t5\t\n",
      "13\t11\t8\t4\t\n",
      "10\t7\t3\t\n",
      "6\t2\t\n",
      "1\t\n"
     ]
    }
   ],
   "source": [
    "int counter = n*(n+1)/2;\n",
    "for(int i = 1; i<=n; i++){\n",
    "    int c = counter;\n",
    "    for(int j = 1; j<=n-i+1; j++){\n",
    "        System.out.print(c+\"\\t\");\n",
    "        c-=i+j-1;\n",
    "    }\n",
    "    counter-=i+1;\n",
    "    System.out.println();\n",
    "}"
   ]
  },
  {
   "cell_type": "code",
   "execution_count": null,
   "id": "a672d48e-fe77-4956-906a-e6ccd877a63c",
   "metadata": {},
   "outputs": [],
   "source": []
  }
 ],
 "metadata": {
  "kernelspec": {
   "display_name": "Java",
   "language": "java",
   "name": "java"
  },
  "language_info": {
   "codemirror_mode": "java",
   "file_extension": ".jshell",
   "mimetype": "text/x-java-source",
   "name": "Java",
   "pygments_lexer": "java",
   "version": "17.0.10+11-LTS-240"
  }
 },
 "nbformat": 4,
 "nbformat_minor": 5
}
