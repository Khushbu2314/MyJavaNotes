{
 "cells": [
  {
   "cell_type": "markdown",
   "id": "ea0be8da-9b0f-4941-8f2c-1549d574ae5d",
   "metadata": {},
   "source": [
    "# Control structure practice"
   ]
  },
  {
   "cell_type": "code",
   "execution_count": 1,
   "id": "f28f7cd2-870d-4a51-a7fe-bc41c23d058a",
   "metadata": {},
   "outputs": [],
   "source": [
    "int n = 5;"
   ]
  },
  {
   "cell_type": "code",
   "execution_count": 2,
   "id": "347129aa-5b29-4dd2-8171-5921603e1363",
   "metadata": {},
   "outputs": [
    {
     "name": "stdout",
     "output_type": "stream",
     "text": [
      "*\n",
      "**\n",
      "***\n",
      "****\n",
      "*****\n",
      "****\n",
      "***\n",
      "**\n",
      "*\n"
     ]
    }
   ],
   "source": [
    "for(int i = 1; i<=n; i++){\n",
    "    for(int j = 1; j<=i; j++){\n",
    "        System.out.print(\"*\");\n",
    "    }\n",
    "    System.out.println();\n",
    "}\n",
    "for(int i = n-1; i>=1; i--){\n",
    "    for(int j = 1; j<=i; j++){\n",
    "        System.out.print(\"*\");\n",
    "    }\n",
    "    System.out.println();\n",
    "}"
   ]
  },
  {
   "cell_type": "code",
   "execution_count": 3,
   "id": "7330c8cd-2d3d-4651-9f5d-e72444334633",
   "metadata": {},
   "outputs": [
    {
     "name": "stdout",
     "output_type": "stream",
     "text": [
      "1\n",
      "22\n",
      "333\n",
      "4444\n",
      "55555\n",
      "4444\n",
      "333\n",
      "22\n",
      "1\n"
     ]
    }
   ],
   "source": [
    "//1\n",
    "\n",
    "for(int i = 1; i<=n; i++){\n",
    "    for(int j = 1; j<=i; j++){\n",
    "        System.out.print(i);\n",
    "    }\n",
    "    System.out.println();\n",
    "}\n",
    "for(int i = n-1; i>=1; i--){\n",
    "    for(int j = 1; j<=i; j++){\n",
    "        System.out.print(i);\n",
    "    }\n",
    "    System.out.println();\n",
    "}"
   ]
  },
  {
   "cell_type": "code",
   "execution_count": 4,
   "id": "448b0c92-0747-49b6-94d6-31803e6792f1",
   "metadata": {},
   "outputs": [
    {
     "name": "stdout",
     "output_type": "stream",
     "text": [
      "5\n",
      "44\n",
      "333\n",
      "2222\n",
      "11111\n",
      "2222\n",
      "333\n",
      "44\n",
      "5\n"
     ]
    }
   ],
   "source": [
    "//2\n",
    "\n",
    "for(int i = n; i>=1; i--){\n",
    "    for(int j = i; j<=n; j++){\n",
    "        System.out.print(i);\n",
    "    }\n",
    "    System.out.println();\n",
    "}\n",
    "for(int i = 2; i<=n; i++){\n",
    "    for(int j = i; j<=n; j++){\n",
    "        System.out.print(i);\n",
    "    }\n",
    "    System.out.println();\n",
    "}"
   ]
  },
  {
   "cell_type": "code",
   "execution_count": 5,
   "id": "d925eeb1-e038-4018-a968-ddc95086a4d7",
   "metadata": {},
   "outputs": [
    {
     "name": "stdout",
     "output_type": "stream",
     "text": [
      "1\n",
      "12\n",
      "123\n",
      "1234\n",
      "12345\n",
      "1234\n",
      "123\n",
      "12\n",
      "1\n"
     ]
    }
   ],
   "source": [
    "//3\n",
    "\n",
    "for(int i = 1; i<=n; i++){\n",
    "    for(int j = 1; j<=i; j++){\n",
    "        System.out.print(j);\n",
    "    }\n",
    "    System.out.println();\n",
    "}\n",
    "for(int i = n-1; i>=1; i--){\n",
    "    for(int j = 1; j<=i; j++){\n",
    "        System.out.print(j);\n",
    "    }\n",
    "    System.out.println();\n",
    "}"
   ]
  },
  {
   "cell_type": "code",
   "execution_count": 6,
   "id": "d176cba8-c235-4469-8de7-b808362d301e",
   "metadata": {},
   "outputs": [
    {
     "name": "stdout",
     "output_type": "stream",
     "text": [
      "1\n",
      "21\n",
      "321\n",
      "4321\n",
      "54321\n",
      "4321\n",
      "321\n",
      "21\n",
      "1\n"
     ]
    }
   ],
   "source": [
    "//4\n",
    "\n",
    "for(int i = 1; i<=n; i++){\n",
    "    for(int j = i; j>=1; j--){\n",
    "        System.out.print(j);\n",
    "    }\n",
    "    System.out.println();\n",
    "}\n",
    "for(int i = n-1; i>=1; i--){\n",
    "    for(int j = i; j>=1; j--){\n",
    "        System.out.print(j);\n",
    "    }\n",
    "    System.out.println();\n",
    "}"
   ]
  },
  {
   "cell_type": "code",
   "execution_count": 7,
   "id": "debb9cd1-caf4-4346-ac45-d592f0e1ed54",
   "metadata": {},
   "outputs": [
    {
     "name": "stdout",
     "output_type": "stream",
     "text": [
      "5\n",
      "54\n",
      "543\n",
      "5432\n",
      "54321\n",
      "5432\n",
      "543\n",
      "54\n",
      "5\n"
     ]
    }
   ],
   "source": [
    "//5\n",
    "\n",
    "for(int i = n; i>=1; i--){\n",
    "    for(int j = n; j>=i; j--){\n",
    "        System.out.print(j);\n",
    "    }\n",
    "    System.out.println();\n",
    "}\n",
    "for(int i = 2; i<=n; i++){\n",
    "    for(int j = n; j>=i; j--){\n",
    "        System.out.print(j);\n",
    "    }\n",
    "    System.out.println();\n",
    "}"
   ]
  },
  {
   "cell_type": "code",
   "execution_count": 8,
   "id": "386dbf7f-c4bb-4d11-b72b-bb6b8d3a30c5",
   "metadata": {},
   "outputs": [
    {
     "name": "stdout",
     "output_type": "stream",
     "text": [
      "5\n",
      "45\n",
      "345\n",
      "2345\n",
      "12345\n",
      "2345\n",
      "345\n",
      "45\n",
      "5\n"
     ]
    }
   ],
   "source": [
    "//6\n",
    "\n",
    "for(int i = n; i>=1; i--){\n",
    "    for(int j = i; j<=n; j++){\n",
    "        System.out.print(j);\n",
    "    }\n",
    "    System.out.println();\n",
    "}\n",
    "\n",
    "for(int i = 2; i<=n; i++){\n",
    "    for(int j = i; j<=n; j++){\n",
    "        System.out.print(j);\n",
    "    }\n",
    "    System.out.println();\n",
    "}"
   ]
  },
  {
   "cell_type": "code",
   "execution_count": 9,
   "id": "99a6572e-0c25-4a63-a3ee-c87261bc3f89",
   "metadata": {},
   "outputs": [
    {
     "name": "stdout",
     "output_type": "stream",
     "text": [
      "55555\n",
      "4444\n",
      "333\n",
      "22\n",
      "1\n",
      "22\n",
      "333\n",
      "4444\n",
      "55555\n"
     ]
    }
   ],
   "source": [
    "//7\n",
    "\n",
    "for(int i = n; i>=1; i--){\n",
    "    for(int j = 1; j<=i; j++){\n",
    "        System.out.print(i);\n",
    "    }\n",
    "    System.out.println();\n",
    "}\n",
    "for(int i = 2; i<=n; i++){\n",
    "    for(int j = 1; j<=i; j++){\n",
    "        System.out.print(i);\n",
    "    }\n",
    "    System.out.println();\n",
    "}"
   ]
  },
  {
   "cell_type": "code",
   "execution_count": 10,
   "id": "3ffa3096-f52f-472f-9d8a-8662be55bdb0",
   "metadata": {},
   "outputs": [
    {
     "name": "stdout",
     "output_type": "stream",
     "text": [
      "11111\n",
      "2222\n",
      "333\n",
      "44\n",
      "5\n",
      "44\n",
      "333\n",
      "2222\n",
      "11111\n"
     ]
    }
   ],
   "source": [
    "//8\n",
    "\n",
    "for(int i = 1; i<=n; i++){\n",
    "    for(int j = i; j<=n; j++){\n",
    "        System.out.print(i);\n",
    "    }\n",
    "    System.out.println();\n",
    "}\n",
    "for(int i = n-1; i>=1; i--){\n",
    "    for(int j = i; j<=n; j++){\n",
    "        System.out.print(i);\n",
    "    }\n",
    "    System.out.println();\n",
    "}"
   ]
  },
  {
   "cell_type": "code",
   "execution_count": 11,
   "id": "d1184c2c-3c55-420f-b453-cf6577a09280",
   "metadata": {},
   "outputs": [
    {
     "name": "stdout",
     "output_type": "stream",
     "text": [
      "12345\n",
      "1234\n",
      "123\n",
      "12\n",
      "1\n",
      "12\n",
      "123\n",
      "1234\n",
      "12345\n"
     ]
    }
   ],
   "source": [
    "//9\n",
    "\n",
    "for(int i = n; i>=1; i--){\n",
    "    for(int j = 1; j<=i; j++){\n",
    "        System.out.print(j);\n",
    "    }\n",
    "    System.out.println();\n",
    "}\n",
    "for(int i = 2; i<=n; i++){\n",
    "    for(int j = 1; j<=i; j++){\n",
    "        System.out.print(j);\n",
    "    }\n",
    "    System.out.println();\n",
    "}"
   ]
  },
  {
   "cell_type": "code",
   "execution_count": 12,
   "id": "f1bf061e-ad35-4fe7-b0c9-2622be8623c8",
   "metadata": {},
   "outputs": [
    {
     "name": "stdout",
     "output_type": "stream",
     "text": [
      "54321\n",
      "4321\n",
      "321\n",
      "21\n",
      "1\n",
      "21\n",
      "321\n",
      "4321\n",
      "54321\n"
     ]
    }
   ],
   "source": [
    "//10\n",
    "\n",
    "for(int i = n; i>=1; i--){\n",
    "    for(int j = i; j>=1; j--){\n",
    "        System.out.print(j);\n",
    "    }\n",
    "    System.out.println();\n",
    "}\n",
    "for(int i = 2; i<=n; i++){\n",
    "    for(int j = i; j>=1; j--){\n",
    "        System.out.print(j);\n",
    "    }\n",
    "    System.out.println();\n",
    "}"
   ]
  },
  {
   "cell_type": "code",
   "execution_count": 13,
   "id": "0ea133a9-1c27-43be-b243-2b760fe5cf50",
   "metadata": {},
   "outputs": [
    {
     "name": "stdout",
     "output_type": "stream",
     "text": [
      "54321\n",
      "5432\n",
      "543\n",
      "54\n",
      "5\n",
      "54\n",
      "543\n",
      "5432\n",
      "54321\n"
     ]
    }
   ],
   "source": [
    "//11\n",
    "\n",
    "for(int i = 1; i<=n; i++){\n",
    "    for(int j = n; j>=i; j--){\n",
    "        System.out.print(j);\n",
    "    }\n",
    "    System.out.println();\n",
    "}\n",
    "for(int i = n-1; i>=1; i--){\n",
    "    for(int j = n; j>=i; j--){\n",
    "        System.out.print(j);\n",
    "    }\n",
    "    System.out.println();\n",
    "}"
   ]
  },
  {
   "cell_type": "code",
   "execution_count": 14,
   "id": "95decf6f-ec47-4835-86b7-face2197d76b",
   "metadata": {},
   "outputs": [
    {
     "name": "stdout",
     "output_type": "stream",
     "text": [
      "12345\n",
      "2345\n",
      "345\n",
      "45\n",
      "5\n",
      "45\n",
      "345\n",
      "2345\n",
      "12345\n"
     ]
    }
   ],
   "source": [
    "//12\n",
    "\n",
    "for(int i = 1; i<=n; i++){\n",
    "    for(int j = i; j<=n; j++){\n",
    "        System.out.print(j);\n",
    "    }\n",
    "    System.out.println();\n",
    "}\n",
    "\n",
    "for(int i = n-1; i>=1; i--){\n",
    "    for(int j = i; j<=n; j++){\n",
    "        System.out.print(j);\n",
    "    }\n",
    "    System.out.println();\n",
    "}"
   ]
  },
  {
   "cell_type": "code",
   "execution_count": 15,
   "id": "0d23816d-bfcb-4bda-bb4e-0a78a9710c75",
   "metadata": {},
   "outputs": [
    {
     "name": "stdout",
     "output_type": "stream",
     "text": [
      "    1\n",
      "   22\n",
      "  333\n",
      " 4444\n",
      "55555\n",
      " 4444\n",
      "  333\n",
      "   22\n",
      "    1\n"
     ]
    }
   ],
   "source": [
    "//13\n",
    "\n",
    "for(int i = 1; i<=n; i++){\n",
    "    //spaces loop\n",
    "    for(int j = 1; j<=n-i; j++){\n",
    "        System.out.print(\" \");\n",
    "    }\n",
    "    for(int j = 1; j<=i; j++){\n",
    "        System.out.print(i);\n",
    "    }\n",
    "    System.out.println();\n",
    "}\n",
    "for(int i = n-1; i>=1; i--){\n",
    "    //spaces loop\n",
    "    for(int j = 1; j<=n-i; j++){\n",
    "        System.out.print(\" \");\n",
    "    }\n",
    "    for(int j = 1; j<=i; j++){\n",
    "        System.out.print(i);\n",
    "    }\n",
    "    System.out.println();\n",
    "}"
   ]
  },
  {
   "cell_type": "code",
   "execution_count": 16,
   "id": "f7cbb60d-d63e-4e0c-9775-5b6a3b67a541",
   "metadata": {},
   "outputs": [
    {
     "name": "stdout",
     "output_type": "stream",
     "text": [
      "    5\n",
      "   44\n",
      "  333\n",
      " 2222\n",
      "11111\n",
      " 2222\n",
      "  333\n",
      "   44\n",
      "    5\n"
     ]
    }
   ],
   "source": [
    "//14\n",
    "\n",
    "for(int i = n; i>=1; i--){\n",
    "    for(int j = 1; j<i; j++){\n",
    "        System.out.print(\" \");\n",
    "    }\n",
    "    for(int j = i; j<=n; j++){\n",
    "        System.out.print(i);\n",
    "    }\n",
    "    System.out.println();\n",
    "}\n",
    "for(int i = 2; i<=n; i++){\n",
    "    for(int j = 1; j<i; j++){\n",
    "        System.out.print(\" \");\n",
    "    }\n",
    "    for(int j = i; j<=n; j++){\n",
    "        System.out.print(i);\n",
    "    }\n",
    "    System.out.println();\n",
    "}"
   ]
  },
  {
   "cell_type": "code",
   "execution_count": 17,
   "id": "83d7e33d-4133-425b-b5e9-bbfd897fa60f",
   "metadata": {},
   "outputs": [
    {
     "name": "stdout",
     "output_type": "stream",
     "text": [
      "     1\n",
      "    12\n",
      "   123\n",
      "  1234\n",
      " 12345\n",
      "  1234\n",
      "   123\n",
      "    12\n",
      "     1\n"
     ]
    }
   ],
   "source": [
    "//15\n",
    "\n",
    "for(int i = 1; i<=n; i++){\n",
    "    for(int j = i; j<=n; j++){\n",
    "        System.out.print(\" \");\n",
    "    }\n",
    "    for(int j = 1; j<=i; j++){\n",
    "        System.out.print(j);\n",
    "    }\n",
    "    System.out.println();\n",
    "}\n",
    "for(int i = n-1; i>=1; i--){\n",
    "    for(int j = i; j<=n; j++){\n",
    "        System.out.print(\" \");\n",
    "    }\n",
    "    for(int j = 1; j<=i; j++){\n",
    "        System.out.print(j);\n",
    "    }\n",
    "    System.out.println();\n",
    "}"
   ]
  },
  {
   "cell_type": "code",
   "execution_count": 18,
   "id": "a2ad46b3-d7cc-4421-ac36-18eb51b65271",
   "metadata": {},
   "outputs": [
    {
     "name": "stdout",
     "output_type": "stream",
     "text": [
      "     1\n",
      "    21\n",
      "   321\n",
      "  4321\n",
      " 54321\n",
      "  4321\n",
      "   321\n",
      "    21\n",
      "     1\n"
     ]
    }
   ],
   "source": [
    "//16\n",
    "\n",
    "for(int i = 1; i<=n; i++){\n",
    "    for(int j = i; j<=n; j++){\n",
    "        System.out.print(\" \");\n",
    "    }\n",
    "    \n",
    "    for(int j = i; j>=1; j--){\n",
    "        System.out.print(j);\n",
    "    }\n",
    "    System.out.println();\n",
    "}\n",
    "for(int i = n-1; i>=1; i--){\n",
    "    for(int j = i; j<=n; j++){\n",
    "        System.out.print(\" \");\n",
    "    }\n",
    "    \n",
    "    for(int j = i; j>=1; j--){\n",
    "        System.out.print(j);\n",
    "    }\n",
    "    System.out.println();\n",
    "}"
   ]
  },
  {
   "cell_type": "code",
   "execution_count": 19,
   "id": "729be0a7-6feb-4ded-84e7-127e56f78fb9",
   "metadata": {},
   "outputs": [
    {
     "name": "stdout",
     "output_type": "stream",
     "text": [
      "    5\n",
      "   54\n",
      "  543\n",
      " 5432\n",
      "54321\n",
      " 5432\n",
      "  543\n",
      "   54\n",
      "    5\n"
     ]
    }
   ],
   "source": [
    "//17\n",
    "\n",
    "for(int i = n; i>=1; i--){\n",
    "    for(int j = 1; j<i; j++){\n",
    "        System.out.print(\" \");\n",
    "    }\n",
    "    for(int j = n; j>=i; j--){\n",
    "        System.out.print(j);\n",
    "    }\n",
    "    System.out.println();\n",
    "}\n",
    "for(int i = 2; i<=n; i++){\n",
    "    for(int j = 1; j<i; j++){\n",
    "        System.out.print(\" \");\n",
    "    }\n",
    "    for(int j = n; j>=i; j--){\n",
    "        System.out.print(j);\n",
    "    }\n",
    "    System.out.println();\n",
    "}"
   ]
  },
  {
   "cell_type": "code",
   "execution_count": 20,
   "id": "98cdd752-52c7-49e1-a8e2-c9496fafc9de",
   "metadata": {},
   "outputs": [
    {
     "name": "stdout",
     "output_type": "stream",
     "text": [
      "    5\n",
      "   45\n",
      "  345\n",
      " 2345\n",
      "12345\n",
      " 2345\n",
      "  345\n",
      "   45\n",
      "    5\n"
     ]
    }
   ],
   "source": [
    "//18\n",
    "\n",
    "for(int i = n; i>=1; i--){\n",
    "    for(int j = i; j>1; j--){\n",
    "        System.out.print(\" \");\n",
    "    }\n",
    "    for(int j = i; j<=n; j++){\n",
    "        System.out.print(j);\n",
    "    }\n",
    "    System.out.println();\n",
    "}\n",
    "\n",
    "for(int i = 2; i<=n; i++){\n",
    "    for(int j = i; j>1; j--){\n",
    "        System.out.print(\" \");\n",
    "    }\n",
    "    for(int j = i; j<=n; j++){\n",
    "        System.out.print(j);\n",
    "    }\n",
    "    System.out.println();\n",
    "}"
   ]
  },
  {
   "cell_type": "code",
   "execution_count": 21,
   "id": "6f02530d-fc39-49f5-af63-24d07f52024c",
   "metadata": {},
   "outputs": [
    {
     "name": "stdout",
     "output_type": "stream",
     "text": [
      "55555\n",
      " 4444\n",
      "  333\n",
      "   22\n",
      "    1\n",
      "   22\n",
      "  333\n",
      " 4444\n",
      "55555\n"
     ]
    }
   ],
   "source": [
    "//19\n",
    "\n",
    "for(int i = n; i>=1; i--){\n",
    "    for(int j = i; j<n; j++){\n",
    "        System.out.print(\" \");\n",
    "    }\n",
    "    for(int j = 1; j<=i; j++){\n",
    "        System.out.print(i);\n",
    "    }\n",
    "    System.out.println();\n",
    "}\n",
    "for(int i = 2; i<=n; i++){\n",
    "    for(int j = i; j<n; j++){\n",
    "        System.out.print(\" \");\n",
    "    }\n",
    "    for(int j = 1; j<=i; j++){\n",
    "        System.out.print(i);\n",
    "    }\n",
    "    System.out.println();\n",
    "}"
   ]
  },
  {
   "cell_type": "code",
   "execution_count": 22,
   "id": "4a234d03-508c-4346-855f-cdd7d8d9a8e9",
   "metadata": {},
   "outputs": [
    {
     "name": "stdout",
     "output_type": "stream",
     "text": [
      "11111\n",
      " 2222\n",
      "  333\n",
      "   44\n",
      "    5\n",
      "   44\n",
      "  333\n",
      " 2222\n",
      "11111\n"
     ]
    }
   ],
   "source": [
    "//20\n",
    "\n",
    "for(int i = 1; i<=n; i++){\n",
    "    for(int j=1; j<i; j++){\n",
    "        System.out.print(\" \");\n",
    "    }\n",
    "    for(int j = i; j<=n; j++){\n",
    "        System.out.print(i);\n",
    "    }\n",
    "    System.out.println();\n",
    "}\n",
    "for(int i = n-1; i>=1; i--){\n",
    "    for(int j=1; j<i; j++){\n",
    "        System.out.print(\" \");\n",
    "    }\n",
    "    for(int j = i; j<=n; j++){\n",
    "        System.out.print(i);\n",
    "    }\n",
    "    System.out.println();\n",
    "}"
   ]
  },
  {
   "cell_type": "code",
   "execution_count": 23,
   "id": "01cfd976-2c33-4c12-b657-2fbfa2409aaf",
   "metadata": {},
   "outputs": [
    {
     "name": "stdout",
     "output_type": "stream",
     "text": [
      "12345\n",
      " 1234\n",
      "  123\n",
      "   12\n",
      "    1\n",
      "   12\n",
      "  123\n",
      " 1234\n",
      "12345\n"
     ]
    }
   ],
   "source": [
    "//21\n",
    "\n",
    "for(int i = n; i>=1; i--){\n",
    "    for(int j=i; j<n; j++){\n",
    "        System.out.print(\" \");\n",
    "    }\n",
    "    for(int j = 1; j<=i; j++){\n",
    "        System.out.print(j);\n",
    "    }\n",
    "    System.out.println();\n",
    "}\n",
    "for(int i = 2; i<=n; i++){\n",
    "    for(int j=i; j<n; j++){\n",
    "        System.out.print(\" \");\n",
    "    }\n",
    "    for(int j = 1; j<=i; j++){\n",
    "        System.out.print(j);\n",
    "    }\n",
    "    System.out.println();\n",
    "}"
   ]
  },
  {
   "cell_type": "code",
   "execution_count": 24,
   "id": "caefb94e-e39e-4a89-9f80-714e2628e7ab",
   "metadata": {},
   "outputs": [
    {
     "name": "stdout",
     "output_type": "stream",
     "text": [
      "54321\n",
      " 4321\n",
      "  321\n",
      "   21\n",
      "    1\n",
      "   21\n",
      "  321\n",
      " 4321\n",
      "54321\n"
     ]
    }
   ],
   "source": [
    "//22\n",
    "\n",
    "for(int i = n; i>=1; i--){\n",
    "    for(int j=i; j<n; j++){\n",
    "        System.out.print(\" \");\n",
    "    }\n",
    "    for(int j = i; j>=1; j--){\n",
    "        System.out.print(j);\n",
    "    }\n",
    "    System.out.println();\n",
    "}\n",
    "for(int i = 2; i<=n; i++){\n",
    "    for(int j=i; j<n; j++){\n",
    "        System.out.print(\" \");\n",
    "    }\n",
    "    for(int j = i; j>=1; j--){\n",
    "        System.out.print(j);\n",
    "    }\n",
    "    System.out.println();\n",
    "}"
   ]
  },
  {
   "cell_type": "code",
   "execution_count": 25,
   "id": "9d08dde2-3190-44fe-8957-e2a207fa4389",
   "metadata": {},
   "outputs": [
    {
     "name": "stdout",
     "output_type": "stream",
     "text": [
      "54321\n",
      " 5432\n",
      "  543\n",
      "   54\n",
      "    5\n",
      "   54\n",
      "  543\n",
      " 5432\n",
      "54321\n"
     ]
    }
   ],
   "source": [
    "//23\n",
    "\n",
    "for(int i = 1; i<=n; i++){\n",
    "    for(int j=1; j<i; j++){\n",
    "        System.out.print(\" \");\n",
    "    }\n",
    "    for(int j = n; j>=i; j--){\n",
    "        System.out.print(j);\n",
    "    }\n",
    "    System.out.println();\n",
    "}\n",
    "for(int i = n-1; i>=1; i--){\n",
    "    for(int j=1; j<i; j++){\n",
    "        System.out.print(\" \");\n",
    "    }\n",
    "    for(int j = n; j>=i; j--){\n",
    "        System.out.print(j);\n",
    "    }\n",
    "    System.out.println();\n",
    "}"
   ]
  },
  {
   "cell_type": "code",
   "execution_count": 26,
   "id": "4488b429-349f-4afb-adca-475fd0ccc291",
   "metadata": {},
   "outputs": [
    {
     "name": "stdout",
     "output_type": "stream",
     "text": [
      "12345\n",
      " 2345\n",
      "  345\n",
      "   45\n",
      "    5\n",
      "   45\n",
      "  345\n",
      " 2345\n",
      "12345\n"
     ]
    }
   ],
   "source": [
    "//24\n",
    "\n",
    "for(int i = 1; i<=n; i++){\n",
    "    for(int j=1; j<i; j++){\n",
    "        System.out.print(\" \");\n",
    "    }\n",
    "    for(int j = i; j<=n; j++){\n",
    "        System.out.print(j);\n",
    "    }\n",
    "    System.out.println();\n",
    "}\n",
    "\n",
    "for(int i = n-1; i>=1; i--){\n",
    "    for(int j=1; j<i; j++){\n",
    "        System.out.print(\" \");\n",
    "    }\n",
    "    for(int j = i; j<=n; j++){\n",
    "        System.out.print(j);\n",
    "    }\n",
    "    System.out.println();\n",
    "}"
   ]
  },
  {
   "cell_type": "code",
   "execution_count": null,
   "id": "e09b1e43-5d98-4467-a95e-0e229f9e5bdf",
   "metadata": {},
   "outputs": [],
   "source": []
  }
 ],
 "metadata": {
  "kernelspec": {
   "display_name": "Java",
   "language": "java",
   "name": "java"
  },
  "language_info": {
   "codemirror_mode": "java",
   "file_extension": ".jshell",
   "mimetype": "text/x-java-source",
   "name": "Java",
   "pygments_lexer": "java",
   "version": "17.0.10+11-LTS-240"
  }
 },
 "nbformat": 4,
 "nbformat_minor": 5
}
